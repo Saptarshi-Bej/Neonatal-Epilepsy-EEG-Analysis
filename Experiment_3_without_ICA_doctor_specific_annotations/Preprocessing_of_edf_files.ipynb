{
 "cells": [
  {
   "cell_type": "code",
   "execution_count": 1,
   "id": "e726672e-5522-4f74-8a14-f7d91e734302",
   "metadata": {},
   "outputs": [],
   "source": [
    "import mne\n",
    "import pandas as pd\n",
    "import numpy as np\n",
    "import os\n",
    "from tqdm import tqdm\n",
    "import pickle\n",
    "import seaborn as sns\n",
    "import matplotlib.pylab as plt"
   ]
  },
  {
   "cell_type": "code",
   "execution_count": 2,
   "id": "08a0eed8-765c-4973-857d-6a3c42477045",
   "metadata": {},
   "outputs": [],
   "source": [
    "%config InlineBackend.figure_format = 'svg'"
   ]
  },
  {
   "cell_type": "markdown",
   "id": "09a9dbb0-4580-4edb-af65-95c00f6c66f7",
   "metadata": {},
   "source": [
    "# Remove problematic edf files and write the data"
   ]
  },
  {
   "cell_type": "code",
   "execution_count": 3,
   "id": "a3f0aa94-abc8-4c89-ac80-1936bd99dbd3",
   "metadata": {},
   "outputs": [],
   "source": [
    "def change_channel_names(raw):\n",
    "    # Drop the last two channels (assuming they are ECG and Resp)\n",
    "    raw.drop_channels(raw.ch_names[-2:])\n",
    "\n",
    "    # Normalize channel names: remove 'EEG ' and any '-Ref' or '-REF'\n",
    "    new_ch_names = {ch: ch[4:].replace('-Ref', '').replace('-REF', '') for ch in raw.ch_names}\n",
    "    raw.rename_channels(new_ch_names)\n",
    "\n",
    "    # Apply the standard montage\n",
    "    montage = mne.channels.make_standard_montage('standard_1020')\n",
    "    raw.set_montage(montage, on_missing='ignore')\n",
    "\n",
    "    return raw"
   ]
  },
  {
   "cell_type": "code",
   "execution_count": 4,
   "id": "22eed11a-c141-4bd8-87d5-7d874e644e8e",
   "metadata": {},
   "outputs": [],
   "source": [
    "def remove_artifactuals_using_ICA(raw):\n",
    "  ica = mne.preprocessing.ICA(n_components=19, random_state=42)\n",
    "  ica.fit(raw.copy().filter(1, 40))\n",
    "  bad_indices = []\n",
    "  for channel in raw.ch_names:\n",
    "    bad_idx, scores = ica.find_bads_eog(raw, channel, threshold=2)\n",
    "    bad_indices.extend(bad_idx)\n",
    "\n",
    "  bad_indices = list(set(bad_indices))\n",
    "  ica.exclude = bad_indices\n",
    "  corrected_data = ica.apply(raw.copy(), exclude = bad_indices)\n",
    "  return corrected_data"
   ]
  },
  {
   "cell_type": "code",
   "execution_count": 5,
   "id": "275731b7-6f65-4435-a054-b9890b005436",
   "metadata": {
    "scrolled": true
   },
   "outputs": [
    {
     "name": "stderr",
     "output_type": "stream",
     "text": [
      "  0%|          | 0/79 [00:00<?, ?it/s]"
     ]
    },
    {
     "name": "stdout",
     "output_type": "stream",
     "text": [
      "Extracting EDF parameters from C:\\Users\\user\\Desktop\\Manuscript_Projects_IISERTVM\\EEG data\\dataset\\eeg1.edf...\n",
      "EDF file detected\n",
      "Setting channel info structure...\n",
      "Creating raw.info structure...\n",
      "Reading 0 ... 1790207  =      0.000 ...  6992.996 secs...\n"
     ]
    },
    {
     "name": "stderr",
     "output_type": "stream",
     "text": [
      "  1%|▏         | 1/79 [00:00<00:47,  1.65it/s]"
     ]
    },
    {
     "name": "stdout",
     "output_type": "stream",
     "text": [
      "Extracting EDF parameters from C:\\Users\\user\\Desktop\\Manuscript_Projects_IISERTVM\\EEG data\\dataset\\eeg2.edf...\n",
      "EDF file detected\n",
      "Setting channel info structure...\n",
      "Creating raw.info structure...\n",
      "Reading 0 ... 962815  =      0.000 ...  3760.996 secs...\n"
     ]
    },
    {
     "name": "stderr",
     "output_type": "stream",
     "text": [
      "C:\\Users\\user\\AppData\\Local\\Temp\\ipykernel_13516\\2318526172.py:7: RuntimeWarning: Channels contain different highpass filters. Highest filter setting will be stored.\n",
      "  raw = mne.io.read_raw_edf(file_path + str(patient_file) + \".edf\", preload=True)\n",
      "C:\\Users\\user\\AppData\\Local\\Temp\\ipykernel_13516\\2318526172.py:7: RuntimeWarning: Channels contain different lowpass filters. Lowest filter setting will be stored.\n",
      "  raw = mne.io.read_raw_edf(file_path + str(patient_file) + \".edf\", preload=True)\n",
      "  3%|▎         | 2/79 [00:00<00:32,  2.35it/s]"
     ]
    },
    {
     "name": "stdout",
     "output_type": "stream",
     "text": [
      "Extracting EDF parameters from C:\\Users\\user\\Desktop\\Manuscript_Projects_IISERTVM\\EEG data\\dataset\\eeg3.edf...\n",
      "EDF file detected\n",
      "Setting channel info structure...\n",
      "Creating raw.info structure...\n",
      "Reading 0 ... 1129471  =      0.000 ...  4411.996 secs...\n"
     ]
    },
    {
     "name": "stderr",
     "output_type": "stream",
     "text": [
      "C:\\Users\\user\\AppData\\Local\\Temp\\ipykernel_13516\\2318526172.py:7: RuntimeWarning: Channels contain different highpass filters. Highest filter setting will be stored.\n",
      "  raw = mne.io.read_raw_edf(file_path + str(patient_file) + \".edf\", preload=True)\n",
      "C:\\Users\\user\\AppData\\Local\\Temp\\ipykernel_13516\\2318526172.py:7: RuntimeWarning: Channels contain different lowpass filters. Lowest filter setting will be stored.\n",
      "  raw = mne.io.read_raw_edf(file_path + str(patient_file) + \".edf\", preload=True)\n",
      "  4%|▍         | 3/79 [00:01<00:24,  3.05it/s]"
     ]
    },
    {
     "name": "stdout",
     "output_type": "stream",
     "text": [
      "Extracting EDF parameters from C:\\Users\\user\\Desktop\\Manuscript_Projects_IISERTVM\\EEG data\\dataset\\eeg4.edf...\n",
      "EDF file detected\n",
      "Setting channel info structure...\n",
      "Creating raw.info structure...\n",
      "Reading 0 ... 876799  =      0.000 ...  3424.996 secs...\n"
     ]
    },
    {
     "name": "stderr",
     "output_type": "stream",
     "text": [
      "C:\\Users\\user\\AppData\\Local\\Temp\\ipykernel_13516\\2318526172.py:7: RuntimeWarning: Channels contain different highpass filters. Highest filter setting will be stored.\n",
      "  raw = mne.io.read_raw_edf(file_path + str(patient_file) + \".edf\", preload=True)\n",
      "C:\\Users\\user\\AppData\\Local\\Temp\\ipykernel_13516\\2318526172.py:7: RuntimeWarning: Channels contain different lowpass filters. Lowest filter setting will be stored.\n",
      "  raw = mne.io.read_raw_edf(file_path + str(patient_file) + \".edf\", preload=True)\n",
      "  5%|▌         | 4/79 [00:01<00:20,  3.72it/s]"
     ]
    },
    {
     "name": "stdout",
     "output_type": "stream",
     "text": [
      "Extracting EDF parameters from C:\\Users\\user\\Desktop\\Manuscript_Projects_IISERTVM\\EEG data\\dataset\\eeg5.edf...\n",
      "EDF file detected\n",
      "Setting channel info structure...\n",
      "Creating raw.info structure...\n",
      "Reading 0 ... 983295  =      0.000 ...  3840.996 secs...\n"
     ]
    },
    {
     "name": "stderr",
     "output_type": "stream",
     "text": [
      "C:\\Users\\user\\AppData\\Local\\Temp\\ipykernel_13516\\2318526172.py:7: RuntimeWarning: Channels contain different highpass filters. Highest filter setting will be stored.\n",
      "  raw = mne.io.read_raw_edf(file_path + str(patient_file) + \".edf\", preload=True)\n",
      "C:\\Users\\user\\AppData\\Local\\Temp\\ipykernel_13516\\2318526172.py:7: RuntimeWarning: Channels contain different lowpass filters. Lowest filter setting will be stored.\n",
      "  raw = mne.io.read_raw_edf(file_path + str(patient_file) + \".edf\", preload=True)\n",
      "  6%|▋         | 5/79 [00:01<00:18,  3.98it/s]"
     ]
    },
    {
     "name": "stdout",
     "output_type": "stream",
     "text": [
      "Extracting EDF parameters from C:\\Users\\user\\Desktop\\Manuscript_Projects_IISERTVM\\EEG data\\dataset\\eeg6.edf...\n",
      "EDF file detected\n",
      "Setting channel info structure...\n",
      "Creating raw.info structure...\n",
      "Reading 0 ... 1203967  =      0.000 ...  4702.996 secs...\n"
     ]
    },
    {
     "name": "stderr",
     "output_type": "stream",
     "text": [
      "C:\\Users\\user\\AppData\\Local\\Temp\\ipykernel_13516\\2318526172.py:7: RuntimeWarning: Channels contain different highpass filters. Highest filter setting will be stored.\n",
      "  raw = mne.io.read_raw_edf(file_path + str(patient_file) + \".edf\", preload=True)\n",
      "C:\\Users\\user\\AppData\\Local\\Temp\\ipykernel_13516\\2318526172.py:7: RuntimeWarning: Channels contain different lowpass filters. Lowest filter setting will be stored.\n",
      "  raw = mne.io.read_raw_edf(file_path + str(patient_file) + \".edf\", preload=True)\n",
      "  8%|▊         | 6/79 [00:01<00:18,  3.90it/s]"
     ]
    },
    {
     "name": "stdout",
     "output_type": "stream",
     "text": [
      "Extracting EDF parameters from C:\\Users\\user\\Desktop\\Manuscript_Projects_IISERTVM\\EEG data\\dataset\\eeg7.edf...\n",
      "EDF file detected\n",
      "Setting channel info structure...\n",
      "Creating raw.info structure...\n",
      "Reading 0 ... 935423  =      0.000 ...  3653.996 secs...\n"
     ]
    },
    {
     "name": "stderr",
     "output_type": "stream",
     "text": [
      "C:\\Users\\user\\AppData\\Local\\Temp\\ipykernel_13516\\2318526172.py:7: RuntimeWarning: Channels contain different highpass filters. Highest filter setting will be stored.\n",
      "  raw = mne.io.read_raw_edf(file_path + str(patient_file) + \".edf\", preload=True)\n",
      "C:\\Users\\user\\AppData\\Local\\Temp\\ipykernel_13516\\2318526172.py:7: RuntimeWarning: Channels contain different lowpass filters. Lowest filter setting will be stored.\n",
      "  raw = mne.io.read_raw_edf(file_path + str(patient_file) + \".edf\", preload=True)\n",
      "  9%|▉         | 7/79 [00:01<00:16,  4.31it/s]"
     ]
    },
    {
     "name": "stdout",
     "output_type": "stream",
     "text": [
      "Extracting EDF parameters from C:\\Users\\user\\Desktop\\Manuscript_Projects_IISERTVM\\EEG data\\dataset\\eeg8.edf...\n",
      "EDF file detected\n",
      "Setting channel info structure...\n"
     ]
    },
    {
     "name": "stderr",
     "output_type": "stream",
     "text": [
      "C:\\Users\\user\\AppData\\Local\\Temp\\ipykernel_13516\\2318526172.py:7: RuntimeWarning: Channels contain different highpass filters. Highest filter setting will be stored.\n",
      "  raw = mne.io.read_raw_edf(file_path + str(patient_file) + \".edf\", preload=True)\n",
      "C:\\Users\\user\\AppData\\Local\\Temp\\ipykernel_13516\\2318526172.py:7: RuntimeWarning: Channels contain different lowpass filters. Lowest filter setting will be stored.\n",
      "  raw = mne.io.read_raw_edf(file_path + str(patient_file) + \".edf\", preload=True)\n"
     ]
    },
    {
     "name": "stdout",
     "output_type": "stream",
     "text": [
      "Creating raw.info structure...\n",
      "Reading 0 ... 1180927  =      0.000 ...  4612.996 secs...\n"
     ]
    },
    {
     "name": "stderr",
     "output_type": "stream",
     "text": [
      " 10%|█         | 8/79 [00:02<00:17,  4.02it/s]"
     ]
    },
    {
     "name": "stdout",
     "output_type": "stream",
     "text": [
      "Extracting EDF parameters from C:\\Users\\user\\Desktop\\Manuscript_Projects_IISERTVM\\EEG data\\dataset\\eeg9.edf...\n",
      "EDF file detected\n",
      "Setting channel info structure...\n",
      "Creating raw.info structure...\n",
      "Reading 0 ... 908799  =      0.000 ...  3549.996 secs...\n"
     ]
    },
    {
     "name": "stderr",
     "output_type": "stream",
     "text": [
      " 11%|█▏        | 9/79 [00:02<00:15,  4.39it/s]"
     ]
    },
    {
     "name": "stdout",
     "output_type": "stream",
     "text": [
      "Extracting EDF parameters from C:\\Users\\user\\Desktop\\Manuscript_Projects_IISERTVM\\EEG data\\dataset\\eeg10.edf...\n",
      "EDF file detected\n",
      "Setting channel info structure...\n",
      "Creating raw.info structure...\n",
      "Reading 0 ... 1389311  =      0.000 ...  5426.996 secs...\n"
     ]
    },
    {
     "name": "stderr",
     "output_type": "stream",
     "text": [
      "C:\\Users\\user\\AppData\\Local\\Temp\\ipykernel_13516\\2318526172.py:7: RuntimeWarning: Channels contain different highpass filters. Highest filter setting will be stored.\n",
      "  raw = mne.io.read_raw_edf(file_path + str(patient_file) + \".edf\", preload=True)\n",
      "C:\\Users\\user\\AppData\\Local\\Temp\\ipykernel_13516\\2318526172.py:7: RuntimeWarning: Channels contain different lowpass filters. Lowest filter setting will be stored.\n",
      "  raw = mne.io.read_raw_edf(file_path + str(patient_file) + \".edf\", preload=True)\n",
      " 13%|█▎        | 10/79 [00:02<00:16,  4.25it/s]"
     ]
    },
    {
     "name": "stdout",
     "output_type": "stream",
     "text": [
      "Extracting EDF parameters from C:\\Users\\user\\Desktop\\Manuscript_Projects_IISERTVM\\EEG data\\dataset\\eeg11.edf...\n",
      "EDF file detected\n",
      "Setting channel info structure...\n",
      "Creating raw.info structure...\n",
      "Reading 0 ... 1916927  =      0.000 ...  7487.996 secs...\n"
     ]
    },
    {
     "name": "stderr",
     "output_type": "stream",
     "text": [
      "C:\\Users\\user\\AppData\\Local\\Temp\\ipykernel_13516\\2318526172.py:7: RuntimeWarning: Channels contain different highpass filters. Highest filter setting will be stored.\n",
      "  raw = mne.io.read_raw_edf(file_path + str(patient_file) + \".edf\", preload=True)\n",
      "C:\\Users\\user\\AppData\\Local\\Temp\\ipykernel_13516\\2318526172.py:7: RuntimeWarning: Channels contain different lowpass filters. Lowest filter setting will be stored.\n",
      "  raw = mne.io.read_raw_edf(file_path + str(patient_file) + \".edf\", preload=True)\n",
      " 14%|█▍        | 11/79 [00:03<00:20,  3.39it/s]"
     ]
    },
    {
     "name": "stdout",
     "output_type": "stream",
     "text": [
      "Extracting EDF parameters from C:\\Users\\user\\Desktop\\Manuscript_Projects_IISERTVM\\EEG data\\dataset\\eeg12.edf...\n",
      "EDF file detected\n",
      "Setting channel info structure...\n",
      "Creating raw.info structure...\n",
      "Reading 0 ... 1143807  =      0.000 ...  4467.996 secs...\n"
     ]
    },
    {
     "name": "stderr",
     "output_type": "stream",
     "text": [
      "C:\\Users\\user\\AppData\\Local\\Temp\\ipykernel_13516\\2318526172.py:7: RuntimeWarning: Channels contain different highpass filters. Highest filter setting will be stored.\n",
      "  raw = mne.io.read_raw_edf(file_path + str(patient_file) + \".edf\", preload=True)\n",
      "C:\\Users\\user\\AppData\\Local\\Temp\\ipykernel_13516\\2318526172.py:7: RuntimeWarning: Channels contain different lowpass filters. Lowest filter setting will be stored.\n",
      "  raw = mne.io.read_raw_edf(file_path + str(patient_file) + \".edf\", preload=True)\n",
      " 15%|█▌        | 12/79 [00:03<00:19,  3.48it/s]"
     ]
    },
    {
     "name": "stdout",
     "output_type": "stream",
     "text": [
      "Extracting EDF parameters from C:\\Users\\user\\Desktop\\Manuscript_Projects_IISERTVM\\EEG data\\dataset\\eeg13.edf...\n",
      "EDF file detected\n",
      "Setting channel info structure...\n",
      "Creating raw.info structure...\n",
      "Reading 0 ... 3946495  =      0.000 ... 15415.996 secs...\n"
     ]
    },
    {
     "name": "stderr",
     "output_type": "stream",
     "text": [
      "C:\\Users\\user\\AppData\\Local\\Temp\\ipykernel_13516\\2318526172.py:7: RuntimeWarning: Channels contain different highpass filters. Highest filter setting will be stored.\n",
      "  raw = mne.io.read_raw_edf(file_path + str(patient_file) + \".edf\", preload=True)\n",
      "C:\\Users\\user\\AppData\\Local\\Temp\\ipykernel_13516\\2318526172.py:7: RuntimeWarning: Channels contain different lowpass filters. Lowest filter setting will be stored.\n",
      "  raw = mne.io.read_raw_edf(file_path + str(patient_file) + \".edf\", preload=True)\n",
      " 16%|█▋        | 13/79 [00:04<00:28,  2.31it/s]"
     ]
    },
    {
     "name": "stdout",
     "output_type": "stream",
     "text": [
      "Extracting EDF parameters from C:\\Users\\user\\Desktop\\Manuscript_Projects_IISERTVM\\EEG data\\dataset\\eeg14.edf...\n",
      "EDF file detected\n",
      "Setting channel info structure...\n",
      "Creating raw.info structure...\n",
      "Reading 0 ... 953855  =      0.000 ...  3725.996 secs...\n"
     ]
    },
    {
     "name": "stderr",
     "output_type": "stream",
     "text": [
      "C:\\Users\\user\\AppData\\Local\\Temp\\ipykernel_13516\\2318526172.py:7: RuntimeWarning: Channels contain different highpass filters. Highest filter setting will be stored.\n",
      "  raw = mne.io.read_raw_edf(file_path + str(patient_file) + \".edf\", preload=True)\n",
      "C:\\Users\\user\\AppData\\Local\\Temp\\ipykernel_13516\\2318526172.py:7: RuntimeWarning: Channels contain different lowpass filters. Lowest filter setting will be stored.\n",
      "  raw = mne.io.read_raw_edf(file_path + str(patient_file) + \".edf\", preload=True)\n",
      " 18%|█▊        | 14/79 [00:04<00:24,  2.64it/s]"
     ]
    },
    {
     "name": "stdout",
     "output_type": "stream",
     "text": [
      "Extracting EDF parameters from C:\\Users\\user\\Desktop\\Manuscript_Projects_IISERTVM\\EEG data\\dataset\\eeg15.edf...\n",
      "EDF file detected\n",
      "Setting channel info structure...\n",
      "Creating raw.info structure...\n",
      "Reading 0 ... 1765887  =      0.000 ...  6897.996 secs...\n"
     ]
    },
    {
     "name": "stderr",
     "output_type": "stream",
     "text": [
      " 19%|█▉        | 15/79 [00:04<00:23,  2.75it/s]"
     ]
    },
    {
     "name": "stdout",
     "output_type": "stream",
     "text": [
      "Extracting EDF parameters from C:\\Users\\user\\Desktop\\Manuscript_Projects_IISERTVM\\EEG data\\dataset\\eeg16.edf...\n",
      "EDF file detected\n",
      "Setting channel info structure...\n",
      "Creating raw.info structure...\n",
      "Reading 0 ... 1520895  =      0.000 ...  5940.996 secs...\n"
     ]
    },
    {
     "name": "stderr",
     "output_type": "stream",
     "text": [
      "C:\\Users\\user\\AppData\\Local\\Temp\\ipykernel_13516\\2318526172.py:7: RuntimeWarning: Channels contain different highpass filters. Highest filter setting will be stored.\n",
      "  raw = mne.io.read_raw_edf(file_path + str(patient_file) + \".edf\", preload=True)\n",
      "C:\\Users\\user\\AppData\\Local\\Temp\\ipykernel_13516\\2318526172.py:7: RuntimeWarning: Channels contain different lowpass filters. Lowest filter setting will be stored.\n",
      "  raw = mne.io.read_raw_edf(file_path + str(patient_file) + \".edf\", preload=True)\n",
      " 20%|██        | 16/79 [00:05<00:21,  2.91it/s]"
     ]
    },
    {
     "name": "stdout",
     "output_type": "stream",
     "text": [
      "Extracting EDF parameters from C:\\Users\\user\\Desktop\\Manuscript_Projects_IISERTVM\\EEG data\\dataset\\eeg17.edf...\n",
      "EDF file detected\n",
      "Setting channel info structure...\n",
      "Creating raw.info structure...\n",
      "Reading 0 ... 1406207  =      0.000 ...  5492.996 secs...\n"
     ]
    },
    {
     "name": "stderr",
     "output_type": "stream",
     "text": [
      "C:\\Users\\user\\AppData\\Local\\Temp\\ipykernel_13516\\2318526172.py:7: RuntimeWarning: Channels contain different highpass filters. Highest filter setting will be stored.\n",
      "  raw = mne.io.read_raw_edf(file_path + str(patient_file) + \".edf\", preload=True)\n",
      "C:\\Users\\user\\AppData\\Local\\Temp\\ipykernel_13516\\2318526172.py:7: RuntimeWarning: Channels contain different lowpass filters. Lowest filter setting will be stored.\n",
      "  raw = mne.io.read_raw_edf(file_path + str(patient_file) + \".edf\", preload=True)\n",
      " 22%|██▏       | 17/79 [00:05<00:21,  2.94it/s]"
     ]
    },
    {
     "name": "stdout",
     "output_type": "stream",
     "text": [
      "Extracting EDF parameters from C:\\Users\\user\\Desktop\\Manuscript_Projects_IISERTVM\\EEG data\\dataset\\eeg18.edf...\n",
      "EDF file detected\n",
      "Setting channel info structure...\n",
      "Creating raw.info structure...\n",
      "Reading 0 ... 934655  =      0.000 ...  3650.996 secs...\n"
     ]
    },
    {
     "name": "stderr",
     "output_type": "stream",
     "text": [
      "C:\\Users\\user\\AppData\\Local\\Temp\\ipykernel_13516\\2318526172.py:7: RuntimeWarning: Channels contain different highpass filters. Highest filter setting will be stored.\n",
      "  raw = mne.io.read_raw_edf(file_path + str(patient_file) + \".edf\", preload=True)\n",
      "C:\\Users\\user\\AppData\\Local\\Temp\\ipykernel_13516\\2318526172.py:7: RuntimeWarning: Channels contain different lowpass filters. Lowest filter setting will be stored.\n",
      "  raw = mne.io.read_raw_edf(file_path + str(patient_file) + \".edf\", preload=True)\n",
      " 23%|██▎       | 18/79 [00:05<00:18,  3.27it/s]"
     ]
    },
    {
     "name": "stdout",
     "output_type": "stream",
     "text": [
      "Extracting EDF parameters from C:\\Users\\user\\Desktop\\Manuscript_Projects_IISERTVM\\EEG data\\dataset\\eeg19.edf...\n",
      "EDF file detected\n",
      "Setting channel info structure...\n",
      "Creating raw.info structure...\n",
      "Reading 0 ... 2305535  =      0.000 ...  9005.996 secs...\n"
     ]
    },
    {
     "name": "stderr",
     "output_type": "stream",
     "text": [
      "C:\\Users\\user\\AppData\\Local\\Temp\\ipykernel_13516\\2318526172.py:7: RuntimeWarning: Channels contain different highpass filters. Highest filter setting will be stored.\n",
      "  raw = mne.io.read_raw_edf(file_path + str(patient_file) + \".edf\", preload=True)\n",
      "C:\\Users\\user\\AppData\\Local\\Temp\\ipykernel_13516\\2318526172.py:7: RuntimeWarning: Channels contain different lowpass filters. Lowest filter setting will be stored.\n",
      "  raw = mne.io.read_raw_edf(file_path + str(patient_file) + \".edf\", preload=True)\n",
      " 24%|██▍       | 19/79 [00:06<00:20,  2.94it/s]"
     ]
    },
    {
     "name": "stdout",
     "output_type": "stream",
     "text": [
      "Extracting EDF parameters from C:\\Users\\user\\Desktop\\Manuscript_Projects_IISERTVM\\EEG data\\dataset\\eeg20.edf...\n",
      "EDF file detected\n",
      "Setting channel info structure...\n",
      "Creating raw.info structure...\n",
      "Reading 0 ... 1020671  =      0.000 ...  3986.996 secs...\n"
     ]
    },
    {
     "name": "stderr",
     "output_type": "stream",
     "text": [
      "C:\\Users\\user\\AppData\\Local\\Temp\\ipykernel_13516\\2318526172.py:7: RuntimeWarning: Channels contain different highpass filters. Highest filter setting will be stored.\n",
      "  raw = mne.io.read_raw_edf(file_path + str(patient_file) + \".edf\", preload=True)\n",
      "C:\\Users\\user\\AppData\\Local\\Temp\\ipykernel_13516\\2318526172.py:7: RuntimeWarning: Channels contain different lowpass filters. Lowest filter setting will be stored.\n",
      "  raw = mne.io.read_raw_edf(file_path + str(patient_file) + \".edf\", preload=True)\n",
      " 25%|██▌       | 20/79 [00:06<00:18,  3.16it/s]"
     ]
    },
    {
     "name": "stdout",
     "output_type": "stream",
     "text": [
      "Extracting EDF parameters from C:\\Users\\user\\Desktop\\Manuscript_Projects_IISERTVM\\EEG data\\dataset\\eeg21.edf...\n",
      "EDF file detected\n",
      "Setting channel info structure...\n",
      "Creating raw.info structure...\n",
      "Reading 0 ... 1460991  =      0.000 ...  5706.996 secs...\n"
     ]
    },
    {
     "name": "stderr",
     "output_type": "stream",
     "text": [
      " 27%|██▋       | 21/79 [00:06<00:19,  2.90it/s]"
     ]
    },
    {
     "name": "stdout",
     "output_type": "stream",
     "text": [
      "Extracting EDF parameters from C:\\Users\\user\\Desktop\\Manuscript_Projects_IISERTVM\\EEG data\\dataset\\eeg22.edf...\n",
      "EDF file detected\n",
      "Setting channel info structure...\n",
      "Creating raw.info structure...\n",
      "Reading 0 ... 984063  =      0.000 ...  3843.996 secs...\n"
     ]
    },
    {
     "name": "stderr",
     "output_type": "stream",
     "text": [
      " 28%|██▊       | 22/79 [00:07<00:19,  2.88it/s]"
     ]
    },
    {
     "name": "stdout",
     "output_type": "stream",
     "text": [
      "Extracting EDF parameters from C:\\Users\\user\\Desktop\\Manuscript_Projects_IISERTVM\\EEG data\\dataset\\eeg23.edf...\n",
      "EDF file detected\n",
      "Setting channel info structure...\n",
      "Creating raw.info structure...\n",
      "Reading 0 ... 1134847  =      0.000 ...  4432.996 secs...\n"
     ]
    },
    {
     "name": "stderr",
     "output_type": "stream",
     "text": [
      "C:\\Users\\user\\AppData\\Local\\Temp\\ipykernel_13516\\2318526172.py:7: RuntimeWarning: Channels contain different highpass filters. Highest filter setting will be stored.\n",
      "  raw = mne.io.read_raw_edf(file_path + str(patient_file) + \".edf\", preload=True)\n",
      "C:\\Users\\user\\AppData\\Local\\Temp\\ipykernel_13516\\2318526172.py:7: RuntimeWarning: Channels contain different lowpass filters. Lowest filter setting will be stored.\n",
      "  raw = mne.io.read_raw_edf(file_path + str(patient_file) + \".edf\", preload=True)\n",
      " 29%|██▉       | 23/79 [00:07<00:18,  2.96it/s]"
     ]
    },
    {
     "name": "stdout",
     "output_type": "stream",
     "text": [
      "Extracting EDF parameters from C:\\Users\\user\\Desktop\\Manuscript_Projects_IISERTVM\\EEG data\\dataset\\eeg24.edf...\n",
      "EDF file detected\n",
      "Setting channel info structure...\n",
      "Creating raw.info structure...\n",
      "Reading 0 ... 948735  =      0.000 ...  3705.996 secs...\n"
     ]
    },
    {
     "name": "stderr",
     "output_type": "stream",
     "text": [
      "C:\\Users\\user\\AppData\\Local\\Temp\\ipykernel_13516\\2318526172.py:7: RuntimeWarning: Channels contain different highpass filters. Highest filter setting will be stored.\n",
      "  raw = mne.io.read_raw_edf(file_path + str(patient_file) + \".edf\", preload=True)\n",
      "C:\\Users\\user\\AppData\\Local\\Temp\\ipykernel_13516\\2318526172.py:7: RuntimeWarning: Channels contain different lowpass filters. Lowest filter setting will be stored.\n",
      "  raw = mne.io.read_raw_edf(file_path + str(patient_file) + \".edf\", preload=True)\n",
      " 30%|███       | 24/79 [00:07<00:18,  3.02it/s]"
     ]
    },
    {
     "name": "stdout",
     "output_type": "stream",
     "text": [
      "Extracting EDF parameters from C:\\Users\\user\\Desktop\\Manuscript_Projects_IISERTVM\\EEG data\\dataset\\eeg25.edf...\n",
      "EDF file detected\n",
      "Setting channel info structure...\n",
      "Creating raw.info structure...\n",
      "Reading 0 ... 1717503  =      0.000 ...  6708.996 secs...\n"
     ]
    },
    {
     "name": "stderr",
     "output_type": "stream",
     "text": [
      " 32%|███▏      | 25/79 [00:08<00:21,  2.53it/s]"
     ]
    },
    {
     "name": "stdout",
     "output_type": "stream",
     "text": [
      "Extracting EDF parameters from C:\\Users\\user\\Desktop\\Manuscript_Projects_IISERTVM\\EEG data\\dataset\\eeg26.edf...\n",
      "EDF file detected\n",
      "Setting channel info structure...\n",
      "Creating raw.info structure...\n",
      "Reading 0 ... 1070591  =      0.000 ...  4181.996 secs...\n"
     ]
    },
    {
     "name": "stderr",
     "output_type": "stream",
     "text": [
      "C:\\Users\\user\\AppData\\Local\\Temp\\ipykernel_13516\\2318526172.py:7: RuntimeWarning: Channels contain different highpass filters. Highest filter setting will be stored.\n",
      "  raw = mne.io.read_raw_edf(file_path + str(patient_file) + \".edf\", preload=True)\n",
      "C:\\Users\\user\\AppData\\Local\\Temp\\ipykernel_13516\\2318526172.py:7: RuntimeWarning: Channels contain different lowpass filters. Lowest filter setting will be stored.\n",
      "  raw = mne.io.read_raw_edf(file_path + str(patient_file) + \".edf\", preload=True)\n",
      " 33%|███▎      | 26/79 [00:08<00:20,  2.60it/s]"
     ]
    },
    {
     "name": "stdout",
     "output_type": "stream",
     "text": [
      "Extracting EDF parameters from C:\\Users\\user\\Desktop\\Manuscript_Projects_IISERTVM\\EEG data\\dataset\\eeg27.edf...\n",
      "EDF file detected\n",
      "Setting channel info structure...\n",
      "Creating raw.info structure...\n",
      "Reading 0 ... 894975  =      0.000 ...  3495.996 secs...\n"
     ]
    },
    {
     "name": "stderr",
     "output_type": "stream",
     "text": [
      "C:\\Users\\user\\AppData\\Local\\Temp\\ipykernel_13516\\2318526172.py:7: RuntimeWarning: Channels contain different highpass filters. Highest filter setting will be stored.\n",
      "  raw = mne.io.read_raw_edf(file_path + str(patient_file) + \".edf\", preload=True)\n",
      "C:\\Users\\user\\AppData\\Local\\Temp\\ipykernel_13516\\2318526172.py:7: RuntimeWarning: Channels contain different lowpass filters. Lowest filter setting will be stored.\n",
      "  raw = mne.io.read_raw_edf(file_path + str(patient_file) + \".edf\", preload=True)\n",
      " 34%|███▍      | 27/79 [00:08<00:18,  2.86it/s]"
     ]
    },
    {
     "name": "stdout",
     "output_type": "stream",
     "text": [
      "Extracting EDF parameters from C:\\Users\\user\\Desktop\\Manuscript_Projects_IISERTVM\\EEG data\\dataset\\eeg28.edf...\n",
      "EDF file detected\n",
      "Setting channel info structure...\n",
      "Creating raw.info structure...\n",
      "Reading 0 ... 1473791  =      0.000 ...  5756.996 secs...\n"
     ]
    },
    {
     "name": "stderr",
     "output_type": "stream",
     "text": [
      "C:\\Users\\user\\AppData\\Local\\Temp\\ipykernel_13516\\2318526172.py:7: RuntimeWarning: Channels contain different highpass filters. Highest filter setting will be stored.\n",
      "  raw = mne.io.read_raw_edf(file_path + str(patient_file) + \".edf\", preload=True)\n",
      "C:\\Users\\user\\AppData\\Local\\Temp\\ipykernel_13516\\2318526172.py:7: RuntimeWarning: Channels contain different lowpass filters. Lowest filter setting will be stored.\n",
      "  raw = mne.io.read_raw_edf(file_path + str(patient_file) + \".edf\", preload=True)\n",
      " 35%|███▌      | 28/79 [00:09<00:20,  2.52it/s]"
     ]
    },
    {
     "name": "stdout",
     "output_type": "stream",
     "text": [
      "Extracting EDF parameters from C:\\Users\\user\\Desktop\\Manuscript_Projects_IISERTVM\\EEG data\\dataset\\eeg29.edf...\n",
      "EDF file detected\n",
      "Setting channel info structure...\n",
      "Creating raw.info structure...\n",
      "Reading 0 ... 2057471  =      0.000 ...  8036.996 secs...\n"
     ]
    },
    {
     "name": "stderr",
     "output_type": "stream",
     "text": [
      "C:\\Users\\user\\AppData\\Local\\Temp\\ipykernel_13516\\2318526172.py:7: RuntimeWarning: Channels contain different highpass filters. Highest filter setting will be stored.\n",
      "  raw = mne.io.read_raw_edf(file_path + str(patient_file) + \".edf\", preload=True)\n",
      "C:\\Users\\user\\AppData\\Local\\Temp\\ipykernel_13516\\2318526172.py:7: RuntimeWarning: Channels contain different lowpass filters. Lowest filter setting will be stored.\n",
      "  raw = mne.io.read_raw_edf(file_path + str(patient_file) + \".edf\", preload=True)\n",
      " 37%|███▋      | 29/79 [00:09<00:23,  2.13it/s]"
     ]
    },
    {
     "name": "stdout",
     "output_type": "stream",
     "text": [
      "Extracting EDF parameters from C:\\Users\\user\\Desktop\\Manuscript_Projects_IISERTVM\\EEG data\\dataset\\eeg30.edf...\n",
      "EDF file detected\n",
      "Setting channel info structure...\n",
      "Creating raw.info structure...\n",
      "Reading 0 ... 1007871  =      0.000 ...  3936.996 secs...\n"
     ]
    },
    {
     "name": "stderr",
     "output_type": "stream",
     "text": [
      "C:\\Users\\user\\AppData\\Local\\Temp\\ipykernel_13516\\2318526172.py:7: RuntimeWarning: Channels contain different highpass filters. Highest filter setting will be stored.\n",
      "  raw = mne.io.read_raw_edf(file_path + str(patient_file) + \".edf\", preload=True)\n",
      "C:\\Users\\user\\AppData\\Local\\Temp\\ipykernel_13516\\2318526172.py:7: RuntimeWarning: Channels contain different lowpass filters. Lowest filter setting will be stored.\n",
      "  raw = mne.io.read_raw_edf(file_path + str(patient_file) + \".edf\", preload=True)\n",
      " 38%|███▊      | 30/79 [00:10<00:21,  2.29it/s]"
     ]
    },
    {
     "name": "stdout",
     "output_type": "stream",
     "text": [
      "Extracting EDF parameters from C:\\Users\\user\\Desktop\\Manuscript_Projects_IISERTVM\\EEG data\\dataset\\eeg31.edf...\n",
      "EDF file detected\n",
      "Setting channel info structure...\n",
      "Creating raw.info structure...\n",
      "Reading 0 ... 903423  =      0.000 ...  3528.996 secs...\n"
     ]
    },
    {
     "name": "stderr",
     "output_type": "stream",
     "text": [
      " 39%|███▉      | 31/79 [00:10<00:18,  2.60it/s]"
     ]
    },
    {
     "name": "stdout",
     "output_type": "stream",
     "text": [
      "Extracting EDF parameters from C:\\Users\\user\\Desktop\\Manuscript_Projects_IISERTVM\\EEG data\\dataset\\eeg32.edf...\n",
      "EDF file detected\n",
      "Setting channel info structure...\n",
      "Creating raw.info structure...\n",
      "Reading 0 ... 1180927  =      0.000 ...  4612.996 secs...\n"
     ]
    },
    {
     "name": "stderr",
     "output_type": "stream",
     "text": [
      "C:\\Users\\user\\AppData\\Local\\Temp\\ipykernel_13516\\2318526172.py:7: RuntimeWarning: Channels contain different highpass filters. Highest filter setting will be stored.\n",
      "  raw = mne.io.read_raw_edf(file_path + str(patient_file) + \".edf\", preload=True)\n",
      "C:\\Users\\user\\AppData\\Local\\Temp\\ipykernel_13516\\2318526172.py:7: RuntimeWarning: Channels contain different lowpass filters. Lowest filter setting will be stored.\n",
      "  raw = mne.io.read_raw_edf(file_path + str(patient_file) + \".edf\", preload=True)\n",
      " 41%|████      | 32/79 [00:10<00:17,  2.66it/s]"
     ]
    },
    {
     "name": "stdout",
     "output_type": "stream",
     "text": [
      "Extracting EDF parameters from C:\\Users\\user\\Desktop\\Manuscript_Projects_IISERTVM\\EEG data\\dataset\\eeg33.edf...\n",
      "EDF file detected\n",
      "Setting channel info structure...\n",
      "Creating raw.info structure...\n",
      "Reading 0 ... 959231  =      0.000 ...  3746.996 secs...\n"
     ]
    },
    {
     "name": "stderr",
     "output_type": "stream",
     "text": [
      "C:\\Users\\user\\AppData\\Local\\Temp\\ipykernel_13516\\2318526172.py:7: RuntimeWarning: Channels contain different highpass filters. Highest filter setting will be stored.\n",
      "  raw = mne.io.read_raw_edf(file_path + str(patient_file) + \".edf\", preload=True)\n",
      "C:\\Users\\user\\AppData\\Local\\Temp\\ipykernel_13516\\2318526172.py:7: RuntimeWarning: Channels contain different lowpass filters. Lowest filter setting will be stored.\n",
      "  raw = mne.io.read_raw_edf(file_path + str(patient_file) + \".edf\", preload=True)\n",
      " 42%|████▏     | 33/79 [00:11<00:16,  2.82it/s]"
     ]
    },
    {
     "name": "stdout",
     "output_type": "stream",
     "text": [
      "Extracting EDF parameters from C:\\Users\\user\\Desktop\\Manuscript_Projects_IISERTVM\\EEG data\\dataset\\eeg34.edf...\n",
      "EDF file detected\n",
      "Setting channel info structure...\n",
      "Creating raw.info structure...\n",
      "Reading 0 ... 1661695  =      0.000 ...  6490.996 secs...\n"
     ]
    },
    {
     "name": "stderr",
     "output_type": "stream",
     "text": [
      "C:\\Users\\user\\AppData\\Local\\Temp\\ipykernel_13516\\2318526172.py:7: RuntimeWarning: Channels contain different highpass filters. Highest filter setting will be stored.\n",
      "  raw = mne.io.read_raw_edf(file_path + str(patient_file) + \".edf\", preload=True)\n",
      "C:\\Users\\user\\AppData\\Local\\Temp\\ipykernel_13516\\2318526172.py:7: RuntimeWarning: Channels contain different lowpass filters. Lowest filter setting will be stored.\n",
      "  raw = mne.io.read_raw_edf(file_path + str(patient_file) + \".edf\", preload=True)\n",
      " 43%|████▎     | 34/79 [00:11<00:19,  2.34it/s]"
     ]
    },
    {
     "name": "stdout",
     "output_type": "stream",
     "text": [
      "Extracting EDF parameters from C:\\Users\\user\\Desktop\\Manuscript_Projects_IISERTVM\\EEG data\\dataset\\eeg35.edf...\n",
      "EDF file detected\n",
      "Setting channel info structure...\n",
      "Creating raw.info structure...\n",
      "Reading 0 ... 964351  =      0.000 ...  3766.996 secs...\n"
     ]
    },
    {
     "name": "stderr",
     "output_type": "stream",
     "text": [
      "C:\\Users\\user\\AppData\\Local\\Temp\\ipykernel_13516\\2318526172.py:7: RuntimeWarning: Channels contain different highpass filters. Highest filter setting will be stored.\n",
      "  raw = mne.io.read_raw_edf(file_path + str(patient_file) + \".edf\", preload=True)\n",
      "C:\\Users\\user\\AppData\\Local\\Temp\\ipykernel_13516\\2318526172.py:7: RuntimeWarning: Channels contain different lowpass filters. Lowest filter setting will be stored.\n",
      "  raw = mne.io.read_raw_edf(file_path + str(patient_file) + \".edf\", preload=True)\n",
      " 44%|████▍     | 35/79 [00:12<00:18,  2.38it/s]"
     ]
    },
    {
     "name": "stdout",
     "output_type": "stream",
     "text": [
      "Extracting EDF parameters from C:\\Users\\user\\Desktop\\Manuscript_Projects_IISERTVM\\EEG data\\dataset\\eeg36.edf...\n",
      "EDF file detected\n",
      "Setting channel info structure...\n",
      "Creating raw.info structure...\n",
      "Reading 0 ... 1300991  =      0.000 ...  5081.996 secs...\n"
     ]
    },
    {
     "name": "stderr",
     "output_type": "stream",
     "text": [
      " 46%|████▌     | 36/79 [00:12<00:17,  2.40it/s]"
     ]
    },
    {
     "name": "stdout",
     "output_type": "stream",
     "text": [
      "Extracting EDF parameters from C:\\Users\\user\\Desktop\\Manuscript_Projects_IISERTVM\\EEG data\\dataset\\eeg37.edf...\n",
      "EDF file detected\n",
      "Setting channel info structure...\n",
      "Creating raw.info structure...\n",
      "Reading 0 ... 1171967  =      0.000 ...  4577.996 secs...\n"
     ]
    },
    {
     "name": "stderr",
     "output_type": "stream",
     "text": [
      "C:\\Users\\user\\AppData\\Local\\Temp\\ipykernel_13516\\2318526172.py:7: RuntimeWarning: Channels contain different highpass filters. Highest filter setting will be stored.\n",
      "  raw = mne.io.read_raw_edf(file_path + str(patient_file) + \".edf\", preload=True)\n",
      "C:\\Users\\user\\AppData\\Local\\Temp\\ipykernel_13516\\2318526172.py:7: RuntimeWarning: Channels contain different lowpass filters. Lowest filter setting will be stored.\n",
      "  raw = mne.io.read_raw_edf(file_path + str(patient_file) + \".edf\", preload=True)\n",
      " 47%|████▋     | 37/79 [00:13<00:17,  2.45it/s]"
     ]
    },
    {
     "name": "stdout",
     "output_type": "stream",
     "text": [
      "Extracting EDF parameters from C:\\Users\\user\\Desktop\\Manuscript_Projects_IISERTVM\\EEG data\\dataset\\eeg38.edf...\n",
      "EDF file detected\n",
      "Setting channel info structure...\n",
      "Creating raw.info structure...\n",
      "Reading 0 ... 1560319  =      0.000 ...  6094.996 secs...\n"
     ]
    },
    {
     "name": "stderr",
     "output_type": "stream",
     "text": [
      " 48%|████▊     | 38/79 [00:13<00:18,  2.25it/s]"
     ]
    },
    {
     "name": "stdout",
     "output_type": "stream",
     "text": [
      "Extracting EDF parameters from C:\\Users\\user\\Desktop\\Manuscript_Projects_IISERTVM\\EEG data\\dataset\\eeg39.edf...\n",
      "EDF file detected\n",
      "Setting channel info structure...\n",
      "Creating raw.info structure...\n",
      "Reading 0 ... 1185023  =      0.000 ...  4628.996 secs...\n"
     ]
    },
    {
     "name": "stderr",
     "output_type": "stream",
     "text": [
      " 49%|████▉     | 39/79 [00:14<00:17,  2.26it/s]"
     ]
    },
    {
     "name": "stdout",
     "output_type": "stream",
     "text": [
      "Extracting EDF parameters from C:\\Users\\user\\Desktop\\Manuscript_Projects_IISERTVM\\EEG data\\dataset\\eeg40.edf...\n",
      "EDF file detected\n",
      "Setting channel info structure...\n",
      "Creating raw.info structure...\n",
      "Reading 0 ... 1494271  =      0.000 ...  5836.996 secs...\n"
     ]
    },
    {
     "name": "stderr",
     "output_type": "stream",
     "text": [
      " 51%|█████     | 40/79 [00:14<00:17,  2.22it/s]"
     ]
    },
    {
     "name": "stdout",
     "output_type": "stream",
     "text": [
      "Extracting EDF parameters from C:\\Users\\user\\Desktop\\Manuscript_Projects_IISERTVM\\EEG data\\dataset\\eeg41.edf...\n",
      "EDF file detected\n",
      "Setting channel info structure...\n",
      "Creating raw.info structure...\n",
      "Reading 0 ... 2479103  =      0.000 ...  9683.996 secs...\n"
     ]
    },
    {
     "name": "stderr",
     "output_type": "stream",
     "text": [
      "C:\\Users\\user\\AppData\\Local\\Temp\\ipykernel_13516\\2318526172.py:7: RuntimeWarning: Channels contain different highpass filters. Highest filter setting will be stored.\n",
      "  raw = mne.io.read_raw_edf(file_path + str(patient_file) + \".edf\", preload=True)\n",
      "C:\\Users\\user\\AppData\\Local\\Temp\\ipykernel_13516\\2318526172.py:7: RuntimeWarning: Channels contain different lowpass filters. Lowest filter setting will be stored.\n",
      "  raw = mne.io.read_raw_edf(file_path + str(patient_file) + \".edf\", preload=True)\n",
      " 52%|█████▏    | 41/79 [00:15<00:21,  1.75it/s]"
     ]
    },
    {
     "name": "stdout",
     "output_type": "stream",
     "text": [
      "Extracting EDF parameters from C:\\Users\\user\\Desktop\\Manuscript_Projects_IISERTVM\\EEG data\\dataset\\eeg42.edf...\n",
      "EDF file detected\n",
      "Setting channel info structure...\n",
      "Creating raw.info structure...\n",
      "Reading 0 ... 1273343  =      0.000 ...  4973.996 secs...\n"
     ]
    },
    {
     "name": "stderr",
     "output_type": "stream",
     "text": [
      "C:\\Users\\user\\AppData\\Local\\Temp\\ipykernel_13516\\2318526172.py:7: RuntimeWarning: Channels contain different highpass filters. Highest filter setting will be stored.\n",
      "  raw = mne.io.read_raw_edf(file_path + str(patient_file) + \".edf\", preload=True)\n",
      "C:\\Users\\user\\AppData\\Local\\Temp\\ipykernel_13516\\2318526172.py:7: RuntimeWarning: Channels contain different lowpass filters. Lowest filter setting will be stored.\n",
      "  raw = mne.io.read_raw_edf(file_path + str(patient_file) + \".edf\", preload=True)\n",
      " 53%|█████▎    | 42/79 [00:15<00:20,  1.85it/s]"
     ]
    },
    {
     "name": "stdout",
     "output_type": "stream",
     "text": [
      "Extracting EDF parameters from C:\\Users\\user\\Desktop\\Manuscript_Projects_IISERTVM\\EEG data\\dataset\\eeg43.edf...\n",
      "EDF file detected\n",
      "Setting channel info structure...\n",
      "Creating raw.info structure...\n",
      "Reading 0 ... 1864447  =      0.000 ...  7282.996 secs...\n"
     ]
    },
    {
     "name": "stderr",
     "output_type": "stream",
     "text": [
      "C:\\Users\\user\\AppData\\Local\\Temp\\ipykernel_13516\\2318526172.py:7: RuntimeWarning: Channels contain different highpass filters. Highest filter setting will be stored.\n",
      "  raw = mne.io.read_raw_edf(file_path + str(patient_file) + \".edf\", preload=True)\n",
      "C:\\Users\\user\\AppData\\Local\\Temp\\ipykernel_13516\\2318526172.py:7: RuntimeWarning: Channels contain different lowpass filters. Lowest filter setting will be stored.\n",
      "  raw = mne.io.read_raw_edf(file_path + str(patient_file) + \".edf\", preload=True)\n",
      " 54%|█████▍    | 43/79 [00:16<00:19,  1.83it/s]"
     ]
    },
    {
     "name": "stdout",
     "output_type": "stream",
     "text": [
      "Extracting EDF parameters from C:\\Users\\user\\Desktop\\Manuscript_Projects_IISERTVM\\EEG data\\dataset\\eeg44.edf...\n",
      "EDF file detected\n",
      "Setting channel info structure...\n",
      "Creating raw.info structure...\n",
      "Reading 0 ... 860159  =      0.000 ...  3359.996 secs...\n"
     ]
    },
    {
     "name": "stderr",
     "output_type": "stream",
     "text": [
      " 56%|█████▌    | 44/79 [00:16<00:16,  2.12it/s]"
     ]
    },
    {
     "name": "stdout",
     "output_type": "stream",
     "text": [
      "Extracting EDF parameters from C:\\Users\\user\\Desktop\\Manuscript_Projects_IISERTVM\\EEG data\\dataset\\eeg45.edf...\n",
      "EDF file detected\n",
      "Setting channel info structure...\n",
      "Creating raw.info structure...\n",
      "Reading 0 ... 978431  =      0.000 ...  3821.996 secs...\n"
     ]
    },
    {
     "name": "stderr",
     "output_type": "stream",
     "text": [
      "C:\\Users\\user\\AppData\\Local\\Temp\\ipykernel_13516\\2318526172.py:7: RuntimeWarning: Channels contain different highpass filters. Highest filter setting will be stored.\n",
      "  raw = mne.io.read_raw_edf(file_path + str(patient_file) + \".edf\", preload=True)\n",
      "C:\\Users\\user\\AppData\\Local\\Temp\\ipykernel_13516\\2318526172.py:7: RuntimeWarning: Channels contain different lowpass filters. Lowest filter setting will be stored.\n",
      "  raw = mne.io.read_raw_edf(file_path + str(patient_file) + \".edf\", preload=True)\n",
      " 57%|█████▋    | 45/79 [00:16<00:14,  2.40it/s]"
     ]
    },
    {
     "name": "stdout",
     "output_type": "stream",
     "text": [
      "Extracting EDF parameters from C:\\Users\\user\\Desktop\\Manuscript_Projects_IISERTVM\\EEG data\\dataset\\eeg46.edf...\n",
      "EDF file detected\n",
      "Setting channel info structure...\n",
      "Creating raw.info structure...\n",
      "Reading 0 ... 1310719  =      0.000 ...  5119.996 secs...\n"
     ]
    },
    {
     "name": "stderr",
     "output_type": "stream",
     "text": [
      "C:\\Users\\user\\AppData\\Local\\Temp\\ipykernel_13516\\2318526172.py:7: RuntimeWarning: Channels contain different highpass filters. Highest filter setting will be stored.\n",
      "  raw = mne.io.read_raw_edf(file_path + str(patient_file) + \".edf\", preload=True)\n",
      "C:\\Users\\user\\AppData\\Local\\Temp\\ipykernel_13516\\2318526172.py:7: RuntimeWarning: Channels contain different lowpass filters. Lowest filter setting will be stored.\n",
      "  raw = mne.io.read_raw_edf(file_path + str(patient_file) + \".edf\", preload=True)\n",
      " 58%|█████▊    | 46/79 [00:17<00:13,  2.40it/s]"
     ]
    },
    {
     "name": "stdout",
     "output_type": "stream",
     "text": [
      "Extracting EDF parameters from C:\\Users\\user\\Desktop\\Manuscript_Projects_IISERTVM\\EEG data\\dataset\\eeg47.edf...\n",
      "EDF file detected\n",
      "Setting channel info structure...\n",
      "Creating raw.info structure...\n",
      "Reading 0 ... 923135  =      0.000 ...  3605.996 secs...\n"
     ]
    },
    {
     "name": "stderr",
     "output_type": "stream",
     "text": [
      "C:\\Users\\user\\AppData\\Local\\Temp\\ipykernel_13516\\2318526172.py:7: RuntimeWarning: Channels contain different highpass filters. Highest filter setting will be stored.\n",
      "  raw = mne.io.read_raw_edf(file_path + str(patient_file) + \".edf\", preload=True)\n",
      "C:\\Users\\user\\AppData\\Local\\Temp\\ipykernel_13516\\2318526172.py:7: RuntimeWarning: Channels contain different lowpass filters. Lowest filter setting will be stored.\n",
      "  raw = mne.io.read_raw_edf(file_path + str(patient_file) + \".edf\", preload=True)\n",
      " 59%|█████▉    | 47/79 [00:17<00:12,  2.46it/s]"
     ]
    },
    {
     "name": "stdout",
     "output_type": "stream",
     "text": [
      "Extracting EDF parameters from C:\\Users\\user\\Desktop\\Manuscript_Projects_IISERTVM\\EEG data\\dataset\\eeg48.edf...\n",
      "EDF file detected\n",
      "Setting channel info structure...\n",
      "Creating raw.info structure...\n",
      "Reading 0 ... 983039  =      0.000 ...  3839.996 secs...\n"
     ]
    },
    {
     "name": "stderr",
     "output_type": "stream",
     "text": [
      "C:\\Users\\user\\AppData\\Local\\Temp\\ipykernel_13516\\2318526172.py:7: RuntimeWarning: Channels contain different highpass filters. Highest filter setting will be stored.\n",
      "  raw = mne.io.read_raw_edf(file_path + str(patient_file) + \".edf\", preload=True)\n",
      "C:\\Users\\user\\AppData\\Local\\Temp\\ipykernel_13516\\2318526172.py:7: RuntimeWarning: Channels contain different lowpass filters. Lowest filter setting will be stored.\n",
      "  raw = mne.io.read_raw_edf(file_path + str(patient_file) + \".edf\", preload=True)\n",
      " 61%|██████    | 48/79 [00:18<00:11,  2.63it/s]"
     ]
    },
    {
     "name": "stdout",
     "output_type": "stream",
     "text": [
      "Extracting EDF parameters from C:\\Users\\user\\Desktop\\Manuscript_Projects_IISERTVM\\EEG data\\dataset\\eeg49.edf...\n",
      "EDF file detected\n",
      "Setting channel info structure...\n",
      "Creating raw.info structure...\n",
      "Reading 0 ... 2212607  =      0.000 ...  8642.996 secs...\n"
     ]
    },
    {
     "name": "stderr",
     "output_type": "stream",
     "text": [
      "C:\\Users\\user\\AppData\\Local\\Temp\\ipykernel_13516\\2318526172.py:7: RuntimeWarning: Channels contain different highpass filters. Highest filter setting will be stored.\n",
      "  raw = mne.io.read_raw_edf(file_path + str(patient_file) + \".edf\", preload=True)\n",
      "C:\\Users\\user\\AppData\\Local\\Temp\\ipykernel_13516\\2318526172.py:7: RuntimeWarning: Channels contain different lowpass filters. Lowest filter setting will be stored.\n",
      "  raw = mne.io.read_raw_edf(file_path + str(patient_file) + \".edf\", preload=True)\n",
      " 62%|██████▏   | 49/79 [00:18<00:14,  2.05it/s]"
     ]
    },
    {
     "name": "stdout",
     "output_type": "stream",
     "text": [
      "Extracting EDF parameters from C:\\Users\\user\\Desktop\\Manuscript_Projects_IISERTVM\\EEG data\\dataset\\eeg50.edf...\n",
      "EDF file detected\n",
      "Setting channel info structure...\n",
      "Creating raw.info structure...\n",
      "Reading 0 ... 2521599  =      0.000 ...  9849.996 secs...\n"
     ]
    },
    {
     "name": "stderr",
     "output_type": "stream",
     "text": [
      "C:\\Users\\user\\AppData\\Local\\Temp\\ipykernel_13516\\2318526172.py:7: RuntimeWarning: Channels contain different highpass filters. Highest filter setting will be stored.\n",
      "  raw = mne.io.read_raw_edf(file_path + str(patient_file) + \".edf\", preload=True)\n",
      "C:\\Users\\user\\AppData\\Local\\Temp\\ipykernel_13516\\2318526172.py:7: RuntimeWarning: Channels contain different lowpass filters. Lowest filter setting will be stored.\n",
      "  raw = mne.io.read_raw_edf(file_path + str(patient_file) + \".edf\", preload=True)\n",
      " 63%|██████▎   | 50/79 [00:19<00:17,  1.63it/s]"
     ]
    },
    {
     "name": "stdout",
     "output_type": "stream",
     "text": [
      "Extracting EDF parameters from C:\\Users\\user\\Desktop\\Manuscript_Projects_IISERTVM\\EEG data\\dataset\\eeg51.edf...\n",
      "EDF file detected\n",
      "Setting channel info structure...\n",
      "Creating raw.info structure...\n",
      "Reading 0 ... 1203455  =      0.000 ...  4700.996 secs...\n"
     ]
    },
    {
     "name": "stderr",
     "output_type": "stream",
     "text": [
      "C:\\Users\\user\\AppData\\Local\\Temp\\ipykernel_13516\\2318526172.py:7: RuntimeWarning: Channels contain different highpass filters. Highest filter setting will be stored.\n",
      "  raw = mne.io.read_raw_edf(file_path + str(patient_file) + \".edf\", preload=True)\n",
      "C:\\Users\\user\\AppData\\Local\\Temp\\ipykernel_13516\\2318526172.py:7: RuntimeWarning: Channels contain different lowpass filters. Lowest filter setting will be stored.\n",
      "  raw = mne.io.read_raw_edf(file_path + str(patient_file) + \".edf\", preload=True)\n",
      " 65%|██████▍   | 51/79 [00:20<00:15,  1.80it/s]"
     ]
    },
    {
     "name": "stdout",
     "output_type": "stream",
     "text": [
      "Extracting EDF parameters from C:\\Users\\user\\Desktop\\Manuscript_Projects_IISERTVM\\EEG data\\dataset\\eeg52.edf...\n",
      "EDF file detected\n",
      "Setting channel info structure...\n",
      "Creating raw.info structure...\n",
      "Reading 0 ... 1003519  =      0.000 ...  3919.996 secs...\n"
     ]
    },
    {
     "name": "stderr",
     "output_type": "stream",
     "text": [
      " 66%|██████▌   | 52/79 [00:20<00:12,  2.09it/s]"
     ]
    },
    {
     "name": "stdout",
     "output_type": "stream",
     "text": [
      "Extracting EDF parameters from C:\\Users\\user\\Desktop\\Manuscript_Projects_IISERTVM\\EEG data\\dataset\\eeg53.edf...\n",
      "EDF file detected\n",
      "Setting channel info structure...\n",
      "Creating raw.info structure...\n",
      "Reading 0 ... 888319  =      0.000 ...  3469.996 secs...\n"
     ]
    },
    {
     "name": "stderr",
     "output_type": "stream",
     "text": [
      "C:\\Users\\user\\AppData\\Local\\Temp\\ipykernel_13516\\2318526172.py:7: RuntimeWarning: Channels contain different highpass filters. Highest filter setting will be stored.\n",
      "  raw = mne.io.read_raw_edf(file_path + str(patient_file) + \".edf\", preload=True)\n",
      "C:\\Users\\user\\AppData\\Local\\Temp\\ipykernel_13516\\2318526172.py:7: RuntimeWarning: Channels contain different lowpass filters. Lowest filter setting will be stored.\n",
      "  raw = mne.io.read_raw_edf(file_path + str(patient_file) + \".edf\", preload=True)\n",
      " 67%|██████▋   | 53/79 [00:20<00:10,  2.38it/s]"
     ]
    },
    {
     "name": "stdout",
     "output_type": "stream",
     "text": [
      "Extracting EDF parameters from C:\\Users\\user\\Desktop\\Manuscript_Projects_IISERTVM\\EEG data\\dataset\\eeg54.edf...\n",
      "EDF file detected\n",
      "Setting channel info structure...\n",
      "Creating raw.info structure...\n",
      "Reading 0 ... 1112063  =      0.000 ...  4343.996 secs...\n"
     ]
    },
    {
     "name": "stderr",
     "output_type": "stream",
     "text": [
      "C:\\Users\\user\\AppData\\Local\\Temp\\ipykernel_13516\\2318526172.py:7: RuntimeWarning: Channels contain different highpass filters. Highest filter setting will be stored.\n",
      "  raw = mne.io.read_raw_edf(file_path + str(patient_file) + \".edf\", preload=True)\n",
      "C:\\Users\\user\\AppData\\Local\\Temp\\ipykernel_13516\\2318526172.py:7: RuntimeWarning: Channels contain different lowpass filters. Lowest filter setting will be stored.\n",
      "  raw = mne.io.read_raw_edf(file_path + str(patient_file) + \".edf\", preload=True)\n",
      " 68%|██████▊   | 54/79 [00:21<00:10,  2.35it/s]"
     ]
    },
    {
     "name": "stdout",
     "output_type": "stream",
     "text": [
      "Extracting EDF parameters from C:\\Users\\user\\Desktop\\Manuscript_Projects_IISERTVM\\EEG data\\dataset\\eeg55.edf...\n",
      "EDF file detected\n",
      "Setting channel info structure...\n",
      "Creating raw.info structure...\n",
      "Reading 0 ... 1321215  =      0.000 ...  5160.996 secs...\n"
     ]
    },
    {
     "name": "stderr",
     "output_type": "stream",
     "text": [
      "C:\\Users\\user\\AppData\\Local\\Temp\\ipykernel_13516\\2318526172.py:7: RuntimeWarning: Channels contain different highpass filters. Highest filter setting will be stored.\n",
      "  raw = mne.io.read_raw_edf(file_path + str(patient_file) + \".edf\", preload=True)\n",
      "C:\\Users\\user\\AppData\\Local\\Temp\\ipykernel_13516\\2318526172.py:7: RuntimeWarning: Channels contain different lowpass filters. Lowest filter setting will be stored.\n",
      "  raw = mne.io.read_raw_edf(file_path + str(patient_file) + \".edf\", preload=True)\n",
      " 70%|██████▉   | 55/79 [00:21<00:10,  2.30it/s]"
     ]
    },
    {
     "name": "stdout",
     "output_type": "stream",
     "text": [
      "Extracting EDF parameters from C:\\Users\\user\\Desktop\\Manuscript_Projects_IISERTVM\\EEG data\\dataset\\eeg56.edf...\n",
      "EDF file detected\n",
      "Setting channel info structure...\n",
      "Creating raw.info structure...\n",
      "Reading 0 ... 980735  =      0.000 ...  3830.996 secs...\n"
     ]
    },
    {
     "name": "stderr",
     "output_type": "stream",
     "text": [
      "C:\\Users\\user\\AppData\\Local\\Temp\\ipykernel_13516\\2318526172.py:7: RuntimeWarning: Channels contain different highpass filters. Highest filter setting will be stored.\n",
      "  raw = mne.io.read_raw_edf(file_path + str(patient_file) + \".edf\", preload=True)\n",
      "C:\\Users\\user\\AppData\\Local\\Temp\\ipykernel_13516\\2318526172.py:7: RuntimeWarning: Channels contain different lowpass filters. Lowest filter setting will be stored.\n",
      "  raw = mne.io.read_raw_edf(file_path + str(patient_file) + \".edf\", preload=True)\n",
      " 71%|███████   | 56/79 [00:21<00:09,  2.46it/s]"
     ]
    },
    {
     "name": "stdout",
     "output_type": "stream",
     "text": [
      "Extracting EDF parameters from C:\\Users\\user\\Desktop\\Manuscript_Projects_IISERTVM\\EEG data\\dataset\\eeg57.edf...\n",
      "EDF file detected\n",
      "Setting channel info structure...\n",
      "Creating raw.info structure...\n",
      "Reading 0 ... 802047  =      0.000 ...  3132.996 secs...\n"
     ]
    },
    {
     "name": "stderr",
     "output_type": "stream",
     "text": [
      "C:\\Users\\user\\AppData\\Local\\Temp\\ipykernel_13516\\2318526172.py:7: RuntimeWarning: Channels contain different highpass filters. Highest filter setting will be stored.\n",
      "  raw = mne.io.read_raw_edf(file_path + str(patient_file) + \".edf\", preload=True)\n",
      "C:\\Users\\user\\AppData\\Local\\Temp\\ipykernel_13516\\2318526172.py:7: RuntimeWarning: Channels contain different lowpass filters. Lowest filter setting will be stored.\n",
      "  raw = mne.io.read_raw_edf(file_path + str(patient_file) + \".edf\", preload=True)\n",
      " 72%|███████▏  | 57/79 [00:22<00:07,  2.76it/s]"
     ]
    },
    {
     "name": "stdout",
     "output_type": "stream",
     "text": [
      "Extracting EDF parameters from C:\\Users\\user\\Desktop\\Manuscript_Projects_IISERTVM\\EEG data\\dataset\\eeg58.edf...\n",
      "EDF file detected\n",
      "Setting channel info structure...\n",
      "Creating raw.info structure...\n",
      "Reading 0 ... 1199359  =      0.000 ...  4684.996 secs...\n"
     ]
    },
    {
     "name": "stderr",
     "output_type": "stream",
     "text": [
      "C:\\Users\\user\\AppData\\Local\\Temp\\ipykernel_13516\\2318526172.py:7: RuntimeWarning: Channels contain different highpass filters. Highest filter setting will be stored.\n",
      "  raw = mne.io.read_raw_edf(file_path + str(patient_file) + \".edf\", preload=True)\n",
      "C:\\Users\\user\\AppData\\Local\\Temp\\ipykernel_13516\\2318526172.py:7: RuntimeWarning: Channels contain different lowpass filters. Lowest filter setting will be stored.\n",
      "  raw = mne.io.read_raw_edf(file_path + str(patient_file) + \".edf\", preload=True)\n",
      " 73%|███████▎  | 58/79 [00:22<00:07,  2.67it/s]"
     ]
    },
    {
     "name": "stdout",
     "output_type": "stream",
     "text": [
      "Extracting EDF parameters from C:\\Users\\user\\Desktop\\Manuscript_Projects_IISERTVM\\EEG data\\dataset\\eeg59.edf...\n",
      "EDF file detected\n",
      "Setting channel info structure...\n",
      "Creating raw.info structure...\n",
      "Reading 0 ... 1004287  =      0.000 ...  3922.996 secs...\n"
     ]
    },
    {
     "name": "stderr",
     "output_type": "stream",
     "text": [
      "C:\\Users\\user\\AppData\\Local\\Temp\\ipykernel_13516\\2318526172.py:7: RuntimeWarning: Channels contain different highpass filters. Highest filter setting will be stored.\n",
      "  raw = mne.io.read_raw_edf(file_path + str(patient_file) + \".edf\", preload=True)\n",
      "C:\\Users\\user\\AppData\\Local\\Temp\\ipykernel_13516\\2318526172.py:7: RuntimeWarning: Channels contain different lowpass filters. Lowest filter setting will be stored.\n",
      "  raw = mne.io.read_raw_edf(file_path + str(patient_file) + \".edf\", preload=True)\n",
      " 75%|███████▍  | 59/79 [00:22<00:06,  2.86it/s]"
     ]
    },
    {
     "name": "stdout",
     "output_type": "stream",
     "text": [
      "Extracting EDF parameters from C:\\Users\\user\\Desktop\\Manuscript_Projects_IISERTVM\\EEG data\\dataset\\eeg60.edf...\n",
      "EDF file detected\n",
      "Setting channel info structure...\n",
      "Creating raw.info structure...\n",
      "Reading 0 ... 967423  =      0.000 ...  3778.996 secs...\n"
     ]
    },
    {
     "name": "stderr",
     "output_type": "stream",
     "text": [
      "C:\\Users\\user\\AppData\\Local\\Temp\\ipykernel_13516\\2318526172.py:7: RuntimeWarning: Channels contain different highpass filters. Highest filter setting will be stored.\n",
      "  raw = mne.io.read_raw_edf(file_path + str(patient_file) + \".edf\", preload=True)\n",
      "C:\\Users\\user\\AppData\\Local\\Temp\\ipykernel_13516\\2318526172.py:7: RuntimeWarning: Channels contain different lowpass filters. Lowest filter setting will be stored.\n",
      "  raw = mne.io.read_raw_edf(file_path + str(patient_file) + \".edf\", preload=True)\n",
      " 76%|███████▌  | 60/79 [00:23<00:06,  2.89it/s]"
     ]
    },
    {
     "name": "stdout",
     "output_type": "stream",
     "text": [
      "Extracting EDF parameters from C:\\Users\\user\\Desktop\\Manuscript_Projects_IISERTVM\\EEG data\\dataset\\eeg61.edf...\n",
      "EDF file detected\n",
      "Setting channel info structure...\n",
      "Creating raw.info structure...\n",
      "Reading 0 ... 1492223  =      0.000 ...  5828.996 secs...\n"
     ]
    },
    {
     "name": "stderr",
     "output_type": "stream",
     "text": [
      "C:\\Users\\user\\AppData\\Local\\Temp\\ipykernel_13516\\2318526172.py:7: RuntimeWarning: Channels contain different highpass filters. Highest filter setting will be stored.\n",
      "  raw = mne.io.read_raw_edf(file_path + str(patient_file) + \".edf\", preload=True)\n",
      "C:\\Users\\user\\AppData\\Local\\Temp\\ipykernel_13516\\2318526172.py:7: RuntimeWarning: Channels contain different lowpass filters. Lowest filter setting will be stored.\n",
      "  raw = mne.io.read_raw_edf(file_path + str(patient_file) + \".edf\", preload=True)\n",
      " 77%|███████▋  | 61/79 [00:23<00:06,  2.69it/s]"
     ]
    },
    {
     "name": "stdout",
     "output_type": "stream",
     "text": [
      "Extracting EDF parameters from C:\\Users\\user\\Desktop\\Manuscript_Projects_IISERTVM\\EEG data\\dataset\\eeg62.edf...\n",
      "EDF file detected\n",
      "Setting channel info structure...\n",
      "Creating raw.info structure...\n",
      "Reading 0 ... 1498111  =      0.000 ...  5851.996 secs...\n"
     ]
    },
    {
     "name": "stderr",
     "output_type": "stream",
     "text": [
      " 78%|███████▊  | 62/79 [00:24<00:07,  2.37it/s]"
     ]
    },
    {
     "name": "stdout",
     "output_type": "stream",
     "text": [
      "Extracting EDF parameters from C:\\Users\\user\\Desktop\\Manuscript_Projects_IISERTVM\\EEG data\\dataset\\eeg63.edf...\n",
      "EDF file detected\n",
      "Setting channel info structure...\n",
      "Creating raw.info structure...\n",
      "Reading 0 ... 998399  =      0.000 ...  3899.996 secs...\n"
     ]
    },
    {
     "name": "stderr",
     "output_type": "stream",
     "text": [
      "C:\\Users\\user\\AppData\\Local\\Temp\\ipykernel_13516\\2318526172.py:7: RuntimeWarning: Channels contain different highpass filters. Highest filter setting will be stored.\n",
      "  raw = mne.io.read_raw_edf(file_path + str(patient_file) + \".edf\", preload=True)\n",
      "C:\\Users\\user\\AppData\\Local\\Temp\\ipykernel_13516\\2318526172.py:7: RuntimeWarning: Channels contain different lowpass filters. Lowest filter setting will be stored.\n",
      "  raw = mne.io.read_raw_edf(file_path + str(patient_file) + \".edf\", preload=True)\n",
      " 80%|███████▉  | 63/79 [00:24<00:06,  2.48it/s]"
     ]
    },
    {
     "name": "stdout",
     "output_type": "stream",
     "text": [
      "Extracting EDF parameters from C:\\Users\\user\\Desktop\\Manuscript_Projects_IISERTVM\\EEG data\\dataset\\eeg64.edf...\n",
      "EDF file detected\n",
      "Setting channel info structure...\n",
      "Creating raw.info structure...\n",
      "Reading 0 ... 1622271  =      0.000 ...  6336.996 secs...\n"
     ]
    },
    {
     "name": "stderr",
     "output_type": "stream",
     "text": [
      "C:\\Users\\user\\AppData\\Local\\Temp\\ipykernel_13516\\2318526172.py:7: RuntimeWarning: Channels contain different highpass filters. Highest filter setting will be stored.\n",
      "  raw = mne.io.read_raw_edf(file_path + str(patient_file) + \".edf\", preload=True)\n",
      "C:\\Users\\user\\AppData\\Local\\Temp\\ipykernel_13516\\2318526172.py:7: RuntimeWarning: Channels contain different lowpass filters. Lowest filter setting will be stored.\n",
      "  raw = mne.io.read_raw_edf(file_path + str(patient_file) + \".edf\", preload=True)\n",
      " 81%|████████  | 64/79 [00:25<00:06,  2.40it/s]"
     ]
    },
    {
     "name": "stdout",
     "output_type": "stream",
     "text": [
      "Extracting EDF parameters from C:\\Users\\user\\Desktop\\Manuscript_Projects_IISERTVM\\EEG data\\dataset\\eeg65.edf...\n",
      "EDF file detected\n",
      "Setting channel info structure...\n",
      "Creating raw.info structure...\n",
      "Reading 0 ... 1228799  =      0.000 ...  4799.996 secs...\n"
     ]
    },
    {
     "name": "stderr",
     "output_type": "stream",
     "text": [
      " 82%|████████▏ | 65/79 [00:25<00:05,  2.55it/s]"
     ]
    },
    {
     "name": "stdout",
     "output_type": "stream",
     "text": [
      "Extracting EDF parameters from C:\\Users\\user\\Desktop\\Manuscript_Projects_IISERTVM\\EEG data\\dataset\\eeg66.edf...\n",
      "EDF file detected\n",
      "Setting channel info structure...\n",
      "Creating raw.info structure...\n",
      "Reading 0 ... 2905599  =      0.000 ... 11349.996 secs...\n"
     ]
    },
    {
     "name": "stderr",
     "output_type": "stream",
     "text": [
      " 84%|████████▎ | 66/79 [00:26<00:07,  1.81it/s]"
     ]
    },
    {
     "name": "stdout",
     "output_type": "stream",
     "text": [
      "Extracting EDF parameters from C:\\Users\\user\\Desktop\\Manuscript_Projects_IISERTVM\\EEG data\\dataset\\eeg67.edf...\n",
      "EDF file detected\n",
      "Setting channel info structure...\n",
      "Creating raw.info structure...\n",
      "Reading 0 ... 1254399  =      0.000 ...  4899.996 secs...\n"
     ]
    },
    {
     "name": "stderr",
     "output_type": "stream",
     "text": [
      "C:\\Users\\user\\AppData\\Local\\Temp\\ipykernel_13516\\2318526172.py:7: RuntimeWarning: Channels contain different highpass filters. Highest filter setting will be stored.\n",
      "  raw = mne.io.read_raw_edf(file_path + str(patient_file) + \".edf\", preload=True)\n",
      "C:\\Users\\user\\AppData\\Local\\Temp\\ipykernel_13516\\2318526172.py:7: RuntimeWarning: Channels contain different lowpass filters. Lowest filter setting will be stored.\n",
      "  raw = mne.io.read_raw_edf(file_path + str(patient_file) + \".edf\", preload=True)\n",
      " 85%|████████▍ | 67/79 [00:26<00:06,  1.94it/s]"
     ]
    },
    {
     "name": "stdout",
     "output_type": "stream",
     "text": [
      "Extracting EDF parameters from C:\\Users\\user\\Desktop\\Manuscript_Projects_IISERTVM\\EEG data\\dataset\\eeg68.edf...\n",
      "EDF file detected\n",
      "Setting channel info structure...\n",
      "Creating raw.info structure...\n",
      "Reading 0 ... 925439  =      0.000 ...  3614.996 secs...\n"
     ]
    },
    {
     "name": "stderr",
     "output_type": "stream",
     "text": [
      "C:\\Users\\user\\AppData\\Local\\Temp\\ipykernel_13516\\2318526172.py:7: RuntimeWarning: Channels contain different highpass filters. Highest filter setting will be stored.\n",
      "  raw = mne.io.read_raw_edf(file_path + str(patient_file) + \".edf\", preload=True)\n",
      "C:\\Users\\user\\AppData\\Local\\Temp\\ipykernel_13516\\2318526172.py:7: RuntimeWarning: Channels contain different lowpass filters. Lowest filter setting will be stored.\n",
      "  raw = mne.io.read_raw_edf(file_path + str(patient_file) + \".edf\", preload=True)\n",
      " 86%|████████▌ | 68/79 [00:27<00:05,  2.18it/s]"
     ]
    },
    {
     "name": "stdout",
     "output_type": "stream",
     "text": [
      "Extracting EDF parameters from C:\\Users\\user\\Desktop\\Manuscript_Projects_IISERTVM\\EEG data\\dataset\\eeg69.edf...\n",
      "EDF file detected\n",
      "Setting channel info structure...\n",
      "Creating raw.info structure...\n",
      "Reading 0 ... 1017087  =      0.000 ...  3972.996 secs...\n"
     ]
    },
    {
     "name": "stderr",
     "output_type": "stream",
     "text": [
      "C:\\Users\\user\\AppData\\Local\\Temp\\ipykernel_13516\\2318526172.py:7: RuntimeWarning: Channels contain different highpass filters. Highest filter setting will be stored.\n",
      "  raw = mne.io.read_raw_edf(file_path + str(patient_file) + \".edf\", preload=True)\n",
      "C:\\Users\\user\\AppData\\Local\\Temp\\ipykernel_13516\\2318526172.py:7: RuntimeWarning: Channels contain different lowpass filters. Lowest filter setting will be stored.\n",
      "  raw = mne.io.read_raw_edf(file_path + str(patient_file) + \".edf\", preload=True)\n",
      " 87%|████████▋ | 69/79 [00:27<00:04,  2.42it/s]"
     ]
    },
    {
     "name": "stdout",
     "output_type": "stream",
     "text": [
      "Extracting EDF parameters from C:\\Users\\user\\Desktop\\Manuscript_Projects_IISERTVM\\EEG data\\dataset\\eeg70.edf...\n",
      "EDF file detected\n",
      "Setting channel info structure...\n",
      "Creating raw.info structure...\n",
      "Reading 0 ... 1255935  =      0.000 ...  4905.996 secs...\n"
     ]
    },
    {
     "name": "stderr",
     "output_type": "stream",
     "text": [
      "C:\\Users\\user\\AppData\\Local\\Temp\\ipykernel_13516\\2318526172.py:7: RuntimeWarning: Channels contain different highpass filters. Highest filter setting will be stored.\n",
      "  raw = mne.io.read_raw_edf(file_path + str(patient_file) + \".edf\", preload=True)\n",
      "C:\\Users\\user\\AppData\\Local\\Temp\\ipykernel_13516\\2318526172.py:7: RuntimeWarning: Channels contain different lowpass filters. Lowest filter setting will be stored.\n",
      "  raw = mne.io.read_raw_edf(file_path + str(patient_file) + \".edf\", preload=True)\n",
      " 89%|████████▊ | 70/79 [00:27<00:03,  2.30it/s]"
     ]
    },
    {
     "name": "stdout",
     "output_type": "stream",
     "text": [
      "Extracting EDF parameters from C:\\Users\\user\\Desktop\\Manuscript_Projects_IISERTVM\\EEG data\\dataset\\eeg71.edf...\n",
      "EDF file detected\n",
      "Setting channel info structure...\n",
      "Creating raw.info structure...\n",
      "Reading 0 ... 1094655  =      0.000 ...  4275.996 secs...\n"
     ]
    },
    {
     "name": "stderr",
     "output_type": "stream",
     "text": [
      " 90%|████████▉ | 71/79 [00:28<00:03,  2.43it/s]"
     ]
    },
    {
     "name": "stdout",
     "output_type": "stream",
     "text": [
      "Extracting EDF parameters from C:\\Users\\user\\Desktop\\Manuscript_Projects_IISERTVM\\EEG data\\dataset\\eeg72.edf...\n",
      "EDF file detected\n",
      "Setting channel info structure...\n",
      "Creating raw.info structure...\n",
      "Reading 0 ... 1279487  =      0.000 ...  4997.996 secs...\n"
     ]
    },
    {
     "name": "stderr",
     "output_type": "stream",
     "text": [
      "C:\\Users\\user\\AppData\\Local\\Temp\\ipykernel_13516\\2318526172.py:7: RuntimeWarning: Channels contain different highpass filters. Highest filter setting will be stored.\n",
      "  raw = mne.io.read_raw_edf(file_path + str(patient_file) + \".edf\", preload=True)\n",
      "C:\\Users\\user\\AppData\\Local\\Temp\\ipykernel_13516\\2318526172.py:7: RuntimeWarning: Channels contain different lowpass filters. Lowest filter setting will be stored.\n",
      "  raw = mne.io.read_raw_edf(file_path + str(patient_file) + \".edf\", preload=True)\n",
      " 91%|█████████ | 72/79 [00:28<00:02,  2.51it/s]"
     ]
    },
    {
     "name": "stdout",
     "output_type": "stream",
     "text": [
      "Extracting EDF parameters from C:\\Users\\user\\Desktop\\Manuscript_Projects_IISERTVM\\EEG data\\dataset\\eeg73.edf...\n",
      "EDF file detected\n",
      "Setting channel info structure...\n",
      "Creating raw.info structure...\n",
      "Reading 0 ... 954879  =      0.000 ...  3729.996 secs...\n"
     ]
    },
    {
     "name": "stderr",
     "output_type": "stream",
     "text": [
      "C:\\Users\\user\\AppData\\Local\\Temp\\ipykernel_13516\\2318526172.py:7: RuntimeWarning: Channels contain different highpass filters. Highest filter setting will be stored.\n",
      "  raw = mne.io.read_raw_edf(file_path + str(patient_file) + \".edf\", preload=True)\n",
      "C:\\Users\\user\\AppData\\Local\\Temp\\ipykernel_13516\\2318526172.py:7: RuntimeWarning: Channels contain different lowpass filters. Lowest filter setting will be stored.\n",
      "  raw = mne.io.read_raw_edf(file_path + str(patient_file) + \".edf\", preload=True)\n",
      " 92%|█████████▏| 73/79 [00:28<00:02,  2.58it/s]"
     ]
    },
    {
     "name": "stdout",
     "output_type": "stream",
     "text": [
      "Extracting EDF parameters from C:\\Users\\user\\Desktop\\Manuscript_Projects_IISERTVM\\EEG data\\dataset\\eeg74.edf...\n",
      "EDF file detected\n",
      "Setting channel info structure...\n",
      "Creating raw.info structure...\n",
      "Reading 0 ... 1117183  =      0.000 ...  4363.996 secs...\n"
     ]
    },
    {
     "name": "stderr",
     "output_type": "stream",
     "text": [
      "C:\\Users\\user\\AppData\\Local\\Temp\\ipykernel_13516\\2318526172.py:7: RuntimeWarning: Channels contain different highpass filters. Highest filter setting will be stored.\n",
      "  raw = mne.io.read_raw_edf(file_path + str(patient_file) + \".edf\", preload=True)\n",
      "C:\\Users\\user\\AppData\\Local\\Temp\\ipykernel_13516\\2318526172.py:7: RuntimeWarning: Channels contain different lowpass filters. Lowest filter setting will be stored.\n",
      "  raw = mne.io.read_raw_edf(file_path + str(patient_file) + \".edf\", preload=True)\n",
      " 94%|█████████▎| 74/79 [00:29<00:01,  2.69it/s]"
     ]
    },
    {
     "name": "stdout",
     "output_type": "stream",
     "text": [
      "Extracting EDF parameters from C:\\Users\\user\\Desktop\\Manuscript_Projects_IISERTVM\\EEG data\\dataset\\eeg75.edf...\n",
      "EDF file detected\n",
      "Setting channel info structure...\n",
      "Creating raw.info structure...\n",
      "Reading 0 ... 1012479  =      0.000 ...  3954.996 secs...\n"
     ]
    },
    {
     "name": "stderr",
     "output_type": "stream",
     "text": [
      "C:\\Users\\user\\AppData\\Local\\Temp\\ipykernel_13516\\2318526172.py:7: RuntimeWarning: Channels contain different highpass filters. Highest filter setting will be stored.\n",
      "  raw = mne.io.read_raw_edf(file_path + str(patient_file) + \".edf\", preload=True)\n",
      "C:\\Users\\user\\AppData\\Local\\Temp\\ipykernel_13516\\2318526172.py:7: RuntimeWarning: Channels contain different lowpass filters. Lowest filter setting will be stored.\n",
      "  raw = mne.io.read_raw_edf(file_path + str(patient_file) + \".edf\", preload=True)\n",
      " 95%|█████████▍| 75/79 [00:29<00:01,  2.70it/s]"
     ]
    },
    {
     "name": "stdout",
     "output_type": "stream",
     "text": [
      "Extracting EDF parameters from C:\\Users\\user\\Desktop\\Manuscript_Projects_IISERTVM\\EEG data\\dataset\\eeg76.edf...\n",
      "EDF file detected\n",
      "Setting channel info structure...\n",
      "Creating raw.info structure...\n",
      "Reading 0 ... 978175  =      0.000 ...  3820.996 secs...\n"
     ]
    },
    {
     "name": "stderr",
     "output_type": "stream",
     "text": [
      "C:\\Users\\user\\AppData\\Local\\Temp\\ipykernel_13516\\2318526172.py:7: RuntimeWarning: Channels contain different highpass filters. Highest filter setting will be stored.\n",
      "  raw = mne.io.read_raw_edf(file_path + str(patient_file) + \".edf\", preload=True)\n",
      "C:\\Users\\user\\AppData\\Local\\Temp\\ipykernel_13516\\2318526172.py:7: RuntimeWarning: Channels contain different lowpass filters. Lowest filter setting will be stored.\n",
      "  raw = mne.io.read_raw_edf(file_path + str(patient_file) + \".edf\", preload=True)\n",
      " 96%|█████████▌| 76/79 [00:29<00:01,  2.85it/s]"
     ]
    },
    {
     "name": "stdout",
     "output_type": "stream",
     "text": [
      "Extracting EDF parameters from C:\\Users\\user\\Desktop\\Manuscript_Projects_IISERTVM\\EEG data\\dataset\\eeg77.edf...\n",
      "EDF file detected\n",
      "Setting channel info structure...\n",
      "Creating raw.info structure...\n",
      "Reading 0 ... 1073407  =      0.000 ...  4192.996 secs...\n"
     ]
    },
    {
     "name": "stderr",
     "output_type": "stream",
     "text": [
      "C:\\Users\\user\\AppData\\Local\\Temp\\ipykernel_13516\\2318526172.py:7: RuntimeWarning: Channels contain different highpass filters. Highest filter setting will be stored.\n",
      "  raw = mne.io.read_raw_edf(file_path + str(patient_file) + \".edf\", preload=True)\n",
      "C:\\Users\\user\\AppData\\Local\\Temp\\ipykernel_13516\\2318526172.py:7: RuntimeWarning: Channels contain different lowpass filters. Lowest filter setting will be stored.\n",
      "  raw = mne.io.read_raw_edf(file_path + str(patient_file) + \".edf\", preload=True)\n",
      " 97%|█████████▋| 77/79 [00:30<00:00,  2.59it/s]"
     ]
    },
    {
     "name": "stdout",
     "output_type": "stream",
     "text": [
      "Extracting EDF parameters from C:\\Users\\user\\Desktop\\Manuscript_Projects_IISERTVM\\EEG data\\dataset\\eeg78.edf...\n",
      "EDF file detected\n",
      "Setting channel info structure...\n",
      "Creating raw.info structure...\n",
      "Reading 0 ... 1272575  =      0.000 ...  4970.996 secs...\n"
     ]
    },
    {
     "name": "stderr",
     "output_type": "stream",
     "text": [
      "C:\\Users\\user\\AppData\\Local\\Temp\\ipykernel_13516\\2318526172.py:7: RuntimeWarning: Channels contain different highpass filters. Highest filter setting will be stored.\n",
      "  raw = mne.io.read_raw_edf(file_path + str(patient_file) + \".edf\", preload=True)\n",
      "C:\\Users\\user\\AppData\\Local\\Temp\\ipykernel_13516\\2318526172.py:7: RuntimeWarning: Channels contain different lowpass filters. Lowest filter setting will be stored.\n",
      "  raw = mne.io.read_raw_edf(file_path + str(patient_file) + \".edf\", preload=True)\n",
      " 99%|█████████▊| 78/79 [00:30<00:00,  2.55it/s]"
     ]
    },
    {
     "name": "stdout",
     "output_type": "stream",
     "text": [
      "Extracting EDF parameters from C:\\Users\\user\\Desktop\\Manuscript_Projects_IISERTVM\\EEG data\\dataset\\eeg79.edf...\n",
      "EDF file detected\n",
      "Setting channel info structure...\n",
      "Creating raw.info structure...\n",
      "Reading 0 ... 844031  =      0.000 ...  3296.996 secs...\n"
     ]
    },
    {
     "name": "stderr",
     "output_type": "stream",
     "text": [
      "C:\\Users\\user\\AppData\\Local\\Temp\\ipykernel_13516\\2318526172.py:7: RuntimeWarning: Channels contain different highpass filters. Highest filter setting will be stored.\n",
      "  raw = mne.io.read_raw_edf(file_path + str(patient_file) + \".edf\", preload=True)\n",
      "C:\\Users\\user\\AppData\\Local\\Temp\\ipykernel_13516\\2318526172.py:7: RuntimeWarning: Channels contain different lowpass filters. Lowest filter setting will be stored.\n",
      "  raw = mne.io.read_raw_edf(file_path + str(patient_file) + \".edf\", preload=True)\n",
      "100%|██████████| 79/79 [00:31<00:00,  2.54it/s]\n"
     ]
    }
   ],
   "source": [
    "file_path = r\"C:\\Users\\user\\Desktop\\Manuscript_Projects_IISERTVM\\EEG data\\dataset\\eeg\"\n",
    "exclude_patients = []\n",
    "num_edf_files=79\n",
    "data=[]\n",
    "for patient_file in tqdm(range(1, num_edf_files+1)):\n",
    "    if patient_file not in exclude_patients:\n",
    "        raw = mne.io.read_raw_edf(file_path + str(patient_file) + \".edf\", preload=True)\n",
    "        #raw = change_channel_names(raw)\n",
    "        #raw = remove_artifactuals_using_ICA(raw)\n",
    "        processed_data=raw.get_data()\n",
    "        data.append(processed_data)"
   ]
  },
  {
   "cell_type": "code",
   "execution_count": 6,
   "id": "ea06a9d3-5009-4f75-959e-195ca9656054",
   "metadata": {},
   "outputs": [],
   "source": [
    "# Read annotations\n",
    "path='C:\\\\Users\\\\user\\\\Desktop\\\\Manuscript_Projects_IISERTVM\\\\EEG data\\\\dataset'\n",
    "annotation_path_A = path + '\\\\annotations_2017_A.csv'\n",
    "annotation_path_B = path + '\\\\annotations_2017_B.csv'\n",
    "annotation_path_C = path + '\\\\annotations_2017_C.csv'\n",
    "\n",
    "annotation_data_A = pd.read_csv(annotation_path_A)\n",
    "annotation_data_B = pd.read_csv(annotation_path_B)\n",
    "annotation_data_C = pd.read_csv(annotation_path_C)\n",
    "\n",
    "\n",
    "annotation_data_dict={'A':annotation_data_A,'B':annotation_data_B,'C':annotation_data_C}"
   ]
  },
  {
   "cell_type": "code",
   "execution_count": 7,
   "id": "cb383608-7508-4c7f-ba6e-8bb9c84e3190",
   "metadata": {},
   "outputs": [
    {
     "name": "stdout",
     "output_type": "stream",
     "text": [
      "2\n",
      "3\n"
     ]
    }
   ],
   "source": [
    "for doctor in ['A','B','C']:\n",
    "    for i in range(len(data)):\n",
    "        data_point=data[i]\n",
    "        annot=annotation_data_dict[doctor].columns[i]\n",
    "        a=int(data_point.shape[1]/256)\n",
    "        b=int(annotation_data_dict[doctor][annot][np.array(annotation_data_dict[doctor][annot]>=0)].shape[0])\n",
    "        if a!=b:\n",
    "            print(annot)"
   ]
  },
  {
   "cell_type": "code",
   "execution_count": 8,
   "id": "7954e0b4-a57a-4335-b222-56271401c4d2",
   "metadata": {
    "scrolled": true
   },
   "outputs": [
    {
     "name": "stderr",
     "output_type": "stream",
     "text": [
      "  0%|          | 0/79 [00:00<?, ?it/s]"
     ]
    },
    {
     "name": "stdout",
     "output_type": "stream",
     "text": [
      "Extracting EDF parameters from C:\\Users\\user\\Desktop\\Manuscript_Projects_IISERTVM\\EEG data\\dataset\\eeg1.edf...\n",
      "EDF file detected\n",
      "Setting channel info structure...\n",
      "Creating raw.info structure...\n",
      "Reading 0 ... 1790207  =      0.000 ...  6992.996 secs...\n"
     ]
    },
    {
     "name": "stderr",
     "output_type": "stream",
     "text": [
      "  1%|▏         | 1/79 [00:00<00:38,  2.03it/s]"
     ]
    },
    {
     "name": "stdout",
     "output_type": "stream",
     "text": [
      "Extracting EDF parameters from C:\\Users\\user\\Desktop\\Manuscript_Projects_IISERTVM\\EEG data\\dataset\\eeg4.edf...\n",
      "EDF file detected\n",
      "Setting channel info structure...\n",
      "Creating raw.info structure...\n",
      "Reading 0 ... 876799  =      0.000 ...  3424.996 secs...\n"
     ]
    },
    {
     "name": "stderr",
     "output_type": "stream",
     "text": [
      "C:\\Users\\user\\AppData\\Local\\Temp\\ipykernel_13516\\3134887832.py:7: RuntimeWarning: Channels contain different highpass filters. Highest filter setting will be stored.\n",
      "  raw = mne.io.read_raw_edf(file_path + str(patient_file) + \".edf\", preload=True)\n",
      "C:\\Users\\user\\AppData\\Local\\Temp\\ipykernel_13516\\3134887832.py:7: RuntimeWarning: Channels contain different lowpass filters. Lowest filter setting will be stored.\n",
      "  raw = mne.io.read_raw_edf(file_path + str(patient_file) + \".edf\", preload=True)\n",
      "  5%|▌         | 4/79 [00:00<00:12,  6.16it/s]"
     ]
    },
    {
     "name": "stdout",
     "output_type": "stream",
     "text": [
      "Extracting EDF parameters from C:\\Users\\user\\Desktop\\Manuscript_Projects_IISERTVM\\EEG data\\dataset\\eeg5.edf...\n",
      "EDF file detected\n",
      "Setting channel info structure...\n",
      "Creating raw.info structure...\n",
      "Reading 0 ... 983295  =      0.000 ...  3840.996 secs...\n"
     ]
    },
    {
     "name": "stderr",
     "output_type": "stream",
     "text": [
      "C:\\Users\\user\\AppData\\Local\\Temp\\ipykernel_13516\\3134887832.py:7: RuntimeWarning: Channels contain different highpass filters. Highest filter setting will be stored.\n",
      "  raw = mne.io.read_raw_edf(file_path + str(patient_file) + \".edf\", preload=True)\n",
      "C:\\Users\\user\\AppData\\Local\\Temp\\ipykernel_13516\\3134887832.py:7: RuntimeWarning: Channels contain different lowpass filters. Lowest filter setting will be stored.\n",
      "  raw = mne.io.read_raw_edf(file_path + str(patient_file) + \".edf\", preload=True)\n",
      "  6%|▋         | 5/79 [00:01<00:14,  5.18it/s]"
     ]
    },
    {
     "name": "stdout",
     "output_type": "stream",
     "text": [
      "Extracting EDF parameters from C:\\Users\\user\\Desktop\\Manuscript_Projects_IISERTVM\\EEG data\\dataset\\eeg6.edf...\n",
      "EDF file detected\n",
      "Setting channel info structure...\n",
      "Creating raw.info structure...\n",
      "Reading 0 ... 1203967  =      0.000 ...  4702.996 secs...\n"
     ]
    },
    {
     "name": "stderr",
     "output_type": "stream",
     "text": [
      "C:\\Users\\user\\AppData\\Local\\Temp\\ipykernel_13516\\3134887832.py:7: RuntimeWarning: Channels contain different highpass filters. Highest filter setting will be stored.\n",
      "  raw = mne.io.read_raw_edf(file_path + str(patient_file) + \".edf\", preload=True)\n",
      "C:\\Users\\user\\AppData\\Local\\Temp\\ipykernel_13516\\3134887832.py:7: RuntimeWarning: Channels contain different lowpass filters. Lowest filter setting will be stored.\n",
      "  raw = mne.io.read_raw_edf(file_path + str(patient_file) + \".edf\", preload=True)\n",
      "  8%|▊         | 6/79 [00:01<00:17,  4.24it/s]"
     ]
    },
    {
     "name": "stdout",
     "output_type": "stream",
     "text": [
      "Extracting EDF parameters from C:\\Users\\user\\Desktop\\Manuscript_Projects_IISERTVM\\EEG data\\dataset\\eeg7.edf...\n",
      "EDF file detected\n",
      "Setting channel info structure...\n",
      "Creating raw.info structure...\n",
      "Reading 0 ... 935423  =      0.000 ...  3653.996 secs...\n"
     ]
    },
    {
     "name": "stderr",
     "output_type": "stream",
     "text": [
      "C:\\Users\\user\\AppData\\Local\\Temp\\ipykernel_13516\\3134887832.py:7: RuntimeWarning: Channels contain different highpass filters. Highest filter setting will be stored.\n",
      "  raw = mne.io.read_raw_edf(file_path + str(patient_file) + \".edf\", preload=True)\n",
      "C:\\Users\\user\\AppData\\Local\\Temp\\ipykernel_13516\\3134887832.py:7: RuntimeWarning: Channels contain different lowpass filters. Lowest filter setting will be stored.\n",
      "  raw = mne.io.read_raw_edf(file_path + str(patient_file) + \".edf\", preload=True)\n",
      "  9%|▉         | 7/79 [00:01<00:18,  3.88it/s]"
     ]
    },
    {
     "name": "stdout",
     "output_type": "stream",
     "text": [
      "Extracting EDF parameters from C:\\Users\\user\\Desktop\\Manuscript_Projects_IISERTVM\\EEG data\\dataset\\eeg8.edf...\n",
      "EDF file detected\n",
      "Setting channel info structure...\n",
      "Creating raw.info structure...\n",
      "Reading 0 ... 1180927  =      0.000 ...  4612.996 secs...\n"
     ]
    },
    {
     "name": "stderr",
     "output_type": "stream",
     "text": [
      "C:\\Users\\user\\AppData\\Local\\Temp\\ipykernel_13516\\3134887832.py:7: RuntimeWarning: Channels contain different highpass filters. Highest filter setting will be stored.\n",
      "  raw = mne.io.read_raw_edf(file_path + str(patient_file) + \".edf\", preload=True)\n",
      "C:\\Users\\user\\AppData\\Local\\Temp\\ipykernel_13516\\3134887832.py:7: RuntimeWarning: Channels contain different lowpass filters. Lowest filter setting will be stored.\n",
      "  raw = mne.io.read_raw_edf(file_path + str(patient_file) + \".edf\", preload=True)\n",
      " 10%|█         | 8/79 [00:02<00:20,  3.55it/s]"
     ]
    },
    {
     "name": "stdout",
     "output_type": "stream",
     "text": [
      "Extracting EDF parameters from C:\\Users\\user\\Desktop\\Manuscript_Projects_IISERTVM\\EEG data\\dataset\\eeg9.edf...\n",
      "EDF file detected\n",
      "Setting channel info structure...\n",
      "Creating raw.info structure...\n",
      "Reading 0 ... 908799  =      0.000 ...  3549.996 secs...\n"
     ]
    },
    {
     "name": "stderr",
     "output_type": "stream",
     "text": [
      " 11%|█▏        | 9/79 [00:02<00:18,  3.72it/s]"
     ]
    },
    {
     "name": "stdout",
     "output_type": "stream",
     "text": [
      "Extracting EDF parameters from C:\\Users\\user\\Desktop\\Manuscript_Projects_IISERTVM\\EEG data\\dataset\\eeg10.edf...\n",
      "EDF file detected\n",
      "Setting channel info structure...\n",
      "Creating raw.info structure...\n",
      "Reading 0 ... 1389311  =      0.000 ...  5426.996 secs...\n"
     ]
    },
    {
     "name": "stderr",
     "output_type": "stream",
     "text": [
      "C:\\Users\\user\\AppData\\Local\\Temp\\ipykernel_13516\\3134887832.py:7: RuntimeWarning: Channels contain different highpass filters. Highest filter setting will be stored.\n",
      "  raw = mne.io.read_raw_edf(file_path + str(patient_file) + \".edf\", preload=True)\n",
      "C:\\Users\\user\\AppData\\Local\\Temp\\ipykernel_13516\\3134887832.py:7: RuntimeWarning: Channels contain different lowpass filters. Lowest filter setting will be stored.\n",
      "  raw = mne.io.read_raw_edf(file_path + str(patient_file) + \".edf\", preload=True)\n",
      " 13%|█▎        | 10/79 [00:02<00:20,  3.32it/s]"
     ]
    },
    {
     "name": "stdout",
     "output_type": "stream",
     "text": [
      "Extracting EDF parameters from C:\\Users\\user\\Desktop\\Manuscript_Projects_IISERTVM\\EEG data\\dataset\\eeg11.edf...\n",
      "EDF file detected\n",
      "Setting channel info structure...\n",
      "Creating raw.info structure...\n",
      "Reading 0 ... 1916927  =      0.000 ...  7487.996 secs...\n"
     ]
    },
    {
     "name": "stderr",
     "output_type": "stream",
     "text": [
      "C:\\Users\\user\\AppData\\Local\\Temp\\ipykernel_13516\\3134887832.py:7: RuntimeWarning: Channels contain different highpass filters. Highest filter setting will be stored.\n",
      "  raw = mne.io.read_raw_edf(file_path + str(patient_file) + \".edf\", preload=True)\n",
      "C:\\Users\\user\\AppData\\Local\\Temp\\ipykernel_13516\\3134887832.py:7: RuntimeWarning: Channels contain different lowpass filters. Lowest filter setting will be stored.\n",
      "  raw = mne.io.read_raw_edf(file_path + str(patient_file) + \".edf\", preload=True)\n",
      " 14%|█▍        | 11/79 [00:03<00:25,  2.70it/s]"
     ]
    },
    {
     "name": "stdout",
     "output_type": "stream",
     "text": [
      "Extracting EDF parameters from C:\\Users\\user\\Desktop\\Manuscript_Projects_IISERTVM\\EEG data\\dataset\\eeg12.edf...\n",
      "EDF file detected\n",
      "Setting channel info structure...\n",
      "Creating raw.info structure...\n",
      "Reading 0 ... 1143807  =      0.000 ...  4467.996 secs...\n"
     ]
    },
    {
     "name": "stderr",
     "output_type": "stream",
     "text": [
      "C:\\Users\\user\\AppData\\Local\\Temp\\ipykernel_13516\\3134887832.py:7: RuntimeWarning: Channels contain different highpass filters. Highest filter setting will be stored.\n",
      "  raw = mne.io.read_raw_edf(file_path + str(patient_file) + \".edf\", preload=True)\n",
      "C:\\Users\\user\\AppData\\Local\\Temp\\ipykernel_13516\\3134887832.py:7: RuntimeWarning: Channels contain different lowpass filters. Lowest filter setting will be stored.\n",
      "  raw = mne.io.read_raw_edf(file_path + str(patient_file) + \".edf\", preload=True)\n",
      " 15%|█▌        | 12/79 [00:03<00:24,  2.79it/s]"
     ]
    },
    {
     "name": "stdout",
     "output_type": "stream",
     "text": [
      "Extracting EDF parameters from C:\\Users\\user\\Desktop\\Manuscript_Projects_IISERTVM\\EEG data\\dataset\\eeg13.edf...\n",
      "EDF file detected\n",
      "Setting channel info structure...\n",
      "Creating raw.info structure...\n",
      "Reading 0 ... 3946495  =      0.000 ... 15415.996 secs...\n"
     ]
    },
    {
     "name": "stderr",
     "output_type": "stream",
     "text": [
      "C:\\Users\\user\\AppData\\Local\\Temp\\ipykernel_13516\\3134887832.py:7: RuntimeWarning: Channels contain different highpass filters. Highest filter setting will be stored.\n",
      "  raw = mne.io.read_raw_edf(file_path + str(patient_file) + \".edf\", preload=True)\n",
      "C:\\Users\\user\\AppData\\Local\\Temp\\ipykernel_13516\\3134887832.py:7: RuntimeWarning: Channels contain different lowpass filters. Lowest filter setting will be stored.\n",
      "  raw = mne.io.read_raw_edf(file_path + str(patient_file) + \".edf\", preload=True)\n",
      " 16%|█▋        | 13/79 [00:04<00:37,  1.75it/s]"
     ]
    },
    {
     "name": "stdout",
     "output_type": "stream",
     "text": [
      "Extracting EDF parameters from C:\\Users\\user\\Desktop\\Manuscript_Projects_IISERTVM\\EEG data\\dataset\\eeg14.edf...\n",
      "EDF file detected\n",
      "Setting channel info structure...\n",
      "Creating raw.info structure...\n",
      "Reading 0 ... 953855  =      0.000 ...  3725.996 secs...\n"
     ]
    },
    {
     "name": "stderr",
     "output_type": "stream",
     "text": [
      "C:\\Users\\user\\AppData\\Local\\Temp\\ipykernel_13516\\3134887832.py:7: RuntimeWarning: Channels contain different highpass filters. Highest filter setting will be stored.\n",
      "  raw = mne.io.read_raw_edf(file_path + str(patient_file) + \".edf\", preload=True)\n",
      "C:\\Users\\user\\AppData\\Local\\Temp\\ipykernel_13516\\3134887832.py:7: RuntimeWarning: Channels contain different lowpass filters. Lowest filter setting will be stored.\n",
      "  raw = mne.io.read_raw_edf(file_path + str(patient_file) + \".edf\", preload=True)\n",
      " 18%|█▊        | 14/79 [00:04<00:31,  2.07it/s]"
     ]
    },
    {
     "name": "stdout",
     "output_type": "stream",
     "text": [
      "Extracting EDF parameters from C:\\Users\\user\\Desktop\\Manuscript_Projects_IISERTVM\\EEG data\\dataset\\eeg15.edf...\n",
      "EDF file detected\n",
      "Setting channel info structure...\n",
      "Creating raw.info structure...\n",
      "Reading 0 ... 1765887  =      0.000 ...  6897.996 secs...\n"
     ]
    },
    {
     "name": "stderr",
     "output_type": "stream",
     "text": [
      " 19%|█▉        | 15/79 [00:05<00:31,  2.02it/s]"
     ]
    },
    {
     "name": "stdout",
     "output_type": "stream",
     "text": [
      "Extracting EDF parameters from C:\\Users\\user\\Desktop\\Manuscript_Projects_IISERTVM\\EEG data\\dataset\\eeg16.edf...\n",
      "EDF file detected\n",
      "Setting channel info structure...\n",
      "Creating raw.info structure...\n",
      "Reading 0 ... 1520895  =      0.000 ...  5940.996 secs...\n"
     ]
    },
    {
     "name": "stderr",
     "output_type": "stream",
     "text": [
      "C:\\Users\\user\\AppData\\Local\\Temp\\ipykernel_13516\\3134887832.py:7: RuntimeWarning: Channels contain different highpass filters. Highest filter setting will be stored.\n",
      "  raw = mne.io.read_raw_edf(file_path + str(patient_file) + \".edf\", preload=True)\n",
      "C:\\Users\\user\\AppData\\Local\\Temp\\ipykernel_13516\\3134887832.py:7: RuntimeWarning: Channels contain different lowpass filters. Lowest filter setting will be stored.\n",
      "  raw = mne.io.read_raw_edf(file_path + str(patient_file) + \".edf\", preload=True)\n",
      " 20%|██        | 16/79 [00:05<00:29,  2.12it/s]"
     ]
    },
    {
     "name": "stdout",
     "output_type": "stream",
     "text": [
      "Extracting EDF parameters from C:\\Users\\user\\Desktop\\Manuscript_Projects_IISERTVM\\EEG data\\dataset\\eeg17.edf...\n",
      "EDF file detected\n",
      "Setting channel info structure...\n",
      "Creating raw.info structure...\n",
      "Reading 0 ... 1406207  =      0.000 ...  5492.996 secs...\n"
     ]
    },
    {
     "name": "stderr",
     "output_type": "stream",
     "text": [
      "C:\\Users\\user\\AppData\\Local\\Temp\\ipykernel_13516\\3134887832.py:7: RuntimeWarning: Channels contain different highpass filters. Highest filter setting will be stored.\n",
      "  raw = mne.io.read_raw_edf(file_path + str(patient_file) + \".edf\", preload=True)\n",
      "C:\\Users\\user\\AppData\\Local\\Temp\\ipykernel_13516\\3134887832.py:7: RuntimeWarning: Channels contain different lowpass filters. Lowest filter setting will be stored.\n",
      "  raw = mne.io.read_raw_edf(file_path + str(patient_file) + \".edf\", preload=True)\n",
      " 22%|██▏       | 17/79 [00:06<00:27,  2.22it/s]"
     ]
    },
    {
     "name": "stdout",
     "output_type": "stream",
     "text": [
      "Extracting EDF parameters from C:\\Users\\user\\Desktop\\Manuscript_Projects_IISERTVM\\EEG data\\dataset\\eeg18.edf...\n",
      "EDF file detected\n",
      "Setting channel info structure...\n",
      "Creating raw.info structure...\n",
      "Reading 0 ... 934655  =      0.000 ...  3650.996 secs...\n"
     ]
    },
    {
     "name": "stderr",
     "output_type": "stream",
     "text": [
      "C:\\Users\\user\\AppData\\Local\\Temp\\ipykernel_13516\\3134887832.py:7: RuntimeWarning: Channels contain different highpass filters. Highest filter setting will be stored.\n",
      "  raw = mne.io.read_raw_edf(file_path + str(patient_file) + \".edf\", preload=True)\n",
      "C:\\Users\\user\\AppData\\Local\\Temp\\ipykernel_13516\\3134887832.py:7: RuntimeWarning: Channels contain different lowpass filters. Lowest filter setting will be stored.\n",
      "  raw = mne.io.read_raw_edf(file_path + str(patient_file) + \".edf\", preload=True)\n",
      " 23%|██▎       | 18/79 [00:06<00:24,  2.53it/s]"
     ]
    },
    {
     "name": "stdout",
     "output_type": "stream",
     "text": [
      "Extracting EDF parameters from C:\\Users\\user\\Desktop\\Manuscript_Projects_IISERTVM\\EEG data\\dataset\\eeg19.edf...\n",
      "EDF file detected\n",
      "Setting channel info structure...\n",
      "Creating raw.info structure...\n",
      "Reading 0 ... 2305535  =      0.000 ...  9005.996 secs...\n"
     ]
    },
    {
     "name": "stderr",
     "output_type": "stream",
     "text": [
      "C:\\Users\\user\\AppData\\Local\\Temp\\ipykernel_13516\\3134887832.py:7: RuntimeWarning: Channels contain different highpass filters. Highest filter setting will be stored.\n",
      "  raw = mne.io.read_raw_edf(file_path + str(patient_file) + \".edf\", preload=True)\n",
      "C:\\Users\\user\\AppData\\Local\\Temp\\ipykernel_13516\\3134887832.py:7: RuntimeWarning: Channels contain different lowpass filters. Lowest filter setting will be stored.\n",
      "  raw = mne.io.read_raw_edf(file_path + str(patient_file) + \".edf\", preload=True)\n",
      " 24%|██▍       | 19/79 [00:07<00:28,  2.12it/s]"
     ]
    },
    {
     "name": "stdout",
     "output_type": "stream",
     "text": [
      "Extracting EDF parameters from C:\\Users\\user\\Desktop\\Manuscript_Projects_IISERTVM\\EEG data\\dataset\\eeg20.edf...\n",
      "EDF file detected\n",
      "Setting channel info structure...\n",
      "Creating raw.info structure...\n",
      "Reading 0 ... 1020671  =      0.000 ...  3986.996 secs...\n"
     ]
    },
    {
     "name": "stderr",
     "output_type": "stream",
     "text": [
      "C:\\Users\\user\\AppData\\Local\\Temp\\ipykernel_13516\\3134887832.py:7: RuntimeWarning: Channels contain different highpass filters. Highest filter setting will be stored.\n",
      "  raw = mne.io.read_raw_edf(file_path + str(patient_file) + \".edf\", preload=True)\n",
      "C:\\Users\\user\\AppData\\Local\\Temp\\ipykernel_13516\\3134887832.py:7: RuntimeWarning: Channels contain different lowpass filters. Lowest filter setting will be stored.\n",
      "  raw = mne.io.read_raw_edf(file_path + str(patient_file) + \".edf\", preload=True)\n",
      " 25%|██▌       | 20/79 [00:07<00:24,  2.40it/s]"
     ]
    },
    {
     "name": "stdout",
     "output_type": "stream",
     "text": [
      "Extracting EDF parameters from C:\\Users\\user\\Desktop\\Manuscript_Projects_IISERTVM\\EEG data\\dataset\\eeg21.edf...\n",
      "EDF file detected\n",
      "Setting channel info structure...\n",
      "Creating raw.info structure...\n",
      "Reading 0 ... 1460991  =      0.000 ...  5706.996 secs...\n"
     ]
    },
    {
     "name": "stderr",
     "output_type": "stream",
     "text": [
      " 27%|██▋       | 21/79 [00:07<00:23,  2.43it/s]"
     ]
    },
    {
     "name": "stdout",
     "output_type": "stream",
     "text": [
      "Extracting EDF parameters from C:\\Users\\user\\Desktop\\Manuscript_Projects_IISERTVM\\EEG data\\dataset\\eeg22.edf...\n",
      "EDF file detected\n",
      "Setting channel info structure...\n",
      "Creating raw.info structure...\n",
      "Reading 0 ... 984063  =      0.000 ...  3843.996 secs...\n"
     ]
    },
    {
     "name": "stderr",
     "output_type": "stream",
     "text": [
      " 28%|██▊       | 22/79 [00:08<00:21,  2.70it/s]"
     ]
    },
    {
     "name": "stdout",
     "output_type": "stream",
     "text": [
      "Extracting EDF parameters from C:\\Users\\user\\Desktop\\Manuscript_Projects_IISERTVM\\EEG data\\dataset\\eeg23.edf...\n",
      "EDF file detected\n",
      "Setting channel info structure...\n",
      "Creating raw.info structure...\n",
      "Reading 0 ... 1134847  =      0.000 ...  4432.996 secs...\n"
     ]
    },
    {
     "name": "stderr",
     "output_type": "stream",
     "text": [
      "C:\\Users\\user\\AppData\\Local\\Temp\\ipykernel_13516\\3134887832.py:7: RuntimeWarning: Channels contain different highpass filters. Highest filter setting will be stored.\n",
      "  raw = mne.io.read_raw_edf(file_path + str(patient_file) + \".edf\", preload=True)\n",
      "C:\\Users\\user\\AppData\\Local\\Temp\\ipykernel_13516\\3134887832.py:7: RuntimeWarning: Channels contain different lowpass filters. Lowest filter setting will be stored.\n",
      "  raw = mne.io.read_raw_edf(file_path + str(patient_file) + \".edf\", preload=True)\n",
      " 29%|██▉       | 23/79 [00:08<00:19,  2.80it/s]"
     ]
    },
    {
     "name": "stdout",
     "output_type": "stream",
     "text": [
      "Extracting EDF parameters from C:\\Users\\user\\Desktop\\Manuscript_Projects_IISERTVM\\EEG data\\dataset\\eeg24.edf...\n",
      "EDF file detected\n",
      "Setting channel info structure...\n",
      "Creating raw.info structure...\n",
      "Reading 0 ... 948735  =      0.000 ...  3705.996 secs...\n"
     ]
    },
    {
     "name": "stderr",
     "output_type": "stream",
     "text": [
      "C:\\Users\\user\\AppData\\Local\\Temp\\ipykernel_13516\\3134887832.py:7: RuntimeWarning: Channels contain different highpass filters. Highest filter setting will be stored.\n",
      "  raw = mne.io.read_raw_edf(file_path + str(patient_file) + \".edf\", preload=True)\n",
      "C:\\Users\\user\\AppData\\Local\\Temp\\ipykernel_13516\\3134887832.py:7: RuntimeWarning: Channels contain different lowpass filters. Lowest filter setting will be stored.\n",
      "  raw = mne.io.read_raw_edf(file_path + str(patient_file) + \".edf\", preload=True)\n",
      " 30%|███       | 24/79 [00:08<00:18,  2.99it/s]"
     ]
    },
    {
     "name": "stdout",
     "output_type": "stream",
     "text": [
      "Extracting EDF parameters from C:\\Users\\user\\Desktop\\Manuscript_Projects_IISERTVM\\EEG data\\dataset\\eeg25.edf...\n",
      "EDF file detected\n",
      "Setting channel info structure...\n",
      "Creating raw.info structure...\n",
      "Reading 0 ... 1717503  =      0.000 ...  6708.996 secs...\n"
     ]
    },
    {
     "name": "stderr",
     "output_type": "stream",
     "text": [
      " 32%|███▏      | 25/79 [00:09<00:19,  2.70it/s]"
     ]
    },
    {
     "name": "stdout",
     "output_type": "stream",
     "text": [
      "Extracting EDF parameters from C:\\Users\\user\\Desktop\\Manuscript_Projects_IISERTVM\\EEG data\\dataset\\eeg26.edf...\n",
      "EDF file detected\n",
      "Setting channel info structure...\n",
      "Creating raw.info structure...\n",
      "Reading 0 ... 1070591  =      0.000 ...  4181.996 secs...\n"
     ]
    },
    {
     "name": "stderr",
     "output_type": "stream",
     "text": [
      "C:\\Users\\user\\AppData\\Local\\Temp\\ipykernel_13516\\3134887832.py:7: RuntimeWarning: Channels contain different highpass filters. Highest filter setting will be stored.\n",
      "  raw = mne.io.read_raw_edf(file_path + str(patient_file) + \".edf\", preload=True)\n",
      "C:\\Users\\user\\AppData\\Local\\Temp\\ipykernel_13516\\3134887832.py:7: RuntimeWarning: Channels contain different lowpass filters. Lowest filter setting will be stored.\n",
      "  raw = mne.io.read_raw_edf(file_path + str(patient_file) + \".edf\", preload=True)\n",
      " 33%|███▎      | 26/79 [00:09<00:18,  2.88it/s]"
     ]
    },
    {
     "name": "stdout",
     "output_type": "stream",
     "text": [
      "Extracting EDF parameters from C:\\Users\\user\\Desktop\\Manuscript_Projects_IISERTVM\\EEG data\\dataset\\eeg27.edf...\n",
      "EDF file detected\n",
      "Setting channel info structure...\n",
      "Creating raw.info structure...\n",
      "Reading 0 ... 894975  =      0.000 ...  3495.996 secs...\n"
     ]
    },
    {
     "name": "stderr",
     "output_type": "stream",
     "text": [
      "C:\\Users\\user\\AppData\\Local\\Temp\\ipykernel_13516\\3134887832.py:7: RuntimeWarning: Channels contain different highpass filters. Highest filter setting will be stored.\n",
      "  raw = mne.io.read_raw_edf(file_path + str(patient_file) + \".edf\", preload=True)\n",
      "C:\\Users\\user\\AppData\\Local\\Temp\\ipykernel_13516\\3134887832.py:7: RuntimeWarning: Channels contain different lowpass filters. Lowest filter setting will be stored.\n",
      "  raw = mne.io.read_raw_edf(file_path + str(patient_file) + \".edf\", preload=True)\n",
      " 34%|███▍      | 27/79 [00:09<00:16,  3.14it/s]"
     ]
    },
    {
     "name": "stdout",
     "output_type": "stream",
     "text": [
      "Extracting EDF parameters from C:\\Users\\user\\Desktop\\Manuscript_Projects_IISERTVM\\EEG data\\dataset\\eeg28.edf...\n",
      "EDF file detected\n",
      "Setting channel info structure...\n",
      "Creating raw.info structure...\n",
      "Reading 0 ... 1473791  =      0.000 ...  5756.996 secs...\n"
     ]
    },
    {
     "name": "stderr",
     "output_type": "stream",
     "text": [
      "C:\\Users\\user\\AppData\\Local\\Temp\\ipykernel_13516\\3134887832.py:7: RuntimeWarning: Channels contain different highpass filters. Highest filter setting will be stored.\n",
      "  raw = mne.io.read_raw_edf(file_path + str(patient_file) + \".edf\", preload=True)\n",
      "C:\\Users\\user\\AppData\\Local\\Temp\\ipykernel_13516\\3134887832.py:7: RuntimeWarning: Channels contain different lowpass filters. Lowest filter setting will be stored.\n",
      "  raw = mne.io.read_raw_edf(file_path + str(patient_file) + \".edf\", preload=True)\n",
      " 35%|███▌      | 28/79 [00:10<00:17,  2.97it/s]"
     ]
    },
    {
     "name": "stdout",
     "output_type": "stream",
     "text": [
      "Extracting EDF parameters from C:\\Users\\user\\Desktop\\Manuscript_Projects_IISERTVM\\EEG data\\dataset\\eeg29.edf...\n",
      "EDF file detected\n",
      "Setting channel info structure...\n",
      "Creating raw.info structure...\n",
      "Reading 0 ... 2057471  =      0.000 ...  8036.996 secs...\n"
     ]
    },
    {
     "name": "stderr",
     "output_type": "stream",
     "text": [
      "C:\\Users\\user\\AppData\\Local\\Temp\\ipykernel_13516\\3134887832.py:7: RuntimeWarning: Channels contain different highpass filters. Highest filter setting will be stored.\n",
      "  raw = mne.io.read_raw_edf(file_path + str(patient_file) + \".edf\", preload=True)\n",
      "C:\\Users\\user\\AppData\\Local\\Temp\\ipykernel_13516\\3134887832.py:7: RuntimeWarning: Channels contain different lowpass filters. Lowest filter setting will be stored.\n",
      "  raw = mne.io.read_raw_edf(file_path + str(patient_file) + \".edf\", preload=True)\n",
      " 37%|███▋      | 29/79 [00:10<00:20,  2.43it/s]"
     ]
    },
    {
     "name": "stdout",
     "output_type": "stream",
     "text": [
      "Extracting EDF parameters from C:\\Users\\user\\Desktop\\Manuscript_Projects_IISERTVM\\EEG data\\dataset\\eeg30.edf...\n",
      "EDF file detected\n",
      "Setting channel info structure...\n",
      "Creating raw.info structure...\n",
      "Reading 0 ... 1007871  =      0.000 ...  3936.996 secs...\n"
     ]
    },
    {
     "name": "stderr",
     "output_type": "stream",
     "text": [
      "C:\\Users\\user\\AppData\\Local\\Temp\\ipykernel_13516\\3134887832.py:7: RuntimeWarning: Channels contain different highpass filters. Highest filter setting will be stored.\n",
      "  raw = mne.io.read_raw_edf(file_path + str(patient_file) + \".edf\", preload=True)\n",
      "C:\\Users\\user\\AppData\\Local\\Temp\\ipykernel_13516\\3134887832.py:7: RuntimeWarning: Channels contain different lowpass filters. Lowest filter setting will be stored.\n",
      "  raw = mne.io.read_raw_edf(file_path + str(patient_file) + \".edf\", preload=True)\n",
      " 38%|███▊      | 30/79 [00:10<00:18,  2.71it/s]"
     ]
    },
    {
     "name": "stdout",
     "output_type": "stream",
     "text": [
      "Extracting EDF parameters from C:\\Users\\user\\Desktop\\Manuscript_Projects_IISERTVM\\EEG data\\dataset\\eeg31.edf...\n",
      "EDF file detected\n",
      "Setting channel info structure...\n",
      "Creating raw.info structure...\n",
      "Reading 0 ... 903423  =      0.000 ...  3528.996 secs...\n"
     ]
    },
    {
     "name": "stderr",
     "output_type": "stream",
     "text": [
      " 39%|███▉      | 31/79 [00:11<00:16,  2.94it/s]"
     ]
    },
    {
     "name": "stdout",
     "output_type": "stream",
     "text": [
      "Extracting EDF parameters from C:\\Users\\user\\Desktop\\Manuscript_Projects_IISERTVM\\EEG data\\dataset\\eeg32.edf...\n",
      "EDF file detected\n",
      "Setting channel info structure...\n",
      "Creating raw.info structure...\n",
      "Reading 0 ... 1180927  =      0.000 ...  4612.996 secs...\n"
     ]
    },
    {
     "name": "stderr",
     "output_type": "stream",
     "text": [
      "C:\\Users\\user\\AppData\\Local\\Temp\\ipykernel_13516\\3134887832.py:7: RuntimeWarning: Channels contain different highpass filters. Highest filter setting will be stored.\n",
      "  raw = mne.io.read_raw_edf(file_path + str(patient_file) + \".edf\", preload=True)\n",
      "C:\\Users\\user\\AppData\\Local\\Temp\\ipykernel_13516\\3134887832.py:7: RuntimeWarning: Channels contain different lowpass filters. Lowest filter setting will be stored.\n",
      "  raw = mne.io.read_raw_edf(file_path + str(patient_file) + \".edf\", preload=True)\n",
      " 41%|████      | 32/79 [00:11<00:15,  2.97it/s]"
     ]
    },
    {
     "name": "stdout",
     "output_type": "stream",
     "text": [
      "Extracting EDF parameters from C:\\Users\\user\\Desktop\\Manuscript_Projects_IISERTVM\\EEG data\\dataset\\eeg33.edf...\n",
      "EDF file detected\n",
      "Setting channel info structure...\n",
      "Creating raw.info structure...\n",
      "Reading 0 ... 959231  =      0.000 ...  3746.996 secs...\n"
     ]
    },
    {
     "name": "stderr",
     "output_type": "stream",
     "text": [
      "C:\\Users\\user\\AppData\\Local\\Temp\\ipykernel_13516\\3134887832.py:7: RuntimeWarning: Channels contain different highpass filters. Highest filter setting will be stored.\n",
      "  raw = mne.io.read_raw_edf(file_path + str(patient_file) + \".edf\", preload=True)\n",
      "C:\\Users\\user\\AppData\\Local\\Temp\\ipykernel_13516\\3134887832.py:7: RuntimeWarning: Channels contain different lowpass filters. Lowest filter setting will be stored.\n",
      "  raw = mne.io.read_raw_edf(file_path + str(patient_file) + \".edf\", preload=True)\n",
      " 42%|████▏     | 33/79 [00:11<00:14,  3.12it/s]"
     ]
    },
    {
     "name": "stdout",
     "output_type": "stream",
     "text": [
      "Extracting EDF parameters from C:\\Users\\user\\Desktop\\Manuscript_Projects_IISERTVM\\EEG data\\dataset\\eeg34.edf...\n",
      "EDF file detected\n",
      "Setting channel info structure...\n",
      "Creating raw.info structure...\n",
      "Reading 0 ... 1661695  =      0.000 ...  6490.996 secs...\n"
     ]
    },
    {
     "name": "stderr",
     "output_type": "stream",
     "text": [
      "C:\\Users\\user\\AppData\\Local\\Temp\\ipykernel_13516\\3134887832.py:7: RuntimeWarning: Channels contain different highpass filters. Highest filter setting will be stored.\n",
      "  raw = mne.io.read_raw_edf(file_path + str(patient_file) + \".edf\", preload=True)\n",
      "C:\\Users\\user\\AppData\\Local\\Temp\\ipykernel_13516\\3134887832.py:7: RuntimeWarning: Channels contain different lowpass filters. Lowest filter setting will be stored.\n",
      "  raw = mne.io.read_raw_edf(file_path + str(patient_file) + \".edf\", preload=True)\n",
      " 43%|████▎     | 34/79 [00:12<00:16,  2.73it/s]"
     ]
    },
    {
     "name": "stdout",
     "output_type": "stream",
     "text": [
      "Extracting EDF parameters from C:\\Users\\user\\Desktop\\Manuscript_Projects_IISERTVM\\EEG data\\dataset\\eeg35.edf...\n",
      "EDF file detected\n",
      "Setting channel info structure...\n",
      "Creating raw.info structure...\n",
      "Reading 0 ... 964351  =      0.000 ...  3766.996 secs...\n"
     ]
    },
    {
     "name": "stderr",
     "output_type": "stream",
     "text": [
      "C:\\Users\\user\\AppData\\Local\\Temp\\ipykernel_13516\\3134887832.py:7: RuntimeWarning: Channels contain different highpass filters. Highest filter setting will be stored.\n",
      "  raw = mne.io.read_raw_edf(file_path + str(patient_file) + \".edf\", preload=True)\n",
      "C:\\Users\\user\\AppData\\Local\\Temp\\ipykernel_13516\\3134887832.py:7: RuntimeWarning: Channels contain different lowpass filters. Lowest filter setting will be stored.\n",
      "  raw = mne.io.read_raw_edf(file_path + str(patient_file) + \".edf\", preload=True)\n",
      " 44%|████▍     | 35/79 [00:12<00:14,  2.96it/s]"
     ]
    },
    {
     "name": "stdout",
     "output_type": "stream",
     "text": [
      "Extracting EDF parameters from C:\\Users\\user\\Desktop\\Manuscript_Projects_IISERTVM\\EEG data\\dataset\\eeg36.edf...\n",
      "EDF file detected\n",
      "Setting channel info structure...\n",
      "Creating raw.info structure...\n",
      "Reading 0 ... 1300991  =      0.000 ...  5081.996 secs...\n"
     ]
    },
    {
     "name": "stderr",
     "output_type": "stream",
     "text": [
      " 46%|████▌     | 36/79 [00:12<00:15,  2.86it/s]"
     ]
    },
    {
     "name": "stdout",
     "output_type": "stream",
     "text": [
      "Extracting EDF parameters from C:\\Users\\user\\Desktop\\Manuscript_Projects_IISERTVM\\EEG data\\dataset\\eeg37.edf...\n",
      "EDF file detected\n",
      "Setting channel info structure...\n",
      "Creating raw.info structure...\n",
      "Reading 0 ... 1171967  =      0.000 ...  4577.996 secs...\n"
     ]
    },
    {
     "name": "stderr",
     "output_type": "stream",
     "text": [
      "C:\\Users\\user\\AppData\\Local\\Temp\\ipykernel_13516\\3134887832.py:7: RuntimeWarning: Channels contain different highpass filters. Highest filter setting will be stored.\n",
      "  raw = mne.io.read_raw_edf(file_path + str(patient_file) + \".edf\", preload=True)\n",
      "C:\\Users\\user\\AppData\\Local\\Temp\\ipykernel_13516\\3134887832.py:7: RuntimeWarning: Channels contain different lowpass filters. Lowest filter setting will be stored.\n",
      "  raw = mne.io.read_raw_edf(file_path + str(patient_file) + \".edf\", preload=True)\n",
      " 47%|████▋     | 37/79 [00:13<00:14,  2.92it/s]"
     ]
    },
    {
     "name": "stdout",
     "output_type": "stream",
     "text": [
      "Extracting EDF parameters from C:\\Users\\user\\Desktop\\Manuscript_Projects_IISERTVM\\EEG data\\dataset\\eeg38.edf...\n",
      "EDF file detected\n",
      "Setting channel info structure...\n",
      "Creating raw.info structure...\n",
      "Reading 0 ... 1560319  =      0.000 ...  6094.996 secs...\n"
     ]
    },
    {
     "name": "stderr",
     "output_type": "stream",
     "text": [
      " 48%|████▊     | 38/79 [00:13<00:15,  2.71it/s]"
     ]
    },
    {
     "name": "stdout",
     "output_type": "stream",
     "text": [
      "Extracting EDF parameters from C:\\Users\\user\\Desktop\\Manuscript_Projects_IISERTVM\\EEG data\\dataset\\eeg39.edf...\n",
      "EDF file detected\n",
      "Setting channel info structure...\n",
      "Creating raw.info structure...\n",
      "Reading 0 ... 1185023  =      0.000 ...  4628.996 secs...\n"
     ]
    },
    {
     "name": "stderr",
     "output_type": "stream",
     "text": [
      " 49%|████▉     | 39/79 [00:14<00:14,  2.77it/s]"
     ]
    },
    {
     "name": "stdout",
     "output_type": "stream",
     "text": [
      "Extracting EDF parameters from C:\\Users\\user\\Desktop\\Manuscript_Projects_IISERTVM\\EEG data\\dataset\\eeg42.edf...\n",
      "EDF file detected\n",
      "Setting channel info structure...\n",
      "Creating raw.info structure...\n",
      "Reading 0 ... 1273343  =      0.000 ...  4973.996 secs...\n"
     ]
    },
    {
     "name": "stderr",
     "output_type": "stream",
     "text": [
      "C:\\Users\\user\\AppData\\Local\\Temp\\ipykernel_13516\\3134887832.py:7: RuntimeWarning: Channels contain different highpass filters. Highest filter setting will be stored.\n",
      "  raw = mne.io.read_raw_edf(file_path + str(patient_file) + \".edf\", preload=True)\n",
      "C:\\Users\\user\\AppData\\Local\\Temp\\ipykernel_13516\\3134887832.py:7: RuntimeWarning: Channels contain different lowpass filters. Lowest filter setting will be stored.\n",
      "  raw = mne.io.read_raw_edf(file_path + str(patient_file) + \".edf\", preload=True)\n",
      " 53%|█████▎    | 42/79 [00:14<00:08,  4.45it/s]"
     ]
    },
    {
     "name": "stdout",
     "output_type": "stream",
     "text": [
      "Extracting EDF parameters from C:\\Users\\user\\Desktop\\Manuscript_Projects_IISERTVM\\EEG data\\dataset\\eeg43.edf...\n",
      "EDF file detected\n",
      "Setting channel info structure...\n",
      "Creating raw.info structure...\n",
      "Reading 0 ... 1864447  =      0.000 ...  7282.996 secs...\n"
     ]
    },
    {
     "name": "stderr",
     "output_type": "stream",
     "text": [
      "C:\\Users\\user\\AppData\\Local\\Temp\\ipykernel_13516\\3134887832.py:7: RuntimeWarning: Channels contain different highpass filters. Highest filter setting will be stored.\n",
      "  raw = mne.io.read_raw_edf(file_path + str(patient_file) + \".edf\", preload=True)\n",
      "C:\\Users\\user\\AppData\\Local\\Temp\\ipykernel_13516\\3134887832.py:7: RuntimeWarning: Channels contain different lowpass filters. Lowest filter setting will be stored.\n",
      "  raw = mne.io.read_raw_edf(file_path + str(patient_file) + \".edf\", preload=True)\n",
      " 54%|█████▍    | 43/79 [00:14<00:10,  3.48it/s]"
     ]
    },
    {
     "name": "stdout",
     "output_type": "stream",
     "text": [
      "Extracting EDF parameters from C:\\Users\\user\\Desktop\\Manuscript_Projects_IISERTVM\\EEG data\\dataset\\eeg44.edf...\n",
      "EDF file detected\n",
      "Setting channel info structure...\n",
      "Creating raw.info structure...\n",
      "Reading 0 ... 860159  =      0.000 ...  3359.996 secs...\n"
     ]
    },
    {
     "name": "stderr",
     "output_type": "stream",
     "text": [
      " 56%|█████▌    | 44/79 [00:15<00:09,  3.57it/s]"
     ]
    },
    {
     "name": "stdout",
     "output_type": "stream",
     "text": [
      "Extracting EDF parameters from C:\\Users\\user\\Desktop\\Manuscript_Projects_IISERTVM\\EEG data\\dataset\\eeg45.edf...\n",
      "EDF file detected\n",
      "Setting channel info structure...\n",
      "Creating raw.info structure...\n",
      "Reading 0 ... 978431  =      0.000 ...  3821.996 secs...\n"
     ]
    },
    {
     "name": "stderr",
     "output_type": "stream",
     "text": [
      "C:\\Users\\user\\AppData\\Local\\Temp\\ipykernel_13516\\3134887832.py:7: RuntimeWarning: Channels contain different highpass filters. Highest filter setting will be stored.\n",
      "  raw = mne.io.read_raw_edf(file_path + str(patient_file) + \".edf\", preload=True)\n",
      "C:\\Users\\user\\AppData\\Local\\Temp\\ipykernel_13516\\3134887832.py:7: RuntimeWarning: Channels contain different lowpass filters. Lowest filter setting will be stored.\n",
      "  raw = mne.io.read_raw_edf(file_path + str(patient_file) + \".edf\", preload=True)\n",
      " 57%|█████▋    | 45/79 [00:15<00:09,  3.49it/s]"
     ]
    },
    {
     "name": "stdout",
     "output_type": "stream",
     "text": [
      "Extracting EDF parameters from C:\\Users\\user\\Desktop\\Manuscript_Projects_IISERTVM\\EEG data\\dataset\\eeg46.edf...\n",
      "EDF file detected\n",
      "Setting channel info structure...\n",
      "Creating raw.info structure...\n",
      "Reading 0 ... 1310719  =      0.000 ...  5119.996 secs...\n"
     ]
    },
    {
     "name": "stderr",
     "output_type": "stream",
     "text": [
      "C:\\Users\\user\\AppData\\Local\\Temp\\ipykernel_13516\\3134887832.py:7: RuntimeWarning: Channels contain different highpass filters. Highest filter setting will be stored.\n",
      "  raw = mne.io.read_raw_edf(file_path + str(patient_file) + \".edf\", preload=True)\n",
      "C:\\Users\\user\\AppData\\Local\\Temp\\ipykernel_13516\\3134887832.py:7: RuntimeWarning: Channels contain different lowpass filters. Lowest filter setting will be stored.\n",
      "  raw = mne.io.read_raw_edf(file_path + str(patient_file) + \".edf\", preload=True)\n",
      " 58%|█████▊    | 46/79 [00:15<00:10,  3.20it/s]"
     ]
    },
    {
     "name": "stdout",
     "output_type": "stream",
     "text": [
      "Extracting EDF parameters from C:\\Users\\user\\Desktop\\Manuscript_Projects_IISERTVM\\EEG data\\dataset\\eeg47.edf...\n",
      "EDF file detected\n",
      "Setting channel info structure...\n",
      "Creating raw.info structure...\n",
      "Reading 0 ... 923135  =      0.000 ...  3605.996 secs...\n"
     ]
    },
    {
     "name": "stderr",
     "output_type": "stream",
     "text": [
      "C:\\Users\\user\\AppData\\Local\\Temp\\ipykernel_13516\\3134887832.py:7: RuntimeWarning: Channels contain different highpass filters. Highest filter setting will be stored.\n",
      "  raw = mne.io.read_raw_edf(file_path + str(patient_file) + \".edf\", preload=True)\n",
      "C:\\Users\\user\\AppData\\Local\\Temp\\ipykernel_13516\\3134887832.py:7: RuntimeWarning: Channels contain different lowpass filters. Lowest filter setting will be stored.\n",
      "  raw = mne.io.read_raw_edf(file_path + str(patient_file) + \".edf\", preload=True)\n",
      " 59%|█████▉    | 47/79 [00:16<00:09,  3.33it/s]"
     ]
    },
    {
     "name": "stdout",
     "output_type": "stream",
     "text": [
      "Extracting EDF parameters from C:\\Users\\user\\Desktop\\Manuscript_Projects_IISERTVM\\EEG data\\dataset\\eeg48.edf...\n",
      "EDF file detected\n",
      "Setting channel info structure...\n",
      "Creating raw.info structure...\n",
      "Reading 0 ... 983039  =      0.000 ...  3839.996 secs...\n"
     ]
    },
    {
     "name": "stderr",
     "output_type": "stream",
     "text": [
      "C:\\Users\\user\\AppData\\Local\\Temp\\ipykernel_13516\\3134887832.py:7: RuntimeWarning: Channels contain different highpass filters. Highest filter setting will be stored.\n",
      "  raw = mne.io.read_raw_edf(file_path + str(patient_file) + \".edf\", preload=True)\n",
      "C:\\Users\\user\\AppData\\Local\\Temp\\ipykernel_13516\\3134887832.py:7: RuntimeWarning: Channels contain different lowpass filters. Lowest filter setting will be stored.\n",
      "  raw = mne.io.read_raw_edf(file_path + str(patient_file) + \".edf\", preload=True)\n",
      " 61%|██████    | 48/79 [00:16<00:09,  3.41it/s]"
     ]
    },
    {
     "name": "stdout",
     "output_type": "stream",
     "text": [
      "Extracting EDF parameters from C:\\Users\\user\\Desktop\\Manuscript_Projects_IISERTVM\\EEG data\\dataset\\eeg49.edf...\n",
      "EDF file detected\n",
      "Setting channel info structure...\n",
      "Creating raw.info structure...\n",
      "Reading 0 ... 2212607  =      0.000 ...  8642.996 secs...\n"
     ]
    },
    {
     "name": "stderr",
     "output_type": "stream",
     "text": [
      "C:\\Users\\user\\AppData\\Local\\Temp\\ipykernel_13516\\3134887832.py:7: RuntimeWarning: Channels contain different highpass filters. Highest filter setting will be stored.\n",
      "  raw = mne.io.read_raw_edf(file_path + str(patient_file) + \".edf\", preload=True)\n",
      "C:\\Users\\user\\AppData\\Local\\Temp\\ipykernel_13516\\3134887832.py:7: RuntimeWarning: Channels contain different lowpass filters. Lowest filter setting will be stored.\n",
      "  raw = mne.io.read_raw_edf(file_path + str(patient_file) + \".edf\", preload=True)\n",
      " 62%|██████▏   | 49/79 [00:16<00:11,  2.68it/s]"
     ]
    },
    {
     "name": "stdout",
     "output_type": "stream",
     "text": [
      "Extracting EDF parameters from C:\\Users\\user\\Desktop\\Manuscript_Projects_IISERTVM\\EEG data\\dataset\\eeg50.edf...\n",
      "EDF file detected\n",
      "Setting channel info structure...\n",
      "Creating raw.info structure...\n",
      "Reading 0 ... 2521599  =      0.000 ...  9849.996 secs...\n"
     ]
    },
    {
     "name": "stderr",
     "output_type": "stream",
     "text": [
      "C:\\Users\\user\\AppData\\Local\\Temp\\ipykernel_13516\\3134887832.py:7: RuntimeWarning: Channels contain different highpass filters. Highest filter setting will be stored.\n",
      "  raw = mne.io.read_raw_edf(file_path + str(patient_file) + \".edf\", preload=True)\n",
      "C:\\Users\\user\\AppData\\Local\\Temp\\ipykernel_13516\\3134887832.py:7: RuntimeWarning: Channels contain different lowpass filters. Lowest filter setting will be stored.\n",
      "  raw = mne.io.read_raw_edf(file_path + str(patient_file) + \".edf\", preload=True)\n",
      " 63%|██████▎   | 50/79 [00:17<00:13,  2.22it/s]"
     ]
    },
    {
     "name": "stdout",
     "output_type": "stream",
     "text": [
      "Extracting EDF parameters from C:\\Users\\user\\Desktop\\Manuscript_Projects_IISERTVM\\EEG data\\dataset\\eeg51.edf...\n",
      "EDF file detected\n",
      "Setting channel info structure...\n",
      "Creating raw.info structure...\n",
      "Reading 0 ... 1203455  =      0.000 ...  4700.996 secs...\n"
     ]
    },
    {
     "name": "stderr",
     "output_type": "stream",
     "text": [
      "C:\\Users\\user\\AppData\\Local\\Temp\\ipykernel_13516\\3134887832.py:7: RuntimeWarning: Channels contain different highpass filters. Highest filter setting will be stored.\n",
      "  raw = mne.io.read_raw_edf(file_path + str(patient_file) + \".edf\", preload=True)\n",
      "C:\\Users\\user\\AppData\\Local\\Temp\\ipykernel_13516\\3134887832.py:7: RuntimeWarning: Channels contain different lowpass filters. Lowest filter setting will be stored.\n",
      "  raw = mne.io.read_raw_edf(file_path + str(patient_file) + \".edf\", preload=True)\n",
      " 65%|██████▍   | 51/79 [00:17<00:11,  2.41it/s]"
     ]
    },
    {
     "name": "stdout",
     "output_type": "stream",
     "text": [
      "Extracting EDF parameters from C:\\Users\\user\\Desktop\\Manuscript_Projects_IISERTVM\\EEG data\\dataset\\eeg52.edf...\n",
      "EDF file detected\n",
      "Setting channel info structure...\n",
      "Creating raw.info structure...\n",
      "Reading 0 ... 1003519  =      0.000 ...  3919.996 secs...\n"
     ]
    },
    {
     "name": "stderr",
     "output_type": "stream",
     "text": [
      " 66%|██████▌   | 52/79 [00:18<00:10,  2.69it/s]"
     ]
    },
    {
     "name": "stdout",
     "output_type": "stream",
     "text": [
      "Extracting EDF parameters from C:\\Users\\user\\Desktop\\Manuscript_Projects_IISERTVM\\EEG data\\dataset\\eeg53.edf...\n",
      "EDF file detected\n",
      "Setting channel info structure...\n",
      "Creating raw.info structure...\n",
      "Reading 0 ... 888319  =      0.000 ...  3469.996 secs...\n"
     ]
    },
    {
     "name": "stderr",
     "output_type": "stream",
     "text": [
      "C:\\Users\\user\\AppData\\Local\\Temp\\ipykernel_13516\\3134887832.py:7: RuntimeWarning: Channels contain different highpass filters. Highest filter setting will be stored.\n",
      "  raw = mne.io.read_raw_edf(file_path + str(patient_file) + \".edf\", preload=True)\n",
      "C:\\Users\\user\\AppData\\Local\\Temp\\ipykernel_13516\\3134887832.py:7: RuntimeWarning: Channels contain different lowpass filters. Lowest filter setting will be stored.\n",
      "  raw = mne.io.read_raw_edf(file_path + str(patient_file) + \".edf\", preload=True)\n",
      " 67%|██████▋   | 53/79 [00:18<00:08,  2.93it/s]"
     ]
    },
    {
     "name": "stdout",
     "output_type": "stream",
     "text": [
      "Extracting EDF parameters from C:\\Users\\user\\Desktop\\Manuscript_Projects_IISERTVM\\EEG data\\dataset\\eeg54.edf...\n",
      "EDF file detected\n",
      "Setting channel info structure...\n",
      "Creating raw.info structure...\n",
      "Reading 0 ... 1112063  =      0.000 ...  4343.996 secs...\n"
     ]
    },
    {
     "name": "stderr",
     "output_type": "stream",
     "text": [
      "C:\\Users\\user\\AppData\\Local\\Temp\\ipykernel_13516\\3134887832.py:7: RuntimeWarning: Channels contain different highpass filters. Highest filter setting will be stored.\n",
      "  raw = mne.io.read_raw_edf(file_path + str(patient_file) + \".edf\", preload=True)\n",
      "C:\\Users\\user\\AppData\\Local\\Temp\\ipykernel_13516\\3134887832.py:7: RuntimeWarning: Channels contain different lowpass filters. Lowest filter setting will be stored.\n",
      "  raw = mne.io.read_raw_edf(file_path + str(patient_file) + \".edf\", preload=True)\n",
      " 68%|██████▊   | 54/79 [00:18<00:08,  3.00it/s]"
     ]
    },
    {
     "name": "stdout",
     "output_type": "stream",
     "text": [
      "Extracting EDF parameters from C:\\Users\\user\\Desktop\\Manuscript_Projects_IISERTVM\\EEG data\\dataset\\eeg55.edf...\n",
      "EDF file detected\n",
      "Setting channel info structure...\n",
      "Creating raw.info structure...\n",
      "Reading 0 ... 1321215  =      0.000 ...  5160.996 secs...\n"
     ]
    },
    {
     "name": "stderr",
     "output_type": "stream",
     "text": [
      "C:\\Users\\user\\AppData\\Local\\Temp\\ipykernel_13516\\3134887832.py:7: RuntimeWarning: Channels contain different highpass filters. Highest filter setting will be stored.\n",
      "  raw = mne.io.read_raw_edf(file_path + str(patient_file) + \".edf\", preload=True)\n",
      "C:\\Users\\user\\AppData\\Local\\Temp\\ipykernel_13516\\3134887832.py:7: RuntimeWarning: Channels contain different lowpass filters. Lowest filter setting will be stored.\n",
      "  raw = mne.io.read_raw_edf(file_path + str(patient_file) + \".edf\", preload=True)\n",
      " 70%|██████▉   | 55/79 [00:19<00:08,  2.96it/s]"
     ]
    },
    {
     "name": "stdout",
     "output_type": "stream",
     "text": [
      "Extracting EDF parameters from C:\\Users\\user\\Desktop\\Manuscript_Projects_IISERTVM\\EEG data\\dataset\\eeg56.edf...\n",
      "EDF file detected\n",
      "Setting channel info structure...\n",
      "Creating raw.info structure...\n",
      "Reading 0 ... 980735  =      0.000 ...  3830.996 secs...\n"
     ]
    },
    {
     "name": "stderr",
     "output_type": "stream",
     "text": [
      "C:\\Users\\user\\AppData\\Local\\Temp\\ipykernel_13516\\3134887832.py:7: RuntimeWarning: Channels contain different highpass filters. Highest filter setting will be stored.\n",
      "  raw = mne.io.read_raw_edf(file_path + str(patient_file) + \".edf\", preload=True)\n",
      "C:\\Users\\user\\AppData\\Local\\Temp\\ipykernel_13516\\3134887832.py:7: RuntimeWarning: Channels contain different lowpass filters. Lowest filter setting will be stored.\n",
      "  raw = mne.io.read_raw_edf(file_path + str(patient_file) + \".edf\", preload=True)\n",
      " 71%|███████   | 56/79 [00:19<00:07,  3.15it/s]"
     ]
    },
    {
     "name": "stdout",
     "output_type": "stream",
     "text": [
      "Extracting EDF parameters from C:\\Users\\user\\Desktop\\Manuscript_Projects_IISERTVM\\EEG data\\dataset\\eeg57.edf...\n",
      "EDF file detected\n",
      "Setting channel info structure...\n",
      "Creating raw.info structure...\n",
      "Reading 0 ... 802047  =      0.000 ...  3132.996 secs...\n"
     ]
    },
    {
     "name": "stderr",
     "output_type": "stream",
     "text": [
      "C:\\Users\\user\\AppData\\Local\\Temp\\ipykernel_13516\\3134887832.py:7: RuntimeWarning: Channels contain different highpass filters. Highest filter setting will be stored.\n",
      "  raw = mne.io.read_raw_edf(file_path + str(patient_file) + \".edf\", preload=True)\n",
      "C:\\Users\\user\\AppData\\Local\\Temp\\ipykernel_13516\\3134887832.py:7: RuntimeWarning: Channels contain different lowpass filters. Lowest filter setting will be stored.\n",
      "  raw = mne.io.read_raw_edf(file_path + str(patient_file) + \".edf\", preload=True)\n",
      " 72%|███████▏  | 57/79 [00:19<00:06,  3.39it/s]"
     ]
    },
    {
     "name": "stdout",
     "output_type": "stream",
     "text": [
      "Extracting EDF parameters from C:\\Users\\user\\Desktop\\Manuscript_Projects_IISERTVM\\EEG data\\dataset\\eeg58.edf...\n",
      "EDF file detected\n",
      "Setting channel info structure...\n",
      "Creating raw.info structure...\n",
      "Reading 0 ... 1199359  =      0.000 ...  4684.996 secs...\n"
     ]
    },
    {
     "name": "stderr",
     "output_type": "stream",
     "text": [
      "C:\\Users\\user\\AppData\\Local\\Temp\\ipykernel_13516\\3134887832.py:7: RuntimeWarning: Channels contain different highpass filters. Highest filter setting will be stored.\n",
      "  raw = mne.io.read_raw_edf(file_path + str(patient_file) + \".edf\", preload=True)\n",
      "C:\\Users\\user\\AppData\\Local\\Temp\\ipykernel_13516\\3134887832.py:7: RuntimeWarning: Channels contain different lowpass filters. Lowest filter setting will be stored.\n",
      "  raw = mne.io.read_raw_edf(file_path + str(patient_file) + \".edf\", preload=True)\n",
      " 73%|███████▎  | 58/79 [00:19<00:06,  3.24it/s]"
     ]
    },
    {
     "name": "stdout",
     "output_type": "stream",
     "text": [
      "Extracting EDF parameters from C:\\Users\\user\\Desktop\\Manuscript_Projects_IISERTVM\\EEG data\\dataset\\eeg59.edf...\n",
      "EDF file detected\n",
      "Setting channel info structure...\n",
      "Creating raw.info structure...\n",
      "Reading 0 ... 1004287  =      0.000 ...  3922.996 secs...\n"
     ]
    },
    {
     "name": "stderr",
     "output_type": "stream",
     "text": [
      "C:\\Users\\user\\AppData\\Local\\Temp\\ipykernel_13516\\3134887832.py:7: RuntimeWarning: Channels contain different highpass filters. Highest filter setting will be stored.\n",
      "  raw = mne.io.read_raw_edf(file_path + str(patient_file) + \".edf\", preload=True)\n",
      "C:\\Users\\user\\AppData\\Local\\Temp\\ipykernel_13516\\3134887832.py:7: RuntimeWarning: Channels contain different lowpass filters. Lowest filter setting will be stored.\n",
      "  raw = mne.io.read_raw_edf(file_path + str(patient_file) + \".edf\", preload=True)\n",
      " 75%|███████▍  | 59/79 [00:20<00:06,  3.24it/s]"
     ]
    },
    {
     "name": "stdout",
     "output_type": "stream",
     "text": [
      "Extracting EDF parameters from C:\\Users\\user\\Desktop\\Manuscript_Projects_IISERTVM\\EEG data\\dataset\\eeg60.edf...\n",
      "EDF file detected\n",
      "Setting channel info structure...\n",
      "Creating raw.info structure...\n",
      "Reading 0 ... 967423  =      0.000 ...  3778.996 secs...\n"
     ]
    },
    {
     "name": "stderr",
     "output_type": "stream",
     "text": [
      "C:\\Users\\user\\AppData\\Local\\Temp\\ipykernel_13516\\3134887832.py:7: RuntimeWarning: Channels contain different highpass filters. Highest filter setting will be stored.\n",
      "  raw = mne.io.read_raw_edf(file_path + str(patient_file) + \".edf\", preload=True)\n",
      "C:\\Users\\user\\AppData\\Local\\Temp\\ipykernel_13516\\3134887832.py:7: RuntimeWarning: Channels contain different lowpass filters. Lowest filter setting will be stored.\n",
      "  raw = mne.io.read_raw_edf(file_path + str(patient_file) + \".edf\", preload=True)\n",
      " 76%|███████▌  | 60/79 [00:20<00:05,  3.41it/s]"
     ]
    },
    {
     "name": "stdout",
     "output_type": "stream",
     "text": [
      "Extracting EDF parameters from C:\\Users\\user\\Desktop\\Manuscript_Projects_IISERTVM\\EEG data\\dataset\\eeg61.edf...\n",
      "EDF file detected\n",
      "Setting channel info structure...\n",
      "Creating raw.info structure...\n",
      "Reading 0 ... 1492223  =      0.000 ...  5828.996 secs...\n"
     ]
    },
    {
     "name": "stderr",
     "output_type": "stream",
     "text": [
      "C:\\Users\\user\\AppData\\Local\\Temp\\ipykernel_13516\\3134887832.py:7: RuntimeWarning: Channels contain different highpass filters. Highest filter setting will be stored.\n",
      "  raw = mne.io.read_raw_edf(file_path + str(patient_file) + \".edf\", preload=True)\n",
      "C:\\Users\\user\\AppData\\Local\\Temp\\ipykernel_13516\\3134887832.py:7: RuntimeWarning: Channels contain different lowpass filters. Lowest filter setting will be stored.\n",
      "  raw = mne.io.read_raw_edf(file_path + str(patient_file) + \".edf\", preload=True)\n",
      " 77%|███████▋  | 61/79 [00:20<00:05,  3.12it/s]"
     ]
    },
    {
     "name": "stdout",
     "output_type": "stream",
     "text": [
      "Extracting EDF parameters from C:\\Users\\user\\Desktop\\Manuscript_Projects_IISERTVM\\EEG data\\dataset\\eeg62.edf...\n",
      "EDF file detected\n",
      "Setting channel info structure...\n",
      "Creating raw.info structure...\n",
      "Reading 0 ... 1498111  =      0.000 ...  5851.996 secs...\n"
     ]
    },
    {
     "name": "stderr",
     "output_type": "stream",
     "text": [
      " 78%|███████▊  | 62/79 [00:21<00:05,  2.85it/s]"
     ]
    },
    {
     "name": "stdout",
     "output_type": "stream",
     "text": [
      "Extracting EDF parameters from C:\\Users\\user\\Desktop\\Manuscript_Projects_IISERTVM\\EEG data\\dataset\\eeg63.edf...\n",
      "EDF file detected\n",
      "Setting channel info structure...\n",
      "Creating raw.info structure...\n",
      "Reading 0 ... 998399  =      0.000 ...  3899.996 secs...\n"
     ]
    },
    {
     "name": "stderr",
     "output_type": "stream",
     "text": [
      "C:\\Users\\user\\AppData\\Local\\Temp\\ipykernel_13516\\3134887832.py:7: RuntimeWarning: Channels contain different highpass filters. Highest filter setting will be stored.\n",
      "  raw = mne.io.read_raw_edf(file_path + str(patient_file) + \".edf\", preload=True)\n",
      "C:\\Users\\user\\AppData\\Local\\Temp\\ipykernel_13516\\3134887832.py:7: RuntimeWarning: Channels contain different lowpass filters. Lowest filter setting will be stored.\n",
      "  raw = mne.io.read_raw_edf(file_path + str(patient_file) + \".edf\", preload=True)\n",
      " 80%|███████▉  | 63/79 [00:21<00:05,  3.04it/s]"
     ]
    },
    {
     "name": "stdout",
     "output_type": "stream",
     "text": [
      "Extracting EDF parameters from C:\\Users\\user\\Desktop\\Manuscript_Projects_IISERTVM\\EEG data\\dataset\\eeg64.edf...\n",
      "EDF file detected\n",
      "Setting channel info structure...\n",
      "Creating raw.info structure...\n",
      "Reading 0 ... 1622271  =      0.000 ...  6336.996 secs...\n"
     ]
    },
    {
     "name": "stderr",
     "output_type": "stream",
     "text": [
      "C:\\Users\\user\\AppData\\Local\\Temp\\ipykernel_13516\\3134887832.py:7: RuntimeWarning: Channels contain different highpass filters. Highest filter setting will be stored.\n",
      "  raw = mne.io.read_raw_edf(file_path + str(patient_file) + \".edf\", preload=True)\n",
      "C:\\Users\\user\\AppData\\Local\\Temp\\ipykernel_13516\\3134887832.py:7: RuntimeWarning: Channels contain different lowpass filters. Lowest filter setting will be stored.\n",
      "  raw = mne.io.read_raw_edf(file_path + str(patient_file) + \".edf\", preload=True)\n",
      " 81%|████████  | 64/79 [00:22<00:05,  2.74it/s]"
     ]
    },
    {
     "name": "stdout",
     "output_type": "stream",
     "text": [
      "Extracting EDF parameters from C:\\Users\\user\\Desktop\\Manuscript_Projects_IISERTVM\\EEG data\\dataset\\eeg65.edf...\n",
      "EDF file detected\n",
      "Setting channel info structure...\n",
      "Creating raw.info structure...\n",
      "Reading 0 ... 1228799  =      0.000 ...  4799.996 secs...\n"
     ]
    },
    {
     "name": "stderr",
     "output_type": "stream",
     "text": [
      " 82%|████████▏ | 65/79 [00:22<00:05,  2.77it/s]"
     ]
    },
    {
     "name": "stdout",
     "output_type": "stream",
     "text": [
      "Extracting EDF parameters from C:\\Users\\user\\Desktop\\Manuscript_Projects_IISERTVM\\EEG data\\dataset\\eeg66.edf...\n",
      "EDF file detected\n",
      "Setting channel info structure...\n",
      "Creating raw.info structure...\n",
      "Reading 0 ... 2905599  =      0.000 ... 11349.996 secs...\n"
     ]
    },
    {
     "name": "stderr",
     "output_type": "stream",
     "text": [
      " 84%|████████▎ | 66/79 [00:23<00:06,  2.05it/s]"
     ]
    },
    {
     "name": "stdout",
     "output_type": "stream",
     "text": [
      "Extracting EDF parameters from C:\\Users\\user\\Desktop\\Manuscript_Projects_IISERTVM\\EEG data\\dataset\\eeg67.edf...\n",
      "EDF file detected\n",
      "Setting channel info structure...\n",
      "Creating raw.info structure...\n",
      "Reading 0 ... 1254399  =      0.000 ...  4899.996 secs...\n"
     ]
    },
    {
     "name": "stderr",
     "output_type": "stream",
     "text": [
      "C:\\Users\\user\\AppData\\Local\\Temp\\ipykernel_13516\\3134887832.py:7: RuntimeWarning: Channels contain different highpass filters. Highest filter setting will be stored.\n",
      "  raw = mne.io.read_raw_edf(file_path + str(patient_file) + \".edf\", preload=True)\n",
      "C:\\Users\\user\\AppData\\Local\\Temp\\ipykernel_13516\\3134887832.py:7: RuntimeWarning: Channels contain different lowpass filters. Lowest filter setting will be stored.\n",
      "  raw = mne.io.read_raw_edf(file_path + str(patient_file) + \".edf\", preload=True)\n",
      " 85%|████████▍ | 67/79 [00:23<00:05,  2.19it/s]"
     ]
    },
    {
     "name": "stdout",
     "output_type": "stream",
     "text": [
      "Extracting EDF parameters from C:\\Users\\user\\Desktop\\Manuscript_Projects_IISERTVM\\EEG data\\dataset\\eeg68.edf...\n",
      "EDF file detected\n",
      "Setting channel info structure...\n",
      "Creating raw.info structure...\n",
      "Reading 0 ... 925439  =      0.000 ...  3614.996 secs...\n"
     ]
    },
    {
     "name": "stderr",
     "output_type": "stream",
     "text": [
      "C:\\Users\\user\\AppData\\Local\\Temp\\ipykernel_13516\\3134887832.py:7: RuntimeWarning: Channels contain different highpass filters. Highest filter setting will be stored.\n",
      "  raw = mne.io.read_raw_edf(file_path + str(patient_file) + \".edf\", preload=True)\n",
      "C:\\Users\\user\\AppData\\Local\\Temp\\ipykernel_13516\\3134887832.py:7: RuntimeWarning: Channels contain different lowpass filters. Lowest filter setting will be stored.\n",
      "  raw = mne.io.read_raw_edf(file_path + str(patient_file) + \".edf\", preload=True)\n",
      " 86%|████████▌ | 68/79 [00:23<00:04,  2.50it/s]"
     ]
    },
    {
     "name": "stdout",
     "output_type": "stream",
     "text": [
      "Extracting EDF parameters from C:\\Users\\user\\Desktop\\Manuscript_Projects_IISERTVM\\EEG data\\dataset\\eeg70.edf...\n",
      "EDF file detected\n",
      "Setting channel info structure...\n",
      "Creating raw.info structure...\n",
      "Reading 0 ... 1255935  =      0.000 ...  4905.996 secs...\n"
     ]
    },
    {
     "name": "stderr",
     "output_type": "stream",
     "text": [
      "C:\\Users\\user\\AppData\\Local\\Temp\\ipykernel_13516\\3134887832.py:7: RuntimeWarning: Channels contain different highpass filters. Highest filter setting will be stored.\n",
      "  raw = mne.io.read_raw_edf(file_path + str(patient_file) + \".edf\", preload=True)\n",
      "C:\\Users\\user\\AppData\\Local\\Temp\\ipykernel_13516\\3134887832.py:7: RuntimeWarning: Channels contain different lowpass filters. Lowest filter setting will be stored.\n",
      "  raw = mne.io.read_raw_edf(file_path + str(patient_file) + \".edf\", preload=True)\n",
      " 89%|████████▊ | 70/79 [00:24<00:02,  3.34it/s]"
     ]
    },
    {
     "name": "stdout",
     "output_type": "stream",
     "text": [
      "Extracting EDF parameters from C:\\Users\\user\\Desktop\\Manuscript_Projects_IISERTVM\\EEG data\\dataset\\eeg71.edf...\n",
      "EDF file detected\n",
      "Setting channel info structure...\n",
      "Creating raw.info structure...\n",
      "Reading 0 ... 1094655  =      0.000 ...  4275.996 secs...\n"
     ]
    },
    {
     "name": "stderr",
     "output_type": "stream",
     "text": [
      " 90%|████████▉ | 71/79 [00:24<00:02,  3.36it/s]"
     ]
    },
    {
     "name": "stdout",
     "output_type": "stream",
     "text": [
      "Extracting EDF parameters from C:\\Users\\user\\Desktop\\Manuscript_Projects_IISERTVM\\EEG data\\dataset\\eeg72.edf...\n",
      "EDF file detected\n",
      "Setting channel info structure...\n",
      "Creating raw.info structure...\n",
      "Reading 0 ... 1279487  =      0.000 ...  4997.996 secs...\n"
     ]
    },
    {
     "name": "stderr",
     "output_type": "stream",
     "text": [
      "C:\\Users\\user\\AppData\\Local\\Temp\\ipykernel_13516\\3134887832.py:7: RuntimeWarning: Channels contain different highpass filters. Highest filter setting will be stored.\n",
      "  raw = mne.io.read_raw_edf(file_path + str(patient_file) + \".edf\", preload=True)\n",
      "C:\\Users\\user\\AppData\\Local\\Temp\\ipykernel_13516\\3134887832.py:7: RuntimeWarning: Channels contain different lowpass filters. Lowest filter setting will be stored.\n",
      "  raw = mne.io.read_raw_edf(file_path + str(patient_file) + \".edf\", preload=True)\n",
      " 91%|█████████ | 72/79 [00:24<00:02,  3.19it/s]"
     ]
    },
    {
     "name": "stdout",
     "output_type": "stream",
     "text": [
      "Extracting EDF parameters from C:\\Users\\user\\Desktop\\Manuscript_Projects_IISERTVM\\EEG data\\dataset\\eeg73.edf...\n",
      "EDF file detected\n",
      "Setting channel info structure...\n",
      "Creating raw.info structure...\n",
      "Reading 0 ... 954879  =      0.000 ...  3729.996 secs...\n"
     ]
    },
    {
     "name": "stderr",
     "output_type": "stream",
     "text": [
      "C:\\Users\\user\\AppData\\Local\\Temp\\ipykernel_13516\\3134887832.py:7: RuntimeWarning: Channels contain different highpass filters. Highest filter setting will be stored.\n",
      "  raw = mne.io.read_raw_edf(file_path + str(patient_file) + \".edf\", preload=True)\n",
      "C:\\Users\\user\\AppData\\Local\\Temp\\ipykernel_13516\\3134887832.py:7: RuntimeWarning: Channels contain different lowpass filters. Lowest filter setting will be stored.\n",
      "  raw = mne.io.read_raw_edf(file_path + str(patient_file) + \".edf\", preload=True)\n",
      " 92%|█████████▏| 73/79 [00:25<00:01,  3.29it/s]"
     ]
    },
    {
     "name": "stdout",
     "output_type": "stream",
     "text": [
      "Extracting EDF parameters from C:\\Users\\user\\Desktop\\Manuscript_Projects_IISERTVM\\EEG data\\dataset\\eeg74.edf...\n",
      "EDF file detected\n",
      "Setting channel info structure...\n",
      "Creating raw.info structure...\n",
      "Reading 0 ... 1117183  =      0.000 ...  4363.996 secs...\n"
     ]
    },
    {
     "name": "stderr",
     "output_type": "stream",
     "text": [
      "C:\\Users\\user\\AppData\\Local\\Temp\\ipykernel_13516\\3134887832.py:7: RuntimeWarning: Channels contain different highpass filters. Highest filter setting will be stored.\n",
      "  raw = mne.io.read_raw_edf(file_path + str(patient_file) + \".edf\", preload=True)\n",
      "C:\\Users\\user\\AppData\\Local\\Temp\\ipykernel_13516\\3134887832.py:7: RuntimeWarning: Channels contain different lowpass filters. Lowest filter setting will be stored.\n",
      "  raw = mne.io.read_raw_edf(file_path + str(patient_file) + \".edf\", preload=True)\n",
      " 94%|█████████▎| 74/79 [00:25<00:01,  3.29it/s]"
     ]
    },
    {
     "name": "stdout",
     "output_type": "stream",
     "text": [
      "Extracting EDF parameters from C:\\Users\\user\\Desktop\\Manuscript_Projects_IISERTVM\\EEG data\\dataset\\eeg75.edf...\n",
      "EDF file detected\n",
      "Setting channel info structure...\n",
      "Creating raw.info structure...\n",
      "Reading 0 ... 1012479  =      0.000 ...  3954.996 secs...\n"
     ]
    },
    {
     "name": "stderr",
     "output_type": "stream",
     "text": [
      "C:\\Users\\user\\AppData\\Local\\Temp\\ipykernel_13516\\3134887832.py:7: RuntimeWarning: Channels contain different highpass filters. Highest filter setting will be stored.\n",
      "  raw = mne.io.read_raw_edf(file_path + str(patient_file) + \".edf\", preload=True)\n",
      "C:\\Users\\user\\AppData\\Local\\Temp\\ipykernel_13516\\3134887832.py:7: RuntimeWarning: Channels contain different lowpass filters. Lowest filter setting will be stored.\n",
      "  raw = mne.io.read_raw_edf(file_path + str(patient_file) + \".edf\", preload=True)\n",
      " 95%|█████████▍| 75/79 [00:25<00:01,  3.41it/s]"
     ]
    },
    {
     "name": "stdout",
     "output_type": "stream",
     "text": [
      "Extracting EDF parameters from C:\\Users\\user\\Desktop\\Manuscript_Projects_IISERTVM\\EEG data\\dataset\\eeg76.edf...\n",
      "EDF file detected\n",
      "Setting channel info structure...\n",
      "Creating raw.info structure...\n",
      "Reading 0 ... 978175  =      0.000 ...  3820.996 secs...\n"
     ]
    },
    {
     "name": "stderr",
     "output_type": "stream",
     "text": [
      "C:\\Users\\user\\AppData\\Local\\Temp\\ipykernel_13516\\3134887832.py:7: RuntimeWarning: Channels contain different highpass filters. Highest filter setting will be stored.\n",
      "  raw = mne.io.read_raw_edf(file_path + str(patient_file) + \".edf\", preload=True)\n",
      "C:\\Users\\user\\AppData\\Local\\Temp\\ipykernel_13516\\3134887832.py:7: RuntimeWarning: Channels contain different lowpass filters. Lowest filter setting will be stored.\n",
      "  raw = mne.io.read_raw_edf(file_path + str(patient_file) + \".edf\", preload=True)\n",
      " 96%|█████████▌| 76/79 [00:25<00:00,  3.50it/s]"
     ]
    },
    {
     "name": "stdout",
     "output_type": "stream",
     "text": [
      "Extracting EDF parameters from C:\\Users\\user\\Desktop\\Manuscript_Projects_IISERTVM\\EEG data\\dataset\\eeg77.edf...\n",
      "EDF file detected\n",
      "Setting channel info structure...\n",
      "Creating raw.info structure...\n",
      "Reading 0 ... 1073407  =      0.000 ...  4192.996 secs...\n"
     ]
    },
    {
     "name": "stderr",
     "output_type": "stream",
     "text": [
      "C:\\Users\\user\\AppData\\Local\\Temp\\ipykernel_13516\\3134887832.py:7: RuntimeWarning: Channels contain different highpass filters. Highest filter setting will be stored.\n",
      "  raw = mne.io.read_raw_edf(file_path + str(patient_file) + \".edf\", preload=True)\n",
      "C:\\Users\\user\\AppData\\Local\\Temp\\ipykernel_13516\\3134887832.py:7: RuntimeWarning: Channels contain different lowpass filters. Lowest filter setting will be stored.\n",
      "  raw = mne.io.read_raw_edf(file_path + str(patient_file) + \".edf\", preload=True)\n",
      " 97%|█████████▋| 77/79 [00:26<00:00,  3.46it/s]"
     ]
    },
    {
     "name": "stdout",
     "output_type": "stream",
     "text": [
      "Extracting EDF parameters from C:\\Users\\user\\Desktop\\Manuscript_Projects_IISERTVM\\EEG data\\dataset\\eeg78.edf...\n",
      "EDF file detected\n",
      "Setting channel info structure...\n",
      "Creating raw.info structure...\n",
      "Reading 0 ... 1272575  =      0.000 ...  4970.996 secs...\n"
     ]
    },
    {
     "name": "stderr",
     "output_type": "stream",
     "text": [
      "C:\\Users\\user\\AppData\\Local\\Temp\\ipykernel_13516\\3134887832.py:7: RuntimeWarning: Channels contain different highpass filters. Highest filter setting will be stored.\n",
      "  raw = mne.io.read_raw_edf(file_path + str(patient_file) + \".edf\", preload=True)\n",
      "C:\\Users\\user\\AppData\\Local\\Temp\\ipykernel_13516\\3134887832.py:7: RuntimeWarning: Channels contain different lowpass filters. Lowest filter setting will be stored.\n",
      "  raw = mne.io.read_raw_edf(file_path + str(patient_file) + \".edf\", preload=True)\n",
      " 99%|█████████▊| 78/79 [00:26<00:00,  3.25it/s]"
     ]
    },
    {
     "name": "stdout",
     "output_type": "stream",
     "text": [
      "Extracting EDF parameters from C:\\Users\\user\\Desktop\\Manuscript_Projects_IISERTVM\\EEG data\\dataset\\eeg79.edf...\n",
      "EDF file detected\n",
      "Setting channel info structure...\n",
      "Creating raw.info structure...\n",
      "Reading 0 ... 844031  =      0.000 ...  3296.996 secs...\n"
     ]
    },
    {
     "name": "stderr",
     "output_type": "stream",
     "text": [
      "C:\\Users\\user\\AppData\\Local\\Temp\\ipykernel_13516\\3134887832.py:7: RuntimeWarning: Channels contain different highpass filters. Highest filter setting will be stored.\n",
      "  raw = mne.io.read_raw_edf(file_path + str(patient_file) + \".edf\", preload=True)\n",
      "C:\\Users\\user\\AppData\\Local\\Temp\\ipykernel_13516\\3134887832.py:7: RuntimeWarning: Channels contain different lowpass filters. Lowest filter setting will be stored.\n",
      "  raw = mne.io.read_raw_edf(file_path + str(patient_file) + \".edf\", preload=True)\n",
      "100%|██████████| 79/79 [00:26<00:00,  2.94it/s]\n"
     ]
    }
   ],
   "source": [
    "file_path = r\"C:\\Users\\user\\Desktop\\Manuscript_Projects_IISERTVM\\EEG data\\dataset\\eeg\"\n",
    "exclude_patients = [40,41,69,2,3] ##problematic edf files or annotations\n",
    "num_edf_files=79\n",
    "data=[]\n",
    "for patient_file in tqdm(range(1, num_edf_files+1)):\n",
    "    if patient_file not in exclude_patients:\n",
    "        raw = mne.io.read_raw_edf(file_path + str(patient_file) + \".edf\", preload=True)\n",
    "        #raw = change_channel_names(raw)\n",
    "        #raw = remove_artifactuals_using_ICA(raw)\n",
    "        processed_data=raw.get_data()\n",
    "        data.append(processed_data)"
   ]
  },
  {
   "cell_type": "code",
   "execution_count": 9,
   "id": "bcefbc2b-8751-4f86-b5a8-5de5e2dd9a91",
   "metadata": {},
   "outputs": [],
   "source": [
    "data=[data[index][:19,:] for index in range(len(data))]"
   ]
  },
  {
   "cell_type": "code",
   "execution_count": 10,
   "id": "d9d15a52-b8b7-4c82-98da-63dcc4b86eec",
   "metadata": {},
   "outputs": [],
   "source": [
    "with open('all_ICA_preprocessed_EEG_data.pkl', 'wb') as f:\n",
    "    pickle.dump(data, f)"
   ]
  },
  {
   "cell_type": "markdown",
   "id": "d51c8ba6-ead8-464f-b87d-f09a1ffaa96e",
   "metadata": {},
   "source": [
    "# Analyze agreement of doctors on annotations"
   ]
  },
  {
   "cell_type": "code",
   "execution_count": 11,
   "id": "e302ec51-b587-49eb-8db2-d9ba4a7bba8e",
   "metadata": {},
   "outputs": [],
   "source": [
    "exclude_patients_str = ['40','41','69','2','3']\n",
    "annotation_data_A=annotation_data_A.drop(exclude_patients_str,axis=1)\n",
    "annotation_data_B=annotation_data_B.drop(exclude_patients_str,axis=1)\n",
    "annotation_data_C=annotation_data_C.drop(exclude_patients_str,axis=1)"
   ]
  },
  {
   "cell_type": "code",
   "execution_count": 12,
   "id": "9f9f0d84-a928-49b4-a845-ae35de0754e4",
   "metadata": {},
   "outputs": [],
   "source": [
    "from scipy.spatial import distance\n",
    "\n",
    "sim=np.zeros((3,3))\n",
    "for patient_id in annotation_data_A.columns:\n",
    "    annot_A=np.array(annotation_data_A[patient_id])[np.array(annotation_data_A[patient_id]>=0)]\n",
    "    annot_B=np.array(annotation_data_B[patient_id])[np.array(annotation_data_B[patient_id]>=0)]\n",
    "    annot_C=np.array(annotation_data_C[patient_id])[np.array(annotation_data_C[patient_id]>=0)]\n",
    "    \n",
    "    aa_sim=np.sum(annot_A!=annot_A)\n",
    "    ab_sim=np.sum(annot_A!=annot_B)\n",
    "    ac_sim=np.sum(annot_A!=annot_C)\n",
    "\n",
    "    ba_sim=np.sum(annot_B!=annot_A)\n",
    "    bb_sim=np.sum(annot_B!=annot_B)\n",
    "    bc_sim=np.sum(annot_B!=annot_C)\n",
    "\n",
    "    ca_sim=np.sum(annot_C!=annot_A)\n",
    "    cb_sim=np.sum(annot_C!=annot_B)\n",
    "    cc_sim=np.sum(annot_C!=annot_C)\n",
    "    \n",
    "    sim_mat=np.array([[aa_sim,ab_sim,ac_sim],[ba_sim,bb_sim,bc_sim],[ca_sim,cb_sim,cc_sim]])\n",
    "\n",
    "    sim=sim+sim_mat\n",
    "sim=sim/len(annotation_data_A.columns)"
   ]
  },
  {
   "cell_type": "code",
   "execution_count": 13,
   "id": "da2f3609-90c0-4649-a819-b642e7003ce7",
   "metadata": {},
   "outputs": [
    {
     "data": {
      "image/svg+xml": [
       "<?xml version=\"1.0\" encoding=\"utf-8\" standalone=\"no\"?>\n",
       "<!DOCTYPE svg PUBLIC \"-//W3C//DTD SVG 1.1//EN\"\n",
       "  \"http://www.w3.org/Graphics/SVG/1.1/DTD/svg11.dtd\">\n",
       "<svg xmlns:xlink=\"http://www.w3.org/1999/xlink\" width=\"417.72pt\" height=\"339.886584pt\" viewBox=\"0 0 417.72 339.886584\" xmlns=\"http://www.w3.org/2000/svg\" version=\"1.1\">\n",
       " <metadata>\n",
       "  <rdf:RDF xmlns:dc=\"http://purl.org/dc/elements/1.1/\" xmlns:cc=\"http://creativecommons.org/ns#\" xmlns:rdf=\"http://www.w3.org/1999/02/22-rdf-syntax-ns#\">\n",
       "   <cc:Work>\n",
       "    <dc:type rdf:resource=\"http://purl.org/dc/dcmitype/StillImage\"/>\n",
       "    <dc:date>2024-09-10T16:01:55.565225</dc:date>\n",
       "    <dc:format>image/svg+xml</dc:format>\n",
       "    <dc:creator>\n",
       "     <cc:Agent>\n",
       "      <dc:title>Matplotlib v3.7.0, https://matplotlib.org/</dc:title>\n",
       "     </cc:Agent>\n",
       "    </dc:creator>\n",
       "   </cc:Work>\n",
       "  </rdf:RDF>\n",
       " </metadata>\n",
       " <defs>\n",
       "  <style type=\"text/css\">*{stroke-linejoin: round; stroke-linecap: butt}</style>\n",
       " </defs>\n",
       " <g id=\"figure_1\">\n",
       "  <g id=\"patch_1\">\n",
       "   <path d=\"M 0 339.886584 \n",
       "L 417.72 339.886584 \n",
       "L 417.72 0 \n",
       "L 0 0 \n",
       "z\n",
       "\" style=\"fill: #ffffff\"/>\n",
       "  </g>\n",
       "  <g id=\"axes_1\">\n",
       "   <g id=\"patch_2\">\n",
       "    <path d=\"M 75.804 288.432 \n",
       "L 341.916 288.432 \n",
       "L 341.916 22.32 \n",
       "L 75.804 22.32 \n",
       "z\n",
       "\" style=\"fill: #ffffff\"/>\n",
       "   </g>\n",
       "   <g clip-path=\"url(#pd4f8f96add)\">\n",
       "    <image xlink:href=\"data:image/png;base64,\n",
       "iVBORw0KGgoAAAANSUhEUgAAAXIAAAFyCAYAAADoJFEJAAAFfUlEQVR4nO3WMU0DYBhFUUpQwVwSSBcEsKMCFSiogKroWAGEHQEsJAywYqOIIPm/3HCOgjfdvM3NaX++4F/4fDhOT2Chx+v76Qkscjk9AIC/EXKAOCEHiBNygDghB4gTcoA4IQeIE3KAOCEHiBNygDghB4gTcoA4IQeIE3KAOCEHiBNygDghB4gTcoA4IQeIE3KAOCEHiBNygDghB4gTcoA4IQeIE3KAOCEHiBNygDghB4gTcoA4IQeIE3KAOCEHiBNygDghB4gTcoA4IQeIE3KAOCEHiBNygDghB4gTcoA4IQeIE3KAOCEHiBNygDghB4gTcoA4IQeIE3KAOCEHiBNygDghB4gTcoA4IQeIE3KAOCEHiBNygDghB4gTcoA4IQeIE3KAOCEHiBNygDghB4gTcoA4IQeIE3KAOCEHiBNygDghB4gTcoA4IQeIE3KAOCEHiBNygDghB4gTcoA4IQeIE3KAOCEHiBNygDghB4gTcoA4IQeIE3KAOCEHiBNygDghB4gTcoA4IQeIE3KAOCEHiBNygDghB4gTcoA4IQeIE3KAOCEHiBNygDghB4gTcoA4IQeIE3KAOCEHiBNygDghB4gTcoA4IQeIE3KAOCEHiBNygDghB4gTcoA4IQeIE3KAOCEHiBNygDghB4gTcoA4IQeIE3KAOCEHiNu8fN+dp0ewxmG7m57AQq8/79MTWMQjB4gTcoA4IQeIE3KAOCEHiBNygDghB4gTcoA4IQeIE3KAOCEHiBNygDghB4gTcoA4IQeIE3KAOCEHiBNygDghB4gTcoA4IQeIE3KAOCEHiBNygDghB4gTcoA4IQeIE3KAOCEHiBNygDghB4gTcoA4IQeIE3KAOCEHiBNygDghB4gTcoA4IQeIE3KAOCEHiBNygDghB4gTcoA4IQeIE3KAOCEHiBNygDghB4gTcoA4IQeIE3KAOCEHiBNygDghB4gTcoA4IQeIE3KAOCEHiBNygDghB4gTcoA4IQeIE3KAOCEHiBNygDghB4gTcoA4IQeIE3KAOCEHiBNygDghB4gTcoA4IQeIE3KAOCEHiBNygDghB4gTcoA4IQeIE3KAOCEHiBNygDghB4gTcoA4IQeIE3KAOCEHiBNygDghB4gTcoA4IQeIE3KAOCEHiBNygDghB4gTcoA4IQeIE3KAOCEHiBNygDghB4gTcoA4IQeIE3KAOCEHiBNygDghB4gTcoA4IQeIE3KAOCEHiBNygDghB4gTcoA4IQeIE3KAOCEHiBNygDghB4gTcoC4q8N2N72BRZ6/PqYnsNDt29P0BBbxyAHihBwgTsgB4oQcIE7IAeKEHCBOyAHihBwgTsgB4oQcIE7IAeKEHCBOyAHihBwgTsgB4oQcIE7IAeKEHCBOyAHihBwgTsgB4oQcIE7IAeKEHCBOyAHihBwgTsgB4oQcIE7IAeKEHCBOyAHihBwgTsgB4oQcIE7IAeKEHCBOyAHihBwgTsgB4oQcIE7IAeKEHCBOyAHihBwgTsgB4oQcIE7IAeKEHCBOyAHihBwgTsgB4oQcIE7IAeKEHCBOyAHihBwgTsgB4oQcIE7IAeKEHCBOyAHihBwgTsgB4oQcIE7IAeKEHCBOyAHihBwgTsgB4oQcIE7IAeKEHCBOyAHihBwgTsgB4oQcIE7IAeKEHCBOyAHihBwgTsgB4oQcIE7IAeKEHCBOyAHihBwgTsgB4oQcIE7IAeKEHCBOyAHihBwgTsgB4oQcIE7IAeKEHCBOyAHihBwgTsgB4oQcIE7IAeKEHCBOyAHihBwgTsgB4oQcIE7IAeKEHCBOyAHihBwgTsgB4oQcIE7IAeKEHCBOyAHihBwgTsgB4oQcIE7IAeKEHCBOyAHihBwg7hfr1hHNZH0OtgAAAABJRU5ErkJggg==\" id=\"image687b49e728\" transform=\"scale(1 -1) translate(0 -266.4)\" x=\"75.804\" y=\"-22.032\" width=\"266.4\" height=\"266.4\"/>\n",
       "   </g>\n",
       "   <g id=\"matplotlib.axis_1\">\n",
       "    <g id=\"xtick_1\">\n",
       "     <g id=\"line2d_1\">\n",
       "      <defs>\n",
       "       <path id=\"m98704dca4f\" d=\"M 0 0 \n",
       "L 0 3.5 \n",
       "\" style=\"stroke: #000000; stroke-width: 0.8\"/>\n",
       "      </defs>\n",
       "      <g>\n",
       "       <use xlink:href=\"#m98704dca4f\" x=\"120.156\" y=\"288.432\" style=\"stroke: #000000; stroke-width: 0.8\"/>\n",
       "      </g>\n",
       "     </g>\n",
       "     <g id=\"text_1\">\n",
       "      <!-- Doctor 1 -->\n",
       "      <g transform=\"translate(95.117791 331.216023) rotate(-45) scale(0.1 -0.1)\">\n",
       "       <defs>\n",
       "        <path id=\"DejaVuSans-44\" d=\"M 1259 4147 \n",
       "L 1259 519 \n",
       "L 2022 519 \n",
       "Q 2988 519 3436 956 \n",
       "Q 3884 1394 3884 2338 \n",
       "Q 3884 3275 3436 3711 \n",
       "Q 2988 4147 2022 4147 \n",
       "L 1259 4147 \n",
       "z\n",
       "M 628 4666 \n",
       "L 1925 4666 \n",
       "Q 3281 4666 3915 4102 \n",
       "Q 4550 3538 4550 2338 \n",
       "Q 4550 1131 3912 565 \n",
       "Q 3275 0 1925 0 \n",
       "L 628 0 \n",
       "L 628 4666 \n",
       "z\n",
       "\" transform=\"scale(0.015625)\"/>\n",
       "        <path id=\"DejaVuSans-6f\" d=\"M 1959 3097 \n",
       "Q 1497 3097 1228 2736 \n",
       "Q 959 2375 959 1747 \n",
       "Q 959 1119 1226 758 \n",
       "Q 1494 397 1959 397 \n",
       "Q 2419 397 2687 759 \n",
       "Q 2956 1122 2956 1747 \n",
       "Q 2956 2369 2687 2733 \n",
       "Q 2419 3097 1959 3097 \n",
       "z\n",
       "M 1959 3584 \n",
       "Q 2709 3584 3137 3096 \n",
       "Q 3566 2609 3566 1747 \n",
       "Q 3566 888 3137 398 \n",
       "Q 2709 -91 1959 -91 \n",
       "Q 1206 -91 779 398 \n",
       "Q 353 888 353 1747 \n",
       "Q 353 2609 779 3096 \n",
       "Q 1206 3584 1959 3584 \n",
       "z\n",
       "\" transform=\"scale(0.015625)\"/>\n",
       "        <path id=\"DejaVuSans-63\" d=\"M 3122 3366 \n",
       "L 3122 2828 \n",
       "Q 2878 2963 2633 3030 \n",
       "Q 2388 3097 2138 3097 \n",
       "Q 1578 3097 1268 2742 \n",
       "Q 959 2388 959 1747 \n",
       "Q 959 1106 1268 751 \n",
       "Q 1578 397 2138 397 \n",
       "Q 2388 397 2633 464 \n",
       "Q 2878 531 3122 666 \n",
       "L 3122 134 \n",
       "Q 2881 22 2623 -34 \n",
       "Q 2366 -91 2075 -91 \n",
       "Q 1284 -91 818 406 \n",
       "Q 353 903 353 1747 \n",
       "Q 353 2603 823 3093 \n",
       "Q 1294 3584 2113 3584 \n",
       "Q 2378 3584 2631 3529 \n",
       "Q 2884 3475 3122 3366 \n",
       "z\n",
       "\" transform=\"scale(0.015625)\"/>\n",
       "        <path id=\"DejaVuSans-74\" d=\"M 1172 4494 \n",
       "L 1172 3500 \n",
       "L 2356 3500 \n",
       "L 2356 3053 \n",
       "L 1172 3053 \n",
       "L 1172 1153 \n",
       "Q 1172 725 1289 603 \n",
       "Q 1406 481 1766 481 \n",
       "L 2356 481 \n",
       "L 2356 0 \n",
       "L 1766 0 \n",
       "Q 1100 0 847 248 \n",
       "Q 594 497 594 1153 \n",
       "L 594 3053 \n",
       "L 172 3053 \n",
       "L 172 3500 \n",
       "L 594 3500 \n",
       "L 594 4494 \n",
       "L 1172 4494 \n",
       "z\n",
       "\" transform=\"scale(0.015625)\"/>\n",
       "        <path id=\"DejaVuSans-72\" d=\"M 2631 2963 \n",
       "Q 2534 3019 2420 3045 \n",
       "Q 2306 3072 2169 3072 \n",
       "Q 1681 3072 1420 2755 \n",
       "Q 1159 2438 1159 1844 \n",
       "L 1159 0 \n",
       "L 581 0 \n",
       "L 581 3500 \n",
       "L 1159 3500 \n",
       "L 1159 2956 \n",
       "Q 1341 3275 1631 3429 \n",
       "Q 1922 3584 2338 3584 \n",
       "Q 2397 3584 2469 3576 \n",
       "Q 2541 3569 2628 3553 \n",
       "L 2631 2963 \n",
       "z\n",
       "\" transform=\"scale(0.015625)\"/>\n",
       "        <path id=\"DejaVuSans-20\" transform=\"scale(0.015625)\"/>\n",
       "        <path id=\"DejaVuSans-31\" d=\"M 794 531 \n",
       "L 1825 531 \n",
       "L 1825 4091 \n",
       "L 703 3866 \n",
       "L 703 4441 \n",
       "L 1819 4666 \n",
       "L 2450 4666 \n",
       "L 2450 531 \n",
       "L 3481 531 \n",
       "L 3481 0 \n",
       "L 794 0 \n",
       "L 794 531 \n",
       "z\n",
       "\" transform=\"scale(0.015625)\"/>\n",
       "       </defs>\n",
       "       <use xlink:href=\"#DejaVuSans-44\"/>\n",
       "       <use xlink:href=\"#DejaVuSans-6f\" x=\"77.001953\"/>\n",
       "       <use xlink:href=\"#DejaVuSans-63\" x=\"138.183594\"/>\n",
       "       <use xlink:href=\"#DejaVuSans-74\" x=\"193.164062\"/>\n",
       "       <use xlink:href=\"#DejaVuSans-6f\" x=\"232.373047\"/>\n",
       "       <use xlink:href=\"#DejaVuSans-72\" x=\"293.554688\"/>\n",
       "       <use xlink:href=\"#DejaVuSans-20\" x=\"334.667969\"/>\n",
       "       <use xlink:href=\"#DejaVuSans-31\" x=\"366.455078\"/>\n",
       "      </g>\n",
       "     </g>\n",
       "    </g>\n",
       "    <g id=\"xtick_2\">\n",
       "     <g id=\"line2d_2\">\n",
       "      <g>\n",
       "       <use xlink:href=\"#m98704dca4f\" x=\"208.86\" y=\"288.432\" style=\"stroke: #000000; stroke-width: 0.8\"/>\n",
       "      </g>\n",
       "     </g>\n",
       "     <g id=\"text_2\">\n",
       "      <!-- Doctor 2 -->\n",
       "      <g transform=\"translate(183.821791 331.216023) rotate(-45) scale(0.1 -0.1)\">\n",
       "       <defs>\n",
       "        <path id=\"DejaVuSans-32\" d=\"M 1228 531 \n",
       "L 3431 531 \n",
       "L 3431 0 \n",
       "L 469 0 \n",
       "L 469 531 \n",
       "Q 828 903 1448 1529 \n",
       "Q 2069 2156 2228 2338 \n",
       "Q 2531 2678 2651 2914 \n",
       "Q 2772 3150 2772 3378 \n",
       "Q 2772 3750 2511 3984 \n",
       "Q 2250 4219 1831 4219 \n",
       "Q 1534 4219 1204 4116 \n",
       "Q 875 4013 500 3803 \n",
       "L 500 4441 \n",
       "Q 881 4594 1212 4672 \n",
       "Q 1544 4750 1819 4750 \n",
       "Q 2544 4750 2975 4387 \n",
       "Q 3406 4025 3406 3419 \n",
       "Q 3406 3131 3298 2873 \n",
       "Q 3191 2616 2906 2266 \n",
       "Q 2828 2175 2409 1742 \n",
       "Q 1991 1309 1228 531 \n",
       "z\n",
       "\" transform=\"scale(0.015625)\"/>\n",
       "       </defs>\n",
       "       <use xlink:href=\"#DejaVuSans-44\"/>\n",
       "       <use xlink:href=\"#DejaVuSans-6f\" x=\"77.001953\"/>\n",
       "       <use xlink:href=\"#DejaVuSans-63\" x=\"138.183594\"/>\n",
       "       <use xlink:href=\"#DejaVuSans-74\" x=\"193.164062\"/>\n",
       "       <use xlink:href=\"#DejaVuSans-6f\" x=\"232.373047\"/>\n",
       "       <use xlink:href=\"#DejaVuSans-72\" x=\"293.554688\"/>\n",
       "       <use xlink:href=\"#DejaVuSans-20\" x=\"334.667969\"/>\n",
       "       <use xlink:href=\"#DejaVuSans-32\" x=\"366.455078\"/>\n",
       "      </g>\n",
       "     </g>\n",
       "    </g>\n",
       "    <g id=\"xtick_3\">\n",
       "     <g id=\"line2d_3\">\n",
       "      <g>\n",
       "       <use xlink:href=\"#m98704dca4f\" x=\"297.564\" y=\"288.432\" style=\"stroke: #000000; stroke-width: 0.8\"/>\n",
       "      </g>\n",
       "     </g>\n",
       "     <g id=\"text_3\">\n",
       "      <!-- Doctor 3 -->\n",
       "      <g transform=\"translate(272.525791 331.216023) rotate(-45) scale(0.1 -0.1)\">\n",
       "       <defs>\n",
       "        <path id=\"DejaVuSans-33\" d=\"M 2597 2516 \n",
       "Q 3050 2419 3304 2112 \n",
       "Q 3559 1806 3559 1356 \n",
       "Q 3559 666 3084 287 \n",
       "Q 2609 -91 1734 -91 \n",
       "Q 1441 -91 1130 -33 \n",
       "Q 819 25 488 141 \n",
       "L 488 750 \n",
       "Q 750 597 1062 519 \n",
       "Q 1375 441 1716 441 \n",
       "Q 2309 441 2620 675 \n",
       "Q 2931 909 2931 1356 \n",
       "Q 2931 1769 2642 2001 \n",
       "Q 2353 2234 1838 2234 \n",
       "L 1294 2234 \n",
       "L 1294 2753 \n",
       "L 1863 2753 \n",
       "Q 2328 2753 2575 2939 \n",
       "Q 2822 3125 2822 3475 \n",
       "Q 2822 3834 2567 4026 \n",
       "Q 2313 4219 1838 4219 \n",
       "Q 1578 4219 1281 4162 \n",
       "Q 984 4106 628 3988 \n",
       "L 628 4550 \n",
       "Q 988 4650 1302 4700 \n",
       "Q 1616 4750 1894 4750 \n",
       "Q 2613 4750 3031 4423 \n",
       "Q 3450 4097 3450 3541 \n",
       "Q 3450 3153 3228 2886 \n",
       "Q 3006 2619 2597 2516 \n",
       "z\n",
       "\" transform=\"scale(0.015625)\"/>\n",
       "       </defs>\n",
       "       <use xlink:href=\"#DejaVuSans-44\"/>\n",
       "       <use xlink:href=\"#DejaVuSans-6f\" x=\"77.001953\"/>\n",
       "       <use xlink:href=\"#DejaVuSans-63\" x=\"138.183594\"/>\n",
       "       <use xlink:href=\"#DejaVuSans-74\" x=\"193.164062\"/>\n",
       "       <use xlink:href=\"#DejaVuSans-6f\" x=\"232.373047\"/>\n",
       "       <use xlink:href=\"#DejaVuSans-72\" x=\"293.554688\"/>\n",
       "       <use xlink:href=\"#DejaVuSans-20\" x=\"334.667969\"/>\n",
       "       <use xlink:href=\"#DejaVuSans-33\" x=\"366.455078\"/>\n",
       "      </g>\n",
       "     </g>\n",
       "    </g>\n",
       "   </g>\n",
       "   <g id=\"matplotlib.axis_2\">\n",
       "    <g id=\"ytick_1\">\n",
       "     <g id=\"line2d_4\">\n",
       "      <defs>\n",
       "       <path id=\"mb5fd7afeda\" d=\"M 0 0 \n",
       "L -3.5 0 \n",
       "\" style=\"stroke: #000000; stroke-width: 0.8\"/>\n",
       "      </defs>\n",
       "      <g>\n",
       "       <use xlink:href=\"#mb5fd7afeda\" x=\"75.804\" y=\"66.672\" style=\"stroke: #000000; stroke-width: 0.8\"/>\n",
       "      </g>\n",
       "     </g>\n",
       "     <g id=\"text_4\">\n",
       "      <!-- Doctor 1 -->\n",
       "      <g transform=\"translate(25.796188 70.471219) scale(0.1 -0.1)\">\n",
       "       <use xlink:href=\"#DejaVuSans-44\"/>\n",
       "       <use xlink:href=\"#DejaVuSans-6f\" x=\"77.001953\"/>\n",
       "       <use xlink:href=\"#DejaVuSans-63\" x=\"138.183594\"/>\n",
       "       <use xlink:href=\"#DejaVuSans-74\" x=\"193.164062\"/>\n",
       "       <use xlink:href=\"#DejaVuSans-6f\" x=\"232.373047\"/>\n",
       "       <use xlink:href=\"#DejaVuSans-72\" x=\"293.554688\"/>\n",
       "       <use xlink:href=\"#DejaVuSans-20\" x=\"334.667969\"/>\n",
       "       <use xlink:href=\"#DejaVuSans-31\" x=\"366.455078\"/>\n",
       "      </g>\n",
       "     </g>\n",
       "    </g>\n",
       "    <g id=\"ytick_2\">\n",
       "     <g id=\"line2d_5\">\n",
       "      <g>\n",
       "       <use xlink:href=\"#mb5fd7afeda\" x=\"75.804\" y=\"155.376\" style=\"stroke: #000000; stroke-width: 0.8\"/>\n",
       "      </g>\n",
       "     </g>\n",
       "     <g id=\"text_5\">\n",
       "      <!-- Doctor 2 -->\n",
       "      <g transform=\"translate(25.796188 159.175219) scale(0.1 -0.1)\">\n",
       "       <use xlink:href=\"#DejaVuSans-44\"/>\n",
       "       <use xlink:href=\"#DejaVuSans-6f\" x=\"77.001953\"/>\n",
       "       <use xlink:href=\"#DejaVuSans-63\" x=\"138.183594\"/>\n",
       "       <use xlink:href=\"#DejaVuSans-74\" x=\"193.164062\"/>\n",
       "       <use xlink:href=\"#DejaVuSans-6f\" x=\"232.373047\"/>\n",
       "       <use xlink:href=\"#DejaVuSans-72\" x=\"293.554688\"/>\n",
       "       <use xlink:href=\"#DejaVuSans-20\" x=\"334.667969\"/>\n",
       "       <use xlink:href=\"#DejaVuSans-32\" x=\"366.455078\"/>\n",
       "      </g>\n",
       "     </g>\n",
       "    </g>\n",
       "    <g id=\"ytick_3\">\n",
       "     <g id=\"line2d_6\">\n",
       "      <g>\n",
       "       <use xlink:href=\"#mb5fd7afeda\" x=\"75.804\" y=\"244.08\" style=\"stroke: #000000; stroke-width: 0.8\"/>\n",
       "      </g>\n",
       "     </g>\n",
       "     <g id=\"text_6\">\n",
       "      <!-- Doctor 3 -->\n",
       "      <g transform=\"translate(25.796188 247.879219) scale(0.1 -0.1)\">\n",
       "       <use xlink:href=\"#DejaVuSans-44\"/>\n",
       "       <use xlink:href=\"#DejaVuSans-6f\" x=\"77.001953\"/>\n",
       "       <use xlink:href=\"#DejaVuSans-63\" x=\"138.183594\"/>\n",
       "       <use xlink:href=\"#DejaVuSans-74\" x=\"193.164062\"/>\n",
       "       <use xlink:href=\"#DejaVuSans-6f\" x=\"232.373047\"/>\n",
       "       <use xlink:href=\"#DejaVuSans-72\" x=\"293.554688\"/>\n",
       "       <use xlink:href=\"#DejaVuSans-20\" x=\"334.667969\"/>\n",
       "       <use xlink:href=\"#DejaVuSans-33\" x=\"366.455078\"/>\n",
       "      </g>\n",
       "     </g>\n",
       "    </g>\n",
       "   </g>\n",
       "   <g id=\"patch_3\">\n",
       "    <path d=\"M 75.804 288.432 \n",
       "L 75.804 22.32 \n",
       "\" style=\"fill: none; stroke: #000000; stroke-width: 0.8; stroke-linejoin: miter; stroke-linecap: square\"/>\n",
       "   </g>\n",
       "   <g id=\"patch_4\">\n",
       "    <path d=\"M 341.916 288.432 \n",
       "L 341.916 22.32 \n",
       "\" style=\"fill: none; stroke: #000000; stroke-width: 0.8; stroke-linejoin: miter; stroke-linecap: square\"/>\n",
       "   </g>\n",
       "   <g id=\"patch_5\">\n",
       "    <path d=\"M 75.804 288.432 \n",
       "L 341.916 288.432 \n",
       "\" style=\"fill: none; stroke: #000000; stroke-width: 0.8; stroke-linejoin: miter; stroke-linecap: square\"/>\n",
       "   </g>\n",
       "   <g id=\"patch_6\">\n",
       "    <path d=\"M 75.804 22.32 \n",
       "L 341.916 22.32 \n",
       "\" style=\"fill: none; stroke: #000000; stroke-width: 0.8; stroke-linejoin: miter; stroke-linecap: square\"/>\n",
       "   </g>\n",
       "   <g id=\"text_7\">\n",
       "    <!-- 0.0 -->\n",
       "    <g style=\"fill: #ffffff\" transform=\"translate(112.204437 69.431375) scale(0.1 -0.1)\">\n",
       "     <defs>\n",
       "      <path id=\"DejaVuSans-30\" d=\"M 2034 4250 \n",
       "Q 1547 4250 1301 3770 \n",
       "Q 1056 3291 1056 2328 \n",
       "Q 1056 1369 1301 889 \n",
       "Q 1547 409 2034 409 \n",
       "Q 2525 409 2770 889 \n",
       "Q 3016 1369 3016 2328 \n",
       "Q 3016 3291 2770 3770 \n",
       "Q 2525 4250 2034 4250 \n",
       "z\n",
       "M 2034 4750 \n",
       "Q 2819 4750 3233 4129 \n",
       "Q 3647 3509 3647 2328 \n",
       "Q 3647 1150 3233 529 \n",
       "Q 2819 -91 2034 -91 \n",
       "Q 1250 -91 836 529 \n",
       "Q 422 1150 422 2328 \n",
       "Q 422 3509 836 4129 \n",
       "Q 1250 4750 2034 4750 \n",
       "z\n",
       "\" transform=\"scale(0.015625)\"/>\n",
       "      <path id=\"DejaVuSans-2e\" d=\"M 684 794 \n",
       "L 1344 794 \n",
       "L 1344 0 \n",
       "L 684 0 \n",
       "L 684 794 \n",
       "z\n",
       "\" transform=\"scale(0.015625)\"/>\n",
       "     </defs>\n",
       "     <use xlink:href=\"#DejaVuSans-30\"/>\n",
       "     <use xlink:href=\"#DejaVuSans-2e\" x=\"63.623047\"/>\n",
       "     <use xlink:href=\"#DejaVuSans-30\" x=\"95.410156\"/>\n",
       "    </g>\n",
       "   </g>\n",
       "   <g id=\"text_8\">\n",
       "    <!-- 295.2 -->\n",
       "    <g style=\"fill: #ffffff\" transform=\"translate(194.545937 69.431375) scale(0.1 -0.1)\">\n",
       "     <defs>\n",
       "      <path id=\"DejaVuSans-39\" d=\"M 703 97 \n",
       "L 703 672 \n",
       "Q 941 559 1184 500 \n",
       "Q 1428 441 1663 441 \n",
       "Q 2288 441 2617 861 \n",
       "Q 2947 1281 2994 2138 \n",
       "Q 2813 1869 2534 1725 \n",
       "Q 2256 1581 1919 1581 \n",
       "Q 1219 1581 811 2004 \n",
       "Q 403 2428 403 3163 \n",
       "Q 403 3881 828 4315 \n",
       "Q 1253 4750 1959 4750 \n",
       "Q 2769 4750 3195 4129 \n",
       "Q 3622 3509 3622 2328 \n",
       "Q 3622 1225 3098 567 \n",
       "Q 2575 -91 1691 -91 \n",
       "Q 1453 -91 1209 -44 \n",
       "Q 966 3 703 97 \n",
       "z\n",
       "M 1959 2075 \n",
       "Q 2384 2075 2632 2365 \n",
       "Q 2881 2656 2881 3163 \n",
       "Q 2881 3666 2632 3958 \n",
       "Q 2384 4250 1959 4250 \n",
       "Q 1534 4250 1286 3958 \n",
       "Q 1038 3666 1038 3163 \n",
       "Q 1038 2656 1286 2365 \n",
       "Q 1534 2075 1959 2075 \n",
       "z\n",
       "\" transform=\"scale(0.015625)\"/>\n",
       "      <path id=\"DejaVuSans-35\" d=\"M 691 4666 \n",
       "L 3169 4666 \n",
       "L 3169 4134 \n",
       "L 1269 4134 \n",
       "L 1269 2991 \n",
       "Q 1406 3038 1543 3061 \n",
       "Q 1681 3084 1819 3084 \n",
       "Q 2600 3084 3056 2656 \n",
       "Q 3513 2228 3513 1497 \n",
       "Q 3513 744 3044 326 \n",
       "Q 2575 -91 1722 -91 \n",
       "Q 1428 -91 1123 -41 \n",
       "Q 819 9 494 109 \n",
       "L 494 744 \n",
       "Q 775 591 1075 516 \n",
       "Q 1375 441 1709 441 \n",
       "Q 2250 441 2565 725 \n",
       "Q 2881 1009 2881 1497 \n",
       "Q 2881 1984 2565 2268 \n",
       "Q 2250 2553 1709 2553 \n",
       "Q 1456 2553 1204 2497 \n",
       "Q 953 2441 691 2322 \n",
       "L 691 4666 \n",
       "z\n",
       "\" transform=\"scale(0.015625)\"/>\n",
       "     </defs>\n",
       "     <use xlink:href=\"#DejaVuSans-32\"/>\n",
       "     <use xlink:href=\"#DejaVuSans-39\" x=\"63.623047\"/>\n",
       "     <use xlink:href=\"#DejaVuSans-35\" x=\"127.246094\"/>\n",
       "     <use xlink:href=\"#DejaVuSans-2e\" x=\"190.869141\"/>\n",
       "     <use xlink:href=\"#DejaVuSans-32\" x=\"222.65625\"/>\n",
       "    </g>\n",
       "   </g>\n",
       "   <g id=\"text_9\">\n",
       "    <!-- 203.39 -->\n",
       "    <g style=\"fill: #ffffff\" transform=\"translate(280.068687 69.431375) scale(0.1 -0.1)\">\n",
       "     <use xlink:href=\"#DejaVuSans-32\"/>\n",
       "     <use xlink:href=\"#DejaVuSans-30\" x=\"63.623047\"/>\n",
       "     <use xlink:href=\"#DejaVuSans-33\" x=\"127.246094\"/>\n",
       "     <use xlink:href=\"#DejaVuSans-2e\" x=\"190.869141\"/>\n",
       "     <use xlink:href=\"#DejaVuSans-33\" x=\"222.65625\"/>\n",
       "     <use xlink:href=\"#DejaVuSans-39\" x=\"286.279297\"/>\n",
       "    </g>\n",
       "   </g>\n",
       "   <g id=\"text_10\">\n",
       "    <!-- 295.2 -->\n",
       "    <g style=\"fill: #ffffff\" transform=\"translate(105.841937 158.135375) scale(0.1 -0.1)\">\n",
       "     <use xlink:href=\"#DejaVuSans-32\"/>\n",
       "     <use xlink:href=\"#DejaVuSans-39\" x=\"63.623047\"/>\n",
       "     <use xlink:href=\"#DejaVuSans-35\" x=\"127.246094\"/>\n",
       "     <use xlink:href=\"#DejaVuSans-2e\" x=\"190.869141\"/>\n",
       "     <use xlink:href=\"#DejaVuSans-32\" x=\"222.65625\"/>\n",
       "    </g>\n",
       "   </g>\n",
       "   <g id=\"text_11\">\n",
       "    <!-- 0.0 -->\n",
       "    <g style=\"fill: #ffffff\" transform=\"translate(200.908437 158.135375) scale(0.1 -0.1)\">\n",
       "     <use xlink:href=\"#DejaVuSans-30\"/>\n",
       "     <use xlink:href=\"#DejaVuSans-2e\" x=\"63.623047\"/>\n",
       "     <use xlink:href=\"#DejaVuSans-30\" x=\"95.410156\"/>\n",
       "    </g>\n",
       "   </g>\n",
       "   <g id=\"text_12\">\n",
       "    <!-- 330.57 -->\n",
       "    <g style=\"fill: #ffffff\" transform=\"translate(280.068687 158.135375) scale(0.1 -0.1)\">\n",
       "     <defs>\n",
       "      <path id=\"DejaVuSans-37\" d=\"M 525 4666 \n",
       "L 3525 4666 \n",
       "L 3525 4397 \n",
       "L 1831 0 \n",
       "L 1172 0 \n",
       "L 2766 4134 \n",
       "L 525 4134 \n",
       "L 525 4666 \n",
       "z\n",
       "\" transform=\"scale(0.015625)\"/>\n",
       "     </defs>\n",
       "     <use xlink:href=\"#DejaVuSans-33\"/>\n",
       "     <use xlink:href=\"#DejaVuSans-33\" x=\"63.623047\"/>\n",
       "     <use xlink:href=\"#DejaVuSans-30\" x=\"127.246094\"/>\n",
       "     <use xlink:href=\"#DejaVuSans-2e\" x=\"190.869141\"/>\n",
       "     <use xlink:href=\"#DejaVuSans-35\" x=\"222.65625\"/>\n",
       "     <use xlink:href=\"#DejaVuSans-37\" x=\"286.279297\"/>\n",
       "    </g>\n",
       "   </g>\n",
       "   <g id=\"text_13\">\n",
       "    <!-- 203.39 -->\n",
       "    <g style=\"fill: #ffffff\" transform=\"translate(102.660687 246.839375) scale(0.1 -0.1)\">\n",
       "     <use xlink:href=\"#DejaVuSans-32\"/>\n",
       "     <use xlink:href=\"#DejaVuSans-30\" x=\"63.623047\"/>\n",
       "     <use xlink:href=\"#DejaVuSans-33\" x=\"127.246094\"/>\n",
       "     <use xlink:href=\"#DejaVuSans-2e\" x=\"190.869141\"/>\n",
       "     <use xlink:href=\"#DejaVuSans-33\" x=\"222.65625\"/>\n",
       "     <use xlink:href=\"#DejaVuSans-39\" x=\"286.279297\"/>\n",
       "    </g>\n",
       "   </g>\n",
       "   <g id=\"text_14\">\n",
       "    <!-- 330.57 -->\n",
       "    <g style=\"fill: #ffffff\" transform=\"translate(191.364687 246.839375) scale(0.1 -0.1)\">\n",
       "     <use xlink:href=\"#DejaVuSans-33\"/>\n",
       "     <use xlink:href=\"#DejaVuSans-33\" x=\"63.623047\"/>\n",
       "     <use xlink:href=\"#DejaVuSans-30\" x=\"127.246094\"/>\n",
       "     <use xlink:href=\"#DejaVuSans-2e\" x=\"190.869141\"/>\n",
       "     <use xlink:href=\"#DejaVuSans-35\" x=\"222.65625\"/>\n",
       "     <use xlink:href=\"#DejaVuSans-37\" x=\"286.279297\"/>\n",
       "    </g>\n",
       "   </g>\n",
       "   <g id=\"text_15\">\n",
       "    <!-- 0.0 -->\n",
       "    <g style=\"fill: #ffffff\" transform=\"translate(289.612437 246.839375) scale(0.1 -0.1)\">\n",
       "     <use xlink:href=\"#DejaVuSans-30\"/>\n",
       "     <use xlink:href=\"#DejaVuSans-2e\" x=\"63.623047\"/>\n",
       "     <use xlink:href=\"#DejaVuSans-30\" x=\"95.410156\"/>\n",
       "    </g>\n",
       "   </g>\n",
       "   <g id=\"text_16\">\n",
       "    <!-- Average number of seconds where Doctor $i$ disagrees with Doctor $j$ -->\n",
       "    <g transform=\"translate(7.2 16.32) scale(0.12 -0.12)\">\n",
       "     <defs>\n",
       "      <path id=\"DejaVuSans-41\" d=\"M 2188 4044 \n",
       "L 1331 1722 \n",
       "L 3047 1722 \n",
       "L 2188 4044 \n",
       "z\n",
       "M 1831 4666 \n",
       "L 2547 4666 \n",
       "L 4325 0 \n",
       "L 3669 0 \n",
       "L 3244 1197 \n",
       "L 1141 1197 \n",
       "L 716 0 \n",
       "L 50 0 \n",
       "L 1831 4666 \n",
       "z\n",
       "\" transform=\"scale(0.015625)\"/>\n",
       "      <path id=\"DejaVuSans-76\" d=\"M 191 3500 \n",
       "L 800 3500 \n",
       "L 1894 563 \n",
       "L 2988 3500 \n",
       "L 3597 3500 \n",
       "L 2284 0 \n",
       "L 1503 0 \n",
       "L 191 3500 \n",
       "z\n",
       "\" transform=\"scale(0.015625)\"/>\n",
       "      <path id=\"DejaVuSans-65\" d=\"M 3597 1894 \n",
       "L 3597 1613 \n",
       "L 953 1613 \n",
       "Q 991 1019 1311 708 \n",
       "Q 1631 397 2203 397 \n",
       "Q 2534 397 2845 478 \n",
       "Q 3156 559 3463 722 \n",
       "L 3463 178 \n",
       "Q 3153 47 2828 -22 \n",
       "Q 2503 -91 2169 -91 \n",
       "Q 1331 -91 842 396 \n",
       "Q 353 884 353 1716 \n",
       "Q 353 2575 817 3079 \n",
       "Q 1281 3584 2069 3584 \n",
       "Q 2775 3584 3186 3129 \n",
       "Q 3597 2675 3597 1894 \n",
       "z\n",
       "M 3022 2063 \n",
       "Q 3016 2534 2758 2815 \n",
       "Q 2500 3097 2075 3097 \n",
       "Q 1594 3097 1305 2825 \n",
       "Q 1016 2553 972 2059 \n",
       "L 3022 2063 \n",
       "z\n",
       "\" transform=\"scale(0.015625)\"/>\n",
       "      <path id=\"DejaVuSans-61\" d=\"M 2194 1759 \n",
       "Q 1497 1759 1228 1600 \n",
       "Q 959 1441 959 1056 \n",
       "Q 959 750 1161 570 \n",
       "Q 1363 391 1709 391 \n",
       "Q 2188 391 2477 730 \n",
       "Q 2766 1069 2766 1631 \n",
       "L 2766 1759 \n",
       "L 2194 1759 \n",
       "z\n",
       "M 3341 1997 \n",
       "L 3341 0 \n",
       "L 2766 0 \n",
       "L 2766 531 \n",
       "Q 2569 213 2275 61 \n",
       "Q 1981 -91 1556 -91 \n",
       "Q 1019 -91 701 211 \n",
       "Q 384 513 384 1019 \n",
       "Q 384 1609 779 1909 \n",
       "Q 1175 2209 1959 2209 \n",
       "L 2766 2209 \n",
       "L 2766 2266 \n",
       "Q 2766 2663 2505 2880 \n",
       "Q 2244 3097 1772 3097 \n",
       "Q 1472 3097 1187 3025 \n",
       "Q 903 2953 641 2809 \n",
       "L 641 3341 \n",
       "Q 956 3463 1253 3523 \n",
       "Q 1550 3584 1831 3584 \n",
       "Q 2591 3584 2966 3190 \n",
       "Q 3341 2797 3341 1997 \n",
       "z\n",
       "\" transform=\"scale(0.015625)\"/>\n",
       "      <path id=\"DejaVuSans-67\" d=\"M 2906 1791 \n",
       "Q 2906 2416 2648 2759 \n",
       "Q 2391 3103 1925 3103 \n",
       "Q 1463 3103 1205 2759 \n",
       "Q 947 2416 947 1791 \n",
       "Q 947 1169 1205 825 \n",
       "Q 1463 481 1925 481 \n",
       "Q 2391 481 2648 825 \n",
       "Q 2906 1169 2906 1791 \n",
       "z\n",
       "M 3481 434 \n",
       "Q 3481 -459 3084 -895 \n",
       "Q 2688 -1331 1869 -1331 \n",
       "Q 1566 -1331 1297 -1286 \n",
       "Q 1028 -1241 775 -1147 \n",
       "L 775 -588 \n",
       "Q 1028 -725 1275 -790 \n",
       "Q 1522 -856 1778 -856 \n",
       "Q 2344 -856 2625 -561 \n",
       "Q 2906 -266 2906 331 \n",
       "L 2906 616 \n",
       "Q 2728 306 2450 153 \n",
       "Q 2172 0 1784 0 \n",
       "Q 1141 0 747 490 \n",
       "Q 353 981 353 1791 \n",
       "Q 353 2603 747 3093 \n",
       "Q 1141 3584 1784 3584 \n",
       "Q 2172 3584 2450 3431 \n",
       "Q 2728 3278 2906 2969 \n",
       "L 2906 3500 \n",
       "L 3481 3500 \n",
       "L 3481 434 \n",
       "z\n",
       "\" transform=\"scale(0.015625)\"/>\n",
       "      <path id=\"DejaVuSans-6e\" d=\"M 3513 2113 \n",
       "L 3513 0 \n",
       "L 2938 0 \n",
       "L 2938 2094 \n",
       "Q 2938 2591 2744 2837 \n",
       "Q 2550 3084 2163 3084 \n",
       "Q 1697 3084 1428 2787 \n",
       "Q 1159 2491 1159 1978 \n",
       "L 1159 0 \n",
       "L 581 0 \n",
       "L 581 3500 \n",
       "L 1159 3500 \n",
       "L 1159 2956 \n",
       "Q 1366 3272 1645 3428 \n",
       "Q 1925 3584 2291 3584 \n",
       "Q 2894 3584 3203 3211 \n",
       "Q 3513 2838 3513 2113 \n",
       "z\n",
       "\" transform=\"scale(0.015625)\"/>\n",
       "      <path id=\"DejaVuSans-75\" d=\"M 544 1381 \n",
       "L 544 3500 \n",
       "L 1119 3500 \n",
       "L 1119 1403 \n",
       "Q 1119 906 1312 657 \n",
       "Q 1506 409 1894 409 \n",
       "Q 2359 409 2629 706 \n",
       "Q 2900 1003 2900 1516 \n",
       "L 2900 3500 \n",
       "L 3475 3500 \n",
       "L 3475 0 \n",
       "L 2900 0 \n",
       "L 2900 538 \n",
       "Q 2691 219 2414 64 \n",
       "Q 2138 -91 1772 -91 \n",
       "Q 1169 -91 856 284 \n",
       "Q 544 659 544 1381 \n",
       "z\n",
       "M 1991 3584 \n",
       "L 1991 3584 \n",
       "z\n",
       "\" transform=\"scale(0.015625)\"/>\n",
       "      <path id=\"DejaVuSans-6d\" d=\"M 3328 2828 \n",
       "Q 3544 3216 3844 3400 \n",
       "Q 4144 3584 4550 3584 \n",
       "Q 5097 3584 5394 3201 \n",
       "Q 5691 2819 5691 2113 \n",
       "L 5691 0 \n",
       "L 5113 0 \n",
       "L 5113 2094 \n",
       "Q 5113 2597 4934 2840 \n",
       "Q 4756 3084 4391 3084 \n",
       "Q 3944 3084 3684 2787 \n",
       "Q 3425 2491 3425 1978 \n",
       "L 3425 0 \n",
       "L 2847 0 \n",
       "L 2847 2094 \n",
       "Q 2847 2600 2669 2842 \n",
       "Q 2491 3084 2119 3084 \n",
       "Q 1678 3084 1418 2786 \n",
       "Q 1159 2488 1159 1978 \n",
       "L 1159 0 \n",
       "L 581 0 \n",
       "L 581 3500 \n",
       "L 1159 3500 \n",
       "L 1159 2956 \n",
       "Q 1356 3278 1631 3431 \n",
       "Q 1906 3584 2284 3584 \n",
       "Q 2666 3584 2933 3390 \n",
       "Q 3200 3197 3328 2828 \n",
       "z\n",
       "\" transform=\"scale(0.015625)\"/>\n",
       "      <path id=\"DejaVuSans-62\" d=\"M 3116 1747 \n",
       "Q 3116 2381 2855 2742 \n",
       "Q 2594 3103 2138 3103 \n",
       "Q 1681 3103 1420 2742 \n",
       "Q 1159 2381 1159 1747 \n",
       "Q 1159 1113 1420 752 \n",
       "Q 1681 391 2138 391 \n",
       "Q 2594 391 2855 752 \n",
       "Q 3116 1113 3116 1747 \n",
       "z\n",
       "M 1159 2969 \n",
       "Q 1341 3281 1617 3432 \n",
       "Q 1894 3584 2278 3584 \n",
       "Q 2916 3584 3314 3078 \n",
       "Q 3713 2572 3713 1747 \n",
       "Q 3713 922 3314 415 \n",
       "Q 2916 -91 2278 -91 \n",
       "Q 1894 -91 1617 61 \n",
       "Q 1341 213 1159 525 \n",
       "L 1159 0 \n",
       "L 581 0 \n",
       "L 581 4863 \n",
       "L 1159 4863 \n",
       "L 1159 2969 \n",
       "z\n",
       "\" transform=\"scale(0.015625)\"/>\n",
       "      <path id=\"DejaVuSans-66\" d=\"M 2375 4863 \n",
       "L 2375 4384 \n",
       "L 1825 4384 \n",
       "Q 1516 4384 1395 4259 \n",
       "Q 1275 4134 1275 3809 \n",
       "L 1275 3500 \n",
       "L 2222 3500 \n",
       "L 2222 3053 \n",
       "L 1275 3053 \n",
       "L 1275 0 \n",
       "L 697 0 \n",
       "L 697 3053 \n",
       "L 147 3053 \n",
       "L 147 3500 \n",
       "L 697 3500 \n",
       "L 697 3744 \n",
       "Q 697 4328 969 4595 \n",
       "Q 1241 4863 1831 4863 \n",
       "L 2375 4863 \n",
       "z\n",
       "\" transform=\"scale(0.015625)\"/>\n",
       "      <path id=\"DejaVuSans-73\" d=\"M 2834 3397 \n",
       "L 2834 2853 \n",
       "Q 2591 2978 2328 3040 \n",
       "Q 2066 3103 1784 3103 \n",
       "Q 1356 3103 1142 2972 \n",
       "Q 928 2841 928 2578 \n",
       "Q 928 2378 1081 2264 \n",
       "Q 1234 2150 1697 2047 \n",
       "L 1894 2003 \n",
       "Q 2506 1872 2764 1633 \n",
       "Q 3022 1394 3022 966 \n",
       "Q 3022 478 2636 193 \n",
       "Q 2250 -91 1575 -91 \n",
       "Q 1294 -91 989 -36 \n",
       "Q 684 19 347 128 \n",
       "L 347 722 \n",
       "Q 666 556 975 473 \n",
       "Q 1284 391 1588 391 \n",
       "Q 1994 391 2212 530 \n",
       "Q 2431 669 2431 922 \n",
       "Q 2431 1156 2273 1281 \n",
       "Q 2116 1406 1581 1522 \n",
       "L 1381 1569 \n",
       "Q 847 1681 609 1914 \n",
       "Q 372 2147 372 2553 \n",
       "Q 372 3047 722 3315 \n",
       "Q 1072 3584 1716 3584 \n",
       "Q 2034 3584 2315 3537 \n",
       "Q 2597 3491 2834 3397 \n",
       "z\n",
       "\" transform=\"scale(0.015625)\"/>\n",
       "      <path id=\"DejaVuSans-64\" d=\"M 2906 2969 \n",
       "L 2906 4863 \n",
       "L 3481 4863 \n",
       "L 3481 0 \n",
       "L 2906 0 \n",
       "L 2906 525 \n",
       "Q 2725 213 2448 61 \n",
       "Q 2172 -91 1784 -91 \n",
       "Q 1150 -91 751 415 \n",
       "Q 353 922 353 1747 \n",
       "Q 353 2572 751 3078 \n",
       "Q 1150 3584 1784 3584 \n",
       "Q 2172 3584 2448 3432 \n",
       "Q 2725 3281 2906 2969 \n",
       "z\n",
       "M 947 1747 \n",
       "Q 947 1113 1208 752 \n",
       "Q 1469 391 1925 391 \n",
       "Q 2381 391 2643 752 \n",
       "Q 2906 1113 2906 1747 \n",
       "Q 2906 2381 2643 2742 \n",
       "Q 2381 3103 1925 3103 \n",
       "Q 1469 3103 1208 2742 \n",
       "Q 947 2381 947 1747 \n",
       "z\n",
       "\" transform=\"scale(0.015625)\"/>\n",
       "      <path id=\"DejaVuSans-77\" d=\"M 269 3500 \n",
       "L 844 3500 \n",
       "L 1563 769 \n",
       "L 2278 3500 \n",
       "L 2956 3500 \n",
       "L 3675 769 \n",
       "L 4391 3500 \n",
       "L 4966 3500 \n",
       "L 4050 0 \n",
       "L 3372 0 \n",
       "L 2619 2869 \n",
       "L 1863 0 \n",
       "L 1184 0 \n",
       "L 269 3500 \n",
       "z\n",
       "\" transform=\"scale(0.015625)\"/>\n",
       "      <path id=\"DejaVuSans-68\" d=\"M 3513 2113 \n",
       "L 3513 0 \n",
       "L 2938 0 \n",
       "L 2938 2094 \n",
       "Q 2938 2591 2744 2837 \n",
       "Q 2550 3084 2163 3084 \n",
       "Q 1697 3084 1428 2787 \n",
       "Q 1159 2491 1159 1978 \n",
       "L 1159 0 \n",
       "L 581 0 \n",
       "L 581 4863 \n",
       "L 1159 4863 \n",
       "L 1159 2956 \n",
       "Q 1366 3272 1645 3428 \n",
       "Q 1925 3584 2291 3584 \n",
       "Q 2894 3584 3203 3211 \n",
       "Q 3513 2838 3513 2113 \n",
       "z\n",
       "\" transform=\"scale(0.015625)\"/>\n",
       "      <path id=\"DejaVuSans-Oblique-69\" d=\"M 1172 4863 \n",
       "L 1747 4863 \n",
       "L 1606 4134 \n",
       "L 1031 4134 \n",
       "L 1172 4863 \n",
       "z\n",
       "M 909 3500 \n",
       "L 1484 3500 \n",
       "L 800 0 \n",
       "L 225 0 \n",
       "L 909 3500 \n",
       "z\n",
       "\" transform=\"scale(0.015625)\"/>\n",
       "      <path id=\"DejaVuSans-69\" d=\"M 603 3500 \n",
       "L 1178 3500 \n",
       "L 1178 0 \n",
       "L 603 0 \n",
       "L 603 3500 \n",
       "z\n",
       "M 603 4863 \n",
       "L 1178 4863 \n",
       "L 1178 4134 \n",
       "L 603 4134 \n",
       "L 603 4863 \n",
       "z\n",
       "\" transform=\"scale(0.015625)\"/>\n",
       "      <path id=\"DejaVuSans-Oblique-6a\" d=\"M 928 3500 \n",
       "L 1503 3500 \n",
       "L 813 -63 \n",
       "L 809 -78 \n",
       "Q 694 -675 544 -897 \n",
       "Q 403 -1106 132 -1218 \n",
       "Q -138 -1331 -506 -1331 \n",
       "L -722 -1331 \n",
       "L -628 -844 \n",
       "L -481 -844 \n",
       "Q -144 -844 -1 -703 \n",
       "Q 141 -563 238 -63 \n",
       "L 928 3500 \n",
       "z\n",
       "M 1197 4863 \n",
       "L 1772 4863 \n",
       "L 1631 4134 \n",
       "L 1056 4134 \n",
       "L 1197 4863 \n",
       "z\n",
       "\" transform=\"scale(0.015625)\"/>\n",
       "     </defs>\n",
       "     <use xlink:href=\"#DejaVuSans-41\" transform=\"translate(0 0.015625)\"/>\n",
       "     <use xlink:href=\"#DejaVuSans-76\" transform=\"translate(68.408203 0.015625)\"/>\n",
       "     <use xlink:href=\"#DejaVuSans-65\" transform=\"translate(127.587891 0.015625)\"/>\n",
       "     <use xlink:href=\"#DejaVuSans-72\" transform=\"translate(189.111328 0.015625)\"/>\n",
       "     <use xlink:href=\"#DejaVuSans-61\" transform=\"translate(230.224609 0.015625)\"/>\n",
       "     <use xlink:href=\"#DejaVuSans-67\" transform=\"translate(291.503906 0.015625)\"/>\n",
       "     <use xlink:href=\"#DejaVuSans-65\" transform=\"translate(354.980469 0.015625)\"/>\n",
       "     <use xlink:href=\"#DejaVuSans-20\" transform=\"translate(416.503906 0.015625)\"/>\n",
       "     <use xlink:href=\"#DejaVuSans-6e\" transform=\"translate(448.291016 0.015625)\"/>\n",
       "     <use xlink:href=\"#DejaVuSans-75\" transform=\"translate(511.669922 0.015625)\"/>\n",
       "     <use xlink:href=\"#DejaVuSans-6d\" transform=\"translate(575.048828 0.015625)\"/>\n",
       "     <use xlink:href=\"#DejaVuSans-62\" transform=\"translate(672.460938 0.015625)\"/>\n",
       "     <use xlink:href=\"#DejaVuSans-65\" transform=\"translate(735.9375 0.015625)\"/>\n",
       "     <use xlink:href=\"#DejaVuSans-72\" transform=\"translate(797.460938 0.015625)\"/>\n",
       "     <use xlink:href=\"#DejaVuSans-20\" transform=\"translate(838.574219 0.015625)\"/>\n",
       "     <use xlink:href=\"#DejaVuSans-6f\" transform=\"translate(870.361328 0.015625)\"/>\n",
       "     <use xlink:href=\"#DejaVuSans-66\" transform=\"translate(931.542969 0.015625)\"/>\n",
       "     <use xlink:href=\"#DejaVuSans-20\" transform=\"translate(966.748047 0.015625)\"/>\n",
       "     <use xlink:href=\"#DejaVuSans-73\" transform=\"translate(998.535156 0.015625)\"/>\n",
       "     <use xlink:href=\"#DejaVuSans-65\" transform=\"translate(1050.634766 0.015625)\"/>\n",
       "     <use xlink:href=\"#DejaVuSans-63\" transform=\"translate(1112.158203 0.015625)\"/>\n",
       "     <use xlink:href=\"#DejaVuSans-6f\" transform=\"translate(1167.138672 0.015625)\"/>\n",
       "     <use xlink:href=\"#DejaVuSans-6e\" transform=\"translate(1228.320312 0.015625)\"/>\n",
       "     <use xlink:href=\"#DejaVuSans-64\" transform=\"translate(1291.699219 0.015625)\"/>\n",
       "     <use xlink:href=\"#DejaVuSans-73\" transform=\"translate(1355.175781 0.015625)\"/>\n",
       "     <use xlink:href=\"#DejaVuSans-20\" transform=\"translate(1407.275391 0.015625)\"/>\n",
       "     <use xlink:href=\"#DejaVuSans-77\" transform=\"translate(1439.0625 0.015625)\"/>\n",
       "     <use xlink:href=\"#DejaVuSans-68\" transform=\"translate(1520.849609 0.015625)\"/>\n",
       "     <use xlink:href=\"#DejaVuSans-65\" transform=\"translate(1584.228516 0.015625)\"/>\n",
       "     <use xlink:href=\"#DejaVuSans-72\" transform=\"translate(1645.751953 0.015625)\"/>\n",
       "     <use xlink:href=\"#DejaVuSans-65\" transform=\"translate(1686.865234 0.015625)\"/>\n",
       "     <use xlink:href=\"#DejaVuSans-20\" transform=\"translate(1748.388672 0.015625)\"/>\n",
       "     <use xlink:href=\"#DejaVuSans-44\" transform=\"translate(1780.175781 0.015625)\"/>\n",
       "     <use xlink:href=\"#DejaVuSans-6f\" transform=\"translate(1857.177734 0.015625)\"/>\n",
       "     <use xlink:href=\"#DejaVuSans-63\" transform=\"translate(1918.359375 0.015625)\"/>\n",
       "     <use xlink:href=\"#DejaVuSans-74\" transform=\"translate(1973.339844 0.015625)\"/>\n",
       "     <use xlink:href=\"#DejaVuSans-6f\" transform=\"translate(2012.548828 0.015625)\"/>\n",
       "     <use xlink:href=\"#DejaVuSans-72\" transform=\"translate(2073.730469 0.015625)\"/>\n",
       "     <use xlink:href=\"#DejaVuSans-20\" transform=\"translate(2114.84375 0.015625)\"/>\n",
       "     <use xlink:href=\"#DejaVuSans-Oblique-69\" transform=\"translate(2146.630859 0.015625)\"/>\n",
       "     <use xlink:href=\"#DejaVuSans-20\" transform=\"translate(2174.414062 0.015625)\"/>\n",
       "     <use xlink:href=\"#DejaVuSans-64\" transform=\"translate(2206.201172 0.015625)\"/>\n",
       "     <use xlink:href=\"#DejaVuSans-69\" transform=\"translate(2269.677734 0.015625)\"/>\n",
       "     <use xlink:href=\"#DejaVuSans-73\" transform=\"translate(2297.460938 0.015625)\"/>\n",
       "     <use xlink:href=\"#DejaVuSans-61\" transform=\"translate(2349.560547 0.015625)\"/>\n",
       "     <use xlink:href=\"#DejaVuSans-67\" transform=\"translate(2410.839844 0.015625)\"/>\n",
       "     <use xlink:href=\"#DejaVuSans-72\" transform=\"translate(2474.316406 0.015625)\"/>\n",
       "     <use xlink:href=\"#DejaVuSans-65\" transform=\"translate(2515.429688 0.015625)\"/>\n",
       "     <use xlink:href=\"#DejaVuSans-65\" transform=\"translate(2576.953125 0.015625)\"/>\n",
       "     <use xlink:href=\"#DejaVuSans-73\" transform=\"translate(2638.476562 0.015625)\"/>\n",
       "     <use xlink:href=\"#DejaVuSans-20\" transform=\"translate(2690.576172 0.015625)\"/>\n",
       "     <use xlink:href=\"#DejaVuSans-77\" transform=\"translate(2722.363281 0.015625)\"/>\n",
       "     <use xlink:href=\"#DejaVuSans-69\" transform=\"translate(2804.150391 0.015625)\"/>\n",
       "     <use xlink:href=\"#DejaVuSans-74\" transform=\"translate(2831.933594 0.015625)\"/>\n",
       "     <use xlink:href=\"#DejaVuSans-68\" transform=\"translate(2871.142578 0.015625)\"/>\n",
       "     <use xlink:href=\"#DejaVuSans-20\" transform=\"translate(2934.521484 0.015625)\"/>\n",
       "     <use xlink:href=\"#DejaVuSans-44\" transform=\"translate(2966.308594 0.015625)\"/>\n",
       "     <use xlink:href=\"#DejaVuSans-6f\" transform=\"translate(3043.310547 0.015625)\"/>\n",
       "     <use xlink:href=\"#DejaVuSans-63\" transform=\"translate(3104.492188 0.015625)\"/>\n",
       "     <use xlink:href=\"#DejaVuSans-74\" transform=\"translate(3159.472656 0.015625)\"/>\n",
       "     <use xlink:href=\"#DejaVuSans-6f\" transform=\"translate(3198.681641 0.015625)\"/>\n",
       "     <use xlink:href=\"#DejaVuSans-72\" transform=\"translate(3259.863281 0.015625)\"/>\n",
       "     <use xlink:href=\"#DejaVuSans-20\" transform=\"translate(3300.976562 0.015625)\"/>\n",
       "     <use xlink:href=\"#DejaVuSans-Oblique-6a\" transform=\"translate(3332.763672 0.015625)\"/>\n",
       "    </g>\n",
       "   </g>\n",
       "  </g>\n",
       " </g>\n",
       " <defs>\n",
       "  <clipPath id=\"pd4f8f96add\">\n",
       "   <rect x=\"75.804\" y=\"22.32\" width=\"266.112\" height=\"266.112\"/>\n",
       "  </clipPath>\n",
       " </defs>\n",
       "</svg>\n"
      ],
      "text/plain": [
       "<Figure size 640x480 with 1 Axes>"
      ]
     },
     "metadata": {},
     "output_type": "display_data"
    }
   ],
   "source": [
    "fig, ax = plt.subplots()\n",
    "\n",
    "docs=['Doctor 1','Doctor 2','Doctor 3']\n",
    "\n",
    "im = ax.imshow(sim)\n",
    "\n",
    "ax.set_xticks(np.arange(len(docs)), labels=docs)\n",
    "ax.set_yticks(np.arange(len(docs)), labels=docs)\n",
    "\n",
    "plt.setp(ax.get_xticklabels(), rotation=45, ha=\"right\",\n",
    "         rotation_mode=\"anchor\")\n",
    "\n",
    "plt.title('Average number of seconds where Doctor $i$ disagrees with Doctor $j$')\n",
    "\n",
    "for i in range(len(docs)):\n",
    "    for j in range(len(docs)):\n",
    "        text = ax.text(j, i, round(sim[i, j],2),\n",
    "                       ha=\"center\", va=\"center\", color=\"w\")\n",
    "\n"
   ]
  },
  {
   "cell_type": "code",
   "execution_count": 14,
   "id": "19656273-73c9-44c2-b17d-6a5fcbd09a06",
   "metadata": {},
   "outputs": [],
   "source": [
    "seizure_second_annotations_all_patients=[]\n",
    "for patient_id in annotation_data_A.columns:\n",
    "    secs_annot_A=np.sum(np.array(annotation_data_A[patient_id])[np.array(annotation_data_A[patient_id]>=0)])\n",
    "    secs_annot_B=np.sum(np.array(annotation_data_B[patient_id])[np.array(annotation_data_B[patient_id]>=0)])\n",
    "    secs_annot_C=np.sum(np.array(annotation_data_C[patient_id])[np.array(annotation_data_C[patient_id]>=0)])\n",
    "    seizure_second_annotations_all_patients.append(np.array([secs_annot_A,secs_annot_B,secs_annot_C]))\n",
    "seizure_second_annotations_all_patients=np.array(seizure_second_annotations_all_patients)"
   ]
  },
  {
   "cell_type": "code",
   "execution_count": 15,
   "id": "79ee209f-0a4a-4056-bcdb-db4d74ae37e2",
   "metadata": {},
   "outputs": [
    {
     "data": {
      "text/plain": [
       "array([499.01351351, 672.2972973 , 550.24324324])"
      ]
     },
     "execution_count": 15,
     "metadata": {},
     "output_type": "execute_result"
    }
   ],
   "source": [
    "np.mean(seizure_second_annotations_all_patients,axis=0)"
   ]
  },
  {
   "cell_type": "code",
   "execution_count": 16,
   "id": "d4721a67-3582-4464-baca-f82706a7349e",
   "metadata": {},
   "outputs": [
    {
     "data": {
      "text/plain": [
       "array([ 754.54236163, 1025.55929012,  771.76802653])"
      ]
     },
     "execution_count": 16,
     "metadata": {},
     "output_type": "execute_result"
    }
   ],
   "source": [
    "np.std(seizure_second_annotations_all_patients,axis=0)"
   ]
  },
  {
   "cell_type": "code",
   "execution_count": null,
   "id": "d3cf44b3-c4f0-4523-ad0b-2264d9cbf6c8",
   "metadata": {},
   "outputs": [],
   "source": []
  }
 ],
 "metadata": {
  "kernelspec": {
   "display_name": "Python 3 (ipykernel)",
   "language": "python",
   "name": "python3"
  },
  "language_info": {
   "codemirror_mode": {
    "name": "ipython",
    "version": 3
   },
   "file_extension": ".py",
   "mimetype": "text/x-python",
   "name": "python",
   "nbconvert_exporter": "python",
   "pygments_lexer": "ipython3",
   "version": "3.10.14"
  }
 },
 "nbformat": 4,
 "nbformat_minor": 5
}
